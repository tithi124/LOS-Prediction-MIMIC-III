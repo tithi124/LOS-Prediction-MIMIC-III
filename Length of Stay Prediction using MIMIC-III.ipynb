{
  "cells": [
    {
      "cell_type": "markdown",
      "metadata": {
        "id": "Z4xu8Ou-oHmt"
      },
      "source": [
        "## Length of Stay (LOS) prediction based on MIMIC-III Data"
      ]
    },
    {
      "cell_type": "code",
      "execution_count": null,
      "metadata": {
        "colab": {
          "base_uri": "https://localhost:8080/"
        },
        "id": "kL9qmMd3oS78",
        "outputId": "71a873c7-8397-437c-dd85-41411cd33e80"
      },
      "outputs": [
        {
          "output_type": "stream",
          "name": "stdout",
          "text": [
            "Mounted at /content/drive\n"
          ]
        }
      ],
      "source": [
        "from google.colab import drive\n",
        "drive.mount('/content/drive')"
      ]
    },
    {
      "cell_type": "code",
      "execution_count": null,
      "metadata": {
        "id": "2AF0K95psxhj"
      },
      "outputs": [],
      "source": [
        "# Imports\n",
        "import pandas as pd\n",
        "import numpy as np\n",
        "import matplotlib.pyplot as plt\n",
        "import seaborn as sns\n",
        "from sklearn.model_selection import train_test_split\n",
        "from sklearn.metrics import r2_score, mean_squared_error\n",
        "from sklearn.preprocessing import MinMaxScaler\n",
        "from sklearn.neighbors import KNeighborsRegressor\n",
        "from sklearn.linear_model import LinearRegression\n",
        "from sklearn.svm import SVR\n",
        "from sklearn.ensemble import RandomForestRegressor\n",
        "from sklearn.tree import DecisionTreeRegressor\n",
        "from scipy.stats import pearsonr\n",
        "from sklearn.ensemble import GradientBoostingRegressor\n",
        "from sklearn.linear_model import SGDRegressor\n",
        "import statsmodels.api as sm\n",
        "from sklearn.model_selection import GridSearchCV\n",
        "import seaborn as sns"
      ]
    },
    {
      "cell_type": "markdown",
      "metadata": {
        "id": "_vtw6CIAVINf"
      },
      "source": [
        "**Team 13:**\n",
        "* Tithi Agrawal (tra5235@psu.edu)\n",
        "* Sricharan Boddupalli (sricharanb@psu.edu)\n",
        "\n",
        "**Course:** DAAN 570 – Deep Learning (Spring I, 2023)"
      ]
    },
    {
      "cell_type": "markdown",
      "metadata": {
        "id": "WhCPo9ZQVINf"
      },
      "source": [
        "### Problem Statement\n",
        "* Predict Length of Stay (LOS) based on Clinical signs found in text and considering structured information such as Age, Gender and major ICD Diagnoses\n",
        "    \n",
        "    \n",
        "    \n",
        "* **Keywords:** Feed Forward Neural Network, Fully Convolutional Network, ICD Diagnosis, Regression, Gradient Boost \n",
        "\t"
      ]
    },
    {
      "cell_type": "markdown",
      "metadata": {
        "id": "ZmjCju_TVINf"
      },
      "source": [
        "### Data Collection\n",
        "* Source(url): https://physionet.org/content/mimiciii/1.4/\n",
        "* Short Description : MIMIC-III is a large, freely-available database comprising deidentified health-related data associated with over forty thousand patients who stayed in critical care units of the Beth Israel Deaconess Medical Center between 2001 and 2012. The database includes information such as demographics, vital sign measurements made at the bedside (~1 data point per hour), laboratory test results, procedures, medications, caregiver notes, imaging reports, and mortality (including post-hospital discharge).\n",
        "MIMIC supports a diverse range of analytic studies spanning epidemiology, clinical decision-rule improvement, and electronic tool development. It is notable for three factors: it is freely available to researchers worldwide; it encompasses a diverse and very large population of ICU patients; and it contains highly granular data, including vital signs, laboratory results, and medications.\n",
        "\n",
        "* Keywords: Feed Forward Neural Network, Fully Convolutional Network, ICD Diagnosis, Regression, Gradient Boost"
      ]
    },
    {
      "cell_type": "markdown",
      "source": [
        "# Global Reusable Functions"
      ],
      "metadata": {
        "id": "PBBLFNVLLjXF"
      }
    },
    {
      "cell_type": "code",
      "execution_count": null,
      "metadata": {
        "id": "SERvOLn8YpKd"
      },
      "outputs": [],
      "source": [
        "# Re-usable plotting function\n",
        "def plot_los_groupby(variable, size=(7,4)):\n",
        "    ''' \n",
        "    Plot Median LOS by df categorical series name \n",
        "    '''\n",
        "    results = df[[variable, 'LOS']].groupby(variable).median().reset_index()\n",
        "    values = list(results['LOS'].values)\n",
        "    labels = list(results[variable].values)\n",
        "\n",
        "    fig, ax = plt.subplots(figsize=size)\n",
        "    ind = range(len(results))\n",
        "    ax.barh(ind, values, align='center', height=0.6, color = '#E698E6', alpha=0.8)\n",
        "    ax.set_yticks(ind)\n",
        "    ax.set_yticklabels(labels)\n",
        "    ax.set_xlabel('Median Length of Stay (days)')\n",
        "    ax.tick_params(left=False, top=False, right=False) \n",
        "    ax.set_title('Comparison of {} labels'.format(variable))\n",
        "    \n",
        "    plt.tight_layout()\n",
        "    plt.show();"
      ]
    },
    {
      "cell_type": "code",
      "execution_count": null,
      "metadata": {
        "id": "QxqK7ZhcN5O9"
      },
      "outputs": [],
      "source": [
        "#define metrics function for us to calculate everything at the same place\n",
        "from sklearn.metrics import mean_squared_error, r2_score, mean_absolute_error\n",
        "\n",
        "def perf_metrics(y_test, y_pred, name):\n",
        "  MSE = mean_squared_error(y_test, y_pred)\n",
        "  print(name, \"Mean Squared Error:\", f'{MSE:.2f}')\n",
        "  MAE = mean_absolute_error(y_test, y_pred)\n",
        "  print(name, \"Mean Absolute Error:\", f'{MAE:.2f}')\n",
        "  R2 = r2_score(y_test, y_pred)\n",
        "  print(name, \"R-Squared Value:\", f'{R2:.2f}')\n",
        "  A_R2 = 1 - ((1 - R2) * (n - 1)) / (n - p - 1)\n",
        "  print(name, \"Adjusted R-Squared Value:\", f'{A_R2:.2f}','\\n')"
      ]
    },
    {
      "cell_type": "markdown",
      "source": [
        "# Data Exploration and Feature Engineering"
      ],
      "metadata": {
        "id": "nXqRoIzaGcMw"
      }
    },
    {
      "cell_type": "code",
      "source": [
        "#Import data drom datasets\n",
        "# This data is loaded onto our Google Drives and we retrieve them from there.\n",
        "#If you have your own directory, please feel free to change the file path here (and in the function call mimic_los_cleanup below in the Data Preprocessing Section)\n",
        "df = pd.read_csv('/content/drive/MyDrive/Deep Learning/MIMIC-III CSV Files/ADMISSIONS.csv')\n",
        "df_pat = pd.read_csv('/content/drive/MyDrive/Deep Learning/MIMIC-III CSV Files/PATIENTS.csv')\n",
        "df_diagcode = pd.read_csv('/content/drive/MyDrive/Deep Learning/MIMIC-III CSV Files/DIAGNOSES_ICD.csv') \n",
        "df_icu = pd.read_csv('/content/drive/MyDrive/Deep Learning/MIMIC-III CSV Files/ICUSTAYS.csv')"
      ],
      "metadata": {
        "id": "XnT4GgReGa7u"
      },
      "execution_count": null,
      "outputs": []
    },
    {
      "cell_type": "markdown",
      "source": [
        "## Admissions Exploration"
      ],
      "metadata": {
        "id": "Ee68xThYHGYh"
      }
    },
    {
      "cell_type": "code",
      "source": [
        "#check unique Admission records and Patient Records\n",
        "print('Dataset has {} number of unique admission events.'.format(df['HADM_ID'].nunique()))\n",
        "print('Dataset has {} number of unique patients.'.format(df['SUBJECT_ID'].nunique()))"
      ],
      "metadata": {
        "id": "hj-StYLlHFvF",
        "colab": {
          "base_uri": "https://localhost:8080/"
        },
        "outputId": "2725013f-490f-48f0-9ae2-ea1c68e90289"
      },
      "execution_count": null,
      "outputs": [
        {
          "output_type": "stream",
          "name": "stdout",
          "text": [
            "Dataset has 58976 number of unique admission events.\n",
            "Dataset has 46520 number of unique patients.\n"
          ]
        }
      ]
    },
    {
      "cell_type": "markdown",
      "source": [
        "### Calculate Length of Stay (LOS)\n",
        "This is done by calculating the time between the ADMIT_TIME (Admission Time) and DISCHTIME (Discharge Time)"
      ],
      "metadata": {
        "id": "nR2U4C5aHnE2"
      }
    },
    {
      "cell_type": "code",
      "source": [
        "# Convert admission and discharge times to datatime type\n",
        "df['ADMITTIME'] = pd.to_datetime(df['ADMITTIME'])\n",
        "df['DISCHTIME'] = pd.to_datetime(df['DISCHTIME'])\n",
        "\n",
        "# Convert timedelta type into float 'days', 86400 seconds in a day\n",
        "df['LOS'] = (df['DISCHTIME'] - df['ADMITTIME']).dt.total_seconds()/86400"
      ],
      "metadata": {
        "id": "WMmDyK_dG_tL"
      },
      "execution_count": null,
      "outputs": []
    },
    {
      "cell_type": "markdown",
      "source": [
        "There seem to be some LOS with negative values.\n",
        "\n",
        "This may mean they had passed away before they officially got discharged from the ICU. \n",
        "\n",
        "We can go ahead and drop those datapoints."
      ],
      "metadata": {
        "id": "k_b_0_ThIVzq"
      }
    },
    {
      "cell_type": "code",
      "source": [
        "# Drop LOS < 0 \n",
        "df = df[df['LOS'] > 0]"
      ],
      "metadata": {
        "id": "R4anEqVeIPN4"
      },
      "execution_count": null,
      "outputs": []
    },
    {
      "cell_type": "code",
      "source": [
        "#Check the metrics of LOS\n",
        "df['LOS'].describe()"
      ],
      "metadata": {
        "id": "tStLJBVBIJvj",
        "colab": {
          "base_uri": "https://localhost:8080/"
        },
        "outputId": "19614216-f714-487a-e038-7124a5df3ece"
      },
      "execution_count": null,
      "outputs": [
        {
          "output_type": "execute_result",
          "data": {
            "text/plain": [
              "count    58878.000000\n",
              "mean        10.151266\n",
              "std         12.459774\n",
              "min          0.001389\n",
              "25%          3.755556\n",
              "50%          6.489583\n",
              "75%         11.805556\n",
              "max        294.660417\n",
              "Name: LOS, dtype: float64"
            ]
          },
          "metadata": {},
          "execution_count": 9
        }
      ]
    },
    {
      "cell_type": "code",
      "source": [
        "# Plot LOS Distribution\n",
        "plt.hist(df['LOS'], bins=200, color = '#E698E6')\n",
        "plt.xlim(0, 50)\n",
        "plt.title('Distribution of LOS for all hospital admissions \\n incl. deceased')\n",
        "plt.ylabel('Count')\n",
        "plt.xlabel('Length-of-Stay (days)')\n",
        "plt.tick_params(top=False, right=False) \n",
        "plt.show();"
      ],
      "metadata": {
        "id": "I0CopBmaI6I2",
        "colab": {
          "base_uri": "https://localhost:8080/",
          "height": 310
        },
        "outputId": "f0dc4464-2b8c-468c-aea3-8af514bac488"
      },
      "execution_count": null,
      "outputs": [
        {
          "output_type": "display_data",
          "data": {
            "text/plain": [
              "<Figure size 432x288 with 1 Axes>"
            ],
            "image/png": "[encoded data removed]"
          },
          "metadata": {
            "needs_background": "light"
          }
        }
      ]
    },
    {
      "cell_type": "markdown",
      "source": [
        "We can drop some columns we don't need anymore."
      ],
      "metadata": {
        "id": "MFVWYXG7JBuR"
      }
    },
    {
      "cell_type": "code",
      "source": [
        "# Drop DISCHTIME, ROW_ID etc.\n",
        "df.drop(columns=['DISCHTIME', 'ROW_ID', \n",
        "                'EDREGTIME', 'EDOUTTIME', 'HOSPITAL_EXPIRE_FLAG',\n",
        "                'HAS_CHARTEVENTS_DATA'], inplace=True)"
      ],
      "metadata": {
        "id": "LFEOJtaqJBAC"
      },
      "execution_count": null,
      "outputs": []
    },
    {
      "cell_type": "markdown",
      "source": [
        "### Death Time\n",
        "\n",
        "Patients who have died in the hospital were seen to have a negative LOS as they were never discharged before they passed away.\n",
        "\n",
        "So, we have to calculate their LOS till the time they passed away."
      ],
      "metadata": {
        "id": "i1f_yyOQJ_3M"
      }
    },
    {
      "cell_type": "code",
      "execution_count": null,
      "metadata": {
        "id": "sz6tTKYXYpKc"
      },
      "outputs": [],
      "source": [
        "# Mark admissions where patients died in boolean column\n",
        "df['DECEASED'] = df['DEATHTIME'].notnull().map({True:1, False:0})"
      ]
    },
    {
      "cell_type": "code",
      "execution_count": null,
      "metadata": {
        "id": "xglnOm6jYpKc",
        "outputId": "65621bab-c8e6-40bd-80a9-9b5d451d2f4a",
        "colab": {
          "base_uri": "https://localhost:8080/"
        }
      },
      "outputs": [
        {
          "output_type": "stream",
          "name": "stdout",
          "text": [
            "5774 of 46445 patients died in the hospital\n"
          ]
        }
      ],
      "source": [
        "print(\"{} of {} patients died in the hospital\".format(df['DECEASED'].sum(),df['SUBJECT_ID'].nunique()))"
      ]
    },
    {
      "cell_type": "code",
      "execution_count": null,
      "metadata": {
        "id": "FwfHt1LSYpKc",
        "outputId": "9465ba5b-db2b-416e-e194-248542dd4bbf",
        "colab": {
          "base_uri": "https://localhost:8080/"
        }
      },
      "outputs": [
        {
          "output_type": "execute_result",
          "data": {
            "text/plain": [
              "count    53104.000000\n",
              "mean        10.138174\n",
              "std         12.284461\n",
              "min          0.014583\n",
              "25%          3.866667\n",
              "50%          6.565972\n",
              "75%         11.711632\n",
              "max        294.660417\n",
              "Name: LOS, dtype: float64"
            ]
          },
          "metadata": {},
          "execution_count": 15
        }
      ],
      "source": [
        "# Look at statistics less admissions resulting in death\n",
        "df['LOS'].loc[df['DECEASED'] == 0].describe()"
      ]
    },
    {
      "cell_type": "code",
      "execution_count": null,
      "metadata": {
        "id": "s1V6xViSYpKc",
        "outputId": "2c5e7c8d-f181-4eea-8d43-12cc4e0a0fc6",
        "colab": {
          "base_uri": "https://localhost:8080/"
        }
      },
      "outputs": [
        {
          "output_type": "stream",
          "name": "stdout",
          "text": [
            "10.138173704219813\n",
            "6.565972222222222\n"
          ]
        }
      ],
      "source": [
        "# Hospital LOS metrics for later comparison\n",
        "actual_mean_los = df['LOS'].loc[df['DECEASED'] == 0].mean() \n",
        "actual_median_los = df['LOS'].loc[df['DECEASED'] == 0].median() \n",
        "\n",
        "print(actual_mean_los)\n",
        "print(actual_median_los)"
      ]
    },
    {
      "cell_type": "code",
      "execution_count": null,
      "metadata": {
        "id": "JXlJnHyNYpKc",
        "outputId": "2af40fe9-de9d-457d-ad33-62ebc8dd79f6",
        "colab": {
          "base_uri": "https://localhost:8080/",
          "height": 295
        }
      },
      "outputs": [
        {
          "output_type": "display_data",
          "data": {
            "text/plain": [
              "<Figure size 432x288 with 1 Axes>"
            ],
            "image/png": "[encoded data removed]"
          },
          "metadata": {
            "needs_background": "light"
          }
        }
      ],
      "source": [
        "plt.hist(df['LOS'].loc[df['DECEASED'] == 0], bins=200, color = '#E698E6')\n",
        "plt.xlim(0, 50)\n",
        "plt.title('Distribution of LOS for hospital admissions')\n",
        "plt.ylabel('Count')\n",
        "plt.xlabel('Length-of-Stay (days)')\n",
        "plt.tick_params(top=False, right=False) \n",
        "plt.show();"
      ]
    },
    {
      "cell_type": "markdown",
      "metadata": {
        "id": "DR4Vw1YNYpKc"
      },
      "source": [
        "### Ethnicity \n",
        "\n",
        "Given the large amount of categories in the 'ETHNICITY' series, it helps to reduce the column to a few categories. \n",
        "\n",
        "Interestingly, Asians have the lowest median LOS. "
      ]
    },
    {
      "cell_type": "code",
      "execution_count": null,
      "metadata": {
        "id": "4TLaeeIsYpKc",
        "outputId": "317ffb8f-4fd3-4b5e-febb-e7ec22d0d4ef",
        "colab": {
          "base_uri": "https://localhost:8080/"
        }
      },
      "outputs": [
        {
          "output_type": "execute_result",
          "data": {
            "text/plain": [
              "WHITE                                                       40939\n",
              "BLACK/AFRICAN AMERICAN                                       5434\n",
              "UNKNOWN/NOT SPECIFIED                                        4502\n",
              "HISPANIC OR LATINO                                           1693\n",
              "ASIAN                                                        1508\n",
              "OTHER                                                        1507\n",
              "UNABLE TO OBTAIN                                              809\n",
              "PATIENT DECLINED TO ANSWER                                    559\n",
              "ASIAN - CHINESE                                               277\n",
              "HISPANIC/LATINO - PUERTO RICAN                                232\n",
              "BLACK/CAPE VERDEAN                                            200\n",
              "WHITE - RUSSIAN                                               164\n",
              "MULTI RACE ETHNICITY                                          130\n",
              "BLACK/HAITIAN                                                 101\n",
              "ASIAN - ASIAN INDIAN                                           85\n",
              "WHITE - OTHER EUROPEAN                                         81\n",
              "HISPANIC/LATINO - DOMINICAN                                    78\n",
              "PORTUGUESE                                                     61\n",
              "WHITE - BRAZILIAN                                              59\n",
              "ASIAN - VIETNAMESE                                             53\n",
              "AMERICAN INDIAN/ALASKA NATIVE                                  51\n",
              "BLACK/AFRICAN                                                  44\n",
              "MIDDLE EASTERN                                                 43\n",
              "HISPANIC/LATINO - GUATEMALAN                                   40\n",
              "WHITE - EASTERN EUROPEAN                                       25\n",
              "ASIAN - FILIPINO                                               25\n",
              "HISPANIC/LATINO - CUBAN                                        24\n",
              "HISPANIC/LATINO - SALVADORAN                                   19\n",
              "NATIVE HAWAIIAN OR OTHER PACIFIC ISLANDER                      18\n",
              "ASIAN - OTHER                                                  17\n",
              "ASIAN - CAMBODIAN                                              17\n",
              "ASIAN - KOREAN                                                 13\n",
              "HISPANIC/LATINO - CENTRAL AMERICAN (OTHER)                     13\n",
              "HISPANIC/LATINO - MEXICAN                                      13\n",
              "HISPANIC/LATINO - COLOMBIAN                                     9\n",
              "CARIBBEAN ISLAND                                                9\n",
              "SOUTH AMERICAN                                                  8\n",
              "ASIAN - JAPANESE                                                7\n",
              "ASIAN - THAI                                                    4\n",
              "HISPANIC/LATINO - HONDURAN                                      4\n",
              "AMERICAN INDIAN/ALASKA NATIVE FEDERALLY RECOGNIZED TRIBE        3\n",
              "Name: ETHNICITY, dtype: int64"
            ]
          },
          "metadata": {},
          "execution_count": 18
        }
      ],
      "source": [
        "df['ETHNICITY'].value_counts()"
      ]
    },
    {
      "cell_type": "code",
      "execution_count": null,
      "metadata": {
        "id": "QLD-XZipYpKc",
        "outputId": "64963b99-27df-4d64-be99-37210a67966f",
        "colab": {
          "base_uri": "https://localhost:8080/"
        }
      },
      "outputs": [
        {
          "output_type": "stream",
          "name": "stderr",
          "text": [
            "/usr/local/lib/python3.8/dist-packages/pandas/core/indexing.py:1732: SettingWithCopyWarning: \n",
            "A value is trying to be set on a copy of a slice from a DataFrame\n",
            "\n",
            "See the caveats in the documentation: https://pandas.pydata.org/pandas-docs/stable/user_guide/indexing.html#returning-a-view-versus-a-copy\n",
            "  self._setitem_single_block(indexer, value, name)\n"
          ]
        },
        {
          "output_type": "execute_result",
          "data": {
            "text/plain": [
              "WHITE                     41268\n",
              "OTHER/UNKNOWN              7700\n",
              "BLACK/AFRICAN AMERICAN     5779\n",
              "HISPANIC/LATINO            2125\n",
              "ASIAN                      2006\n",
              "Name: ETHNICITY, dtype: int64"
            ]
          },
          "metadata": {},
          "execution_count": 19
        }
      ],
      "source": [
        "# Compress the number of ethnicity categories\n",
        "df['ETHNICITY'].replace(regex=r'^ASIAN\\D*', value='ASIAN', inplace=True)\n",
        "df['ETHNICITY'].replace(regex=r'^WHITE\\D*', value='WHITE', inplace=True)\n",
        "df['ETHNICITY'].replace(regex=r'^HISPANIC\\D*', value='HISPANIC/LATINO', inplace=True)\n",
        "df['ETHNICITY'].replace(regex=r'^BLACK\\D*', value='BLACK/AFRICAN AMERICAN', inplace=True)\n",
        "df['ETHNICITY'].replace(['UNABLE TO OBTAIN', 'OTHER', 'PATIENT DECLINED TO ANSWER', \n",
        "                         'UNKNOWN/NOT SPECIFIED'], value='OTHER/UNKNOWN', inplace=True)\n",
        "df['ETHNICITY'].loc[~df['ETHNICITY'].isin(df['ETHNICITY'].value_counts().nlargest(5).index.tolist())] = 'OTHER/UNKNOWN'\n",
        "df['ETHNICITY'].value_counts()"
      ]
    },
    {
      "cell_type": "markdown",
      "source": [
        "### Religion\n",
        "\n",
        "We thought it was interesting that this was tracked in MIMIC. \n",
        "\n",
        "BUDDHIST, HINDU, and MUSLIM trend with lower LOS medians, but are a very small proportion of the dataset. "
      ],
      "metadata": {
        "id": "do2GGphFMYb7"
      }
    },
    {
      "cell_type": "code",
      "execution_count": null,
      "metadata": {
        "scrolled": true,
        "id": "MciWx9geYpKd",
        "outputId": "2e84e54c-ea7d-491b-bf19-16c86d2f8232",
        "colab": {
          "base_uri": "https://localhost:8080/"
        }
      },
      "outputs": [
        {
          "output_type": "execute_result",
          "data": {
            "text/plain": [
              "CATHOLIC                  20580\n",
              "NOT SPECIFIED             11738\n",
              "UNOBTAINABLE               8242\n",
              "PROTESTANT QUAKER          7121\n",
              "JEWISH                     5307\n",
              "OTHER                      2695\n",
              "EPISCOPALIAN                771\n",
              "GREEK ORTHODOX              459\n",
              "CHRISTIAN SCIENTIST         429\n",
              "BUDDHIST                    267\n",
              "MUSLIM                      225\n",
              "JEHOVAH'S WITNESS           139\n",
              "UNITARIAN-UNIVERSALIST      124\n",
              "HINDU                       113\n",
              "ROMANIAN EAST. ORTH          83\n",
              "7TH DAY ADVENTIST            81\n",
              "BAPTIST                      28\n",
              "HEBREW                       16\n",
              "METHODIST                     7\n",
              "LUTHERAN                      1\n",
              "Name: RELIGION, dtype: int64"
            ]
          },
          "metadata": {},
          "execution_count": 20
        }
      ],
      "source": [
        "df['RELIGION'].value_counts()"
      ]
    },
    {
      "cell_type": "code",
      "source": [
        "# Re-usable boxplot function\n",
        "def boxplot_los_groupby(variable, los_range=(-1, 30), size=(8,4)):\n",
        "    ''' \n",
        "    Boxplot of LOS by df categorical series name \n",
        "    '''\n",
        "    results = df[[variable, 'LOS']].groupby(variable).median().reset_index()\n",
        "\n",
        "    categories = results[variable].values.tolist()\n",
        "\n",
        "    hist_data = []\n",
        "    for cat in categories:\n",
        "        hist_data.append(df['LOS'].loc[df[variable]==cat].values)\n",
        "\n",
        "    fig, ax = plt.subplots(figsize=size)\n",
        "    ax.boxplot(hist_data, 0, '', vert=False)\n",
        "    ax.set_xlim(los_range)\n",
        "    ax.set_yticklabels(categories)\n",
        "    ax.set_xlabel('Length of Stay (days)')\n",
        "    ax.tick_params(left=False, right=False) \n",
        "    ax.set_title('Comparison of {} categories'.format(variable))\n",
        "    plt.tight_layout()\n",
        "    plt.show();\n",
        "\n",
        "boxplot_los_groupby('ETHNICITY', los_range=(-1, 30))"
      ],
      "metadata": {
        "colab": {
          "base_uri": "https://localhost:8080/",
          "height": 297
        },
        "id": "Z8Jjvj8R0u4Y",
        "outputId": "bec1bb10-d131-4e23-9a5a-f32a31fbb50b"
      },
      "execution_count": null,
      "outputs": [
        {
          "output_type": "display_data",
          "data": {
            "text/plain": [
              "<Figure size 576x288 with 1 Axes>"
            ],
            "image/png": "[encoded data removed]"
          },
          "metadata": {
            "needs_background": "light"
          }
        }
      ]
    },
    {
      "cell_type": "code",
      "execution_count": null,
      "metadata": {
        "id": "glt5-Ag1YpKd",
        "outputId": "b3bcaedf-593f-4211-e10d-2c2678a14c32",
        "colab": {
          "base_uri": "https://localhost:8080/",
          "height": 513
        }
      },
      "outputs": [
        {
          "output_type": "display_data",
          "data": {
            "text/plain": [
              "<Figure size 504x504 with 1 Axes>"
            ],
            "image/png": "[encoded data removed]"
          },
          "metadata": {
            "needs_background": "light"
          }
        }
      ],
      "source": [
        "boxplot_los_groupby('RELIGION', los_range=(-5, 30), size=(7, 7))"
      ]
    },
    {
      "cell_type": "code",
      "execution_count": null,
      "metadata": {
        "id": "__ho_o4_YpKd",
        "outputId": "757e8c27-a35a-4778-f5fd-bf26ef40f29f",
        "colab": {
          "base_uri": "https://localhost:8080/"
        }
      },
      "outputs": [
        {
          "output_type": "stream",
          "name": "stdout",
          "text": [
            "RELIGIOUS        38898\n",
            "NOT SPECIFIED    11738\n",
            "UNOBTAINABLE      8242\n",
            "Name: RELIGION, dtype: int64\n",
            "0.6606542341791501\n",
            "0.1993613913516084\n",
            "0.13998437446924147\n"
          ]
        },
        {
          "output_type": "stream",
          "name": "stderr",
          "text": [
            "/usr/local/lib/python3.8/dist-packages/pandas/core/indexing.py:1732: SettingWithCopyWarning: \n",
            "A value is trying to be set on a copy of a slice from a DataFrame\n",
            "\n",
            "See the caveats in the documentation: https://pandas.pydata.org/pandas-docs/stable/user_guide/indexing.html#returning-a-view-versus-a-copy\n",
            "  self._setitem_single_block(indexer, value, name)\n"
          ]
        }
      ],
      "source": [
        "# Reduce categories to terms of religious or not\n",
        "# I tested with and without category reduction, with little change in R2 score\n",
        "df['RELIGION'].loc[~df['RELIGION'].isin(['NOT SPECIFIED', 'UNOBTAINABLE'])] = 'RELIGIOUS'\n",
        "\n",
        "print(df['RELIGION'].value_counts())\n",
        "print(df['RELIGION'].value_counts()[0]/len(df['RELIGION']))\n",
        "print(df['RELIGION'].value_counts()[1]/len(df['RELIGION']))\n",
        "print(df['RELIGION'].value_counts()[2]/len(df['RELIGION']))"
      ]
    },
    {
      "cell_type": "code",
      "execution_count": null,
      "metadata": {
        "id": "3NbCsh_fYpKd",
        "outputId": "9eafffa7-6410-4c3e-8763-b10fc35f9beb",
        "colab": {
          "base_uri": "https://localhost:8080/",
          "height": 297
        }
      },
      "outputs": [
        {
          "output_type": "display_data",
          "data": {
            "text/plain": [
              "<Figure size 360x288 with 1 Axes>"
            ],
            "image/png": "[encoded data removed]"
          },
          "metadata": {
            "needs_background": "light"
          }
        }
      ],
      "source": [
        "# Look at median LOS for groups\n",
        "plot_los_groupby('RELIGION', size=(5,4))"
      ]
    },
    {
      "cell_type": "markdown",
      "metadata": {
        "id": "USS1BJo8YpKd"
      },
      "source": [
        "### Admission Type\n",
        "\n",
        "Newborns have the lowest median LOS followed by elective admissions. This is expected since these are often somewhat planned for and with the risks being understood. "
      ]
    },
    {
      "cell_type": "code",
      "execution_count": null,
      "metadata": {
        "id": "wNf8jIYHYpKd",
        "outputId": "ae1d712b-28c0-435d-f849-425b0b780fb9",
        "colab": {
          "base_uri": "https://localhost:8080/"
        }
      },
      "outputs": [
        {
          "output_type": "execute_result",
          "data": {
            "text/plain": [
              "EMERGENCY    41989\n",
              "NEWBORN       7854\n",
              "ELECTIVE      7702\n",
              "URGENT        1333\n",
              "Name: ADMISSION_TYPE, dtype: int64"
            ]
          },
          "metadata": {},
          "execution_count": 25
        }
      ],
      "source": [
        "df['ADMISSION_TYPE'].value_counts()"
      ]
    },
    {
      "cell_type": "code",
      "execution_count": null,
      "metadata": {
        "id": "leP4Oo7ZYpKd",
        "outputId": "8b40783d-0f65-44f8-e88d-51d72a413f82",
        "colab": {
          "base_uri": "https://localhost:8080/",
          "height": 297
        }
      },
      "outputs": [
        {
          "output_type": "display_data",
          "data": {
            "text/plain": [
              "<Figure size 504x288 with 1 Axes>"
            ],
            "image/png": "[encoded data removed]"
          },
          "metadata": {
            "needs_background": "light"
          }
        }
      ],
      "source": [
        "boxplot_los_groupby('ADMISSION_TYPE', los_range=(-5, 35), size=(7, 4))"
      ]
    },
    {
      "cell_type": "markdown",
      "metadata": {
        "id": "Vwgpy4tuYpKd"
      },
      "source": [
        "### Insurance\n",
        "\n",
        "If a patient is 'Self-Pay', typically means they can't or didn't pay. \n",
        "\n",
        "Self-pay patients may have the lowest LOS.  "
      ]
    },
    {
      "cell_type": "code",
      "execution_count": null,
      "metadata": {
        "id": "XASFeqbgYpKd",
        "outputId": "b2a97bd2-0235-438c-e8aa-aca78cefc85d",
        "colab": {
          "base_uri": "https://localhost:8080/"
        }
      },
      "outputs": [
        {
          "output_type": "execute_result",
          "data": {
            "text/plain": [
              "Medicare      28174\n",
              "Private       22542\n",
              "Medicaid       5778\n",
              "Government     1781\n",
              "Self Pay        603\n",
              "Name: INSURANCE, dtype: int64"
            ]
          },
          "metadata": {},
          "execution_count": 27
        }
      ],
      "source": [
        "df['INSURANCE'].value_counts()"
      ]
    },
    {
      "cell_type": "code",
      "execution_count": null,
      "metadata": {
        "id": "Qk6P9_BEYpKd",
        "outputId": "0bbbd0ef-17c3-46ca-ff8f-4ec7b17e2c2b",
        "colab": {
          "base_uri": "https://localhost:8080/",
          "height": 297
        }
      },
      "outputs": [
        {
          "output_type": "display_data",
          "data": {
            "text/plain": [
              "<Figure size 504x288 with 1 Axes>"
            ],
            "image/png": "[encoded data removed]"
          },
          "metadata": {
            "needs_background": "light"
          }
        }
      ],
      "source": [
        "boxplot_los_groupby('INSURANCE', los_range=(-5, 30), size=(7, 4))"
      ]
    },
    {
      "cell_type": "markdown",
      "metadata": {
        "id": "cSXS_umpYpKd"
      },
      "source": [
        "### Marital status"
      ]
    },
    {
      "cell_type": "code",
      "execution_count": null,
      "metadata": {
        "id": "sZ994xDlYpKd",
        "outputId": "7792d6c0-a7df-44cd-879f-b82fb9d4c9af",
        "colab": {
          "base_uri": "https://localhost:8080/"
        }
      },
      "outputs": [
        {
          "output_type": "execute_result",
          "data": {
            "text/plain": [
              "MARRIED              24199\n",
              "SINGLE               13238\n",
              "NaN                  10097\n",
              "WIDOWED               7204\n",
              "DIVORCED              3211\n",
              "SEPARATED              571\n",
              "UNKNOWN (DEFAULT)      343\n",
              "LIFE PARTNER            15\n",
              "Name: MARITAL_STATUS, dtype: int64"
            ]
          },
          "metadata": {},
          "execution_count": 29
        }
      ],
      "source": [
        "df['MARITAL_STATUS'].value_counts(dropna=False)"
      ]
    },
    {
      "cell_type": "code",
      "execution_count": null,
      "metadata": {
        "id": "ZFtEnrzTYpKd",
        "outputId": "45893432-ece5-42fa-f372-5638247aeafd",
        "colab": {
          "base_uri": "https://localhost:8080/"
        }
      },
      "outputs": [
        {
          "output_type": "execute_result",
          "data": {
            "text/plain": [
              "MARRIED              24199\n",
              "SINGLE               13238\n",
              "UNKNOWN (DEFAULT)    10440\n",
              "WIDOWED               7204\n",
              "DIVORCED              3211\n",
              "SEPARATED              571\n",
              "LIFE PARTNER            15\n",
              "Name: MARITAL_STATUS, dtype: int64"
            ]
          },
          "metadata": {},
          "execution_count": 30
        }
      ],
      "source": [
        "# Fix NaNs and file under 'UNKNOWN'\n",
        "df['MARITAL_STATUS'] = df['MARITAL_STATUS'].fillna('UNKNOWN (DEFAULT)')\n",
        "df['MARITAL_STATUS'].value_counts(dropna=False)"
      ]
    },
    {
      "cell_type": "code",
      "execution_count": null,
      "metadata": {
        "id": "sMZaQwXqYpKe",
        "outputId": "4a154c64-bd43-4a9a-b777-c698c71eccf3",
        "colab": {
          "base_uri": "https://localhost:8080/",
          "height": 297
        }
      },
      "outputs": [
        {
          "output_type": "display_data",
          "data": {
            "text/plain": [
              "<Figure size 504x288 with 1 Axes>"
            ],
            "image/png": "[encoded data removed]"
          },
          "metadata": {
            "needs_background": "light"
          }
        }
      ],
      "source": [
        "plot_los_groupby('MARITAL_STATUS')"
      ]
    },
    {
      "cell_type": "code",
      "execution_count": null,
      "metadata": {
        "id": "bZ5UEfQrYpKe",
        "outputId": "c32c584c-aca7-4b30-ab18-f1cf89801282",
        "colab": {
          "base_uri": "https://localhost:8080/",
          "height": 297
        }
      },
      "outputs": [
        {
          "output_type": "display_data",
          "data": {
            "text/plain": [
              "<Figure size 576x288 with 1 Axes>"
            ],
            "image/png": "[encoded data removed]"
          },
          "metadata": {
            "needs_background": "light"
          }
        }
      ],
      "source": [
        "boxplot_los_groupby('MARITAL_STATUS')"
      ]
    },
    {
      "cell_type": "markdown",
      "source": [
        "## Patients Exploration\n",
        "\n"
      ],
      "metadata": {
        "id": "xC1Y6yILNfVs"
      }
    },
    {
      "cell_type": "markdown",
      "metadata": {
        "id": "jOHPWz1-YpKf"
      },
      "source": [
        "The PATIENTS table provides age and gender information. \n",
        "\n",
        "To protect identity, a patient’s age is given by the difference between their 'DOB' date of birth and the date of their first admission. Therefore, subsequent admissions for the same patient need to be ignored in the calculation. \n",
        "\n",
        "The only things that need to be done with this table are to extract the DOB and gender information and merge them with the admissions dataframe. "
      ]
    },
    {
      "cell_type": "code",
      "execution_count": null,
      "metadata": {
        "id": "SQh14wTmYpKf",
        "outputId": "81cf9e4b-e4d6-42fc-b5fa-2ed4f35e9350",
        "colab": {
          "base_uri": "https://localhost:8080/",
          "height": 206
        }
      },
      "outputs": [
        {
          "output_type": "execute_result",
          "data": {
            "text/plain": [
              "   ROW_ID  SUBJECT_ID GENDER                  DOB                  DOD  \\\n",
              "0     234         249      F  2075-03-13 00:00:00                  NaN   \n",
              "1     235         250      F  2164-12-27 00:00:00  2188-11-22 00:00:00   \n",
              "2     236         251      M  2090-03-15 00:00:00                  NaN   \n",
              "3     237         252      M  2078-03-06 00:00:00                  NaN   \n",
              "4     238         253      F  2089-11-26 00:00:00                  NaN   \n",
              "\n",
              "              DOD_HOSP DOD_SSN  EXPIRE_FLAG  \n",
              "0                  NaN     NaN            0  \n",
              "1  2188-11-22 00:00:00     NaN            1  \n",
              "2                  NaN     NaN            0  \n",
              "3                  NaN     NaN            0  \n",
              "4                  NaN     NaN            0  "
            ],
            "text/html": [
              "\n",
              "  <div id=\"df-09a4bd9d-ad66-4d26-8852-ca56e4762503\">\n",
              "    <div class=\"colab-df-container\">\n",
              "      <div>\n",
              "<style scoped>\n",
              "    .dataframe tbody tr th:only-of-type {\n",
              "        vertical-align: middle;\n",
              "    }\n",
              "\n",
              "    .dataframe tbody tr th {\n",
              "        vertical-align: top;\n",
              "    }\n",
              "\n",
              "    .dataframe thead th {\n",
              "        text-align: right;\n",
              "    }\n",
              "</style>\n",
              "<table border=\"1\" class=\"dataframe\">\n",
              "  <thead>\n",
              "    <tr style=\"text-align: right;\">\n",
              "      <th></th>\n",
              "      <th>ROW_ID</th>\n",
              "      <th>SUBJECT_ID</th>\n",
              "      <th>GENDER</th>\n",
              "      <th>DOB</th>\n",
              "      <th>DOD</th>\n",
              "      <th>DOD_HOSP</th>\n",
              "      <th>DOD_SSN</th>\n",
              "      <th>EXPIRE_FLAG</th>\n",
              "    </tr>\n",
              "  </thead>\n",
              "  <tbody>\n",
              "    <tr>\n",
              "      <th>0</th>\n",
              "      <td>234</td>\n",
              "      <td>249</td>\n",
              "      <td>F</td>\n",
              "      <td>2075-03-13 00:00:00</td>\n",
              "      <td>NaN</td>\n",
              "      <td>NaN</td>\n",
              "      <td>NaN</td>\n",
              "      <td>0</td>\n",
              "    </tr>\n",
              "    <tr>\n",
              "      <th>1</th>\n",
              "      <td>235</td>\n",
              "      <td>250</td>\n",
              "      <td>F</td>\n",
              "      <td>2164-12-27 00:00:00</td>\n",
              "      <td>2188-11-22 00:00:00</td>\n",
              "      <td>2188-11-22 00:00:00</td>\n",
              "      <td>NaN</td>\n",
              "      <td>1</td>\n",
              "    </tr>\n",
              "    <tr>\n",
              "      <th>2</th>\n",
              "      <td>236</td>\n",
              "      <td>251</td>\n",
              "      <td>M</td>\n",
              "      <td>2090-03-15 00:00:00</td>\n",
              "      <td>NaN</td>\n",
              "      <td>NaN</td>\n",
              "      <td>NaN</td>\n",
              "      <td>0</td>\n",
              "    </tr>\n",
              "    <tr>\n",
              "      <th>3</th>\n",
              "      <td>237</td>\n",
              "      <td>252</td>\n",
              "      <td>M</td>\n",
              "      <td>2078-03-06 00:00:00</td>\n",
              "      <td>NaN</td>\n",
              "      <td>NaN</td>\n",
              "      <td>NaN</td>\n",
              "      <td>0</td>\n",
              "    </tr>\n",
              "    <tr>\n",
              "      <th>4</th>\n",
              "      <td>238</td>\n",
              "      <td>253</td>\n",
              "      <td>F</td>\n",
              "      <td>2089-11-26 00:00:00</td>\n",
              "      <td>NaN</td>\n",
              "      <td>NaN</td>\n",
              "      <td>NaN</td>\n",
              "      <td>0</td>\n",
              "    </tr>\n",
              "  </tbody>\n",
              "</table>\n",
              "</div>\n",
              "      <button class=\"colab-df-convert\" onclick=\"convertToInteractive('df-09a4bd9d-ad66-4d26-8852-ca56e4762503')\"\n",
              "              title=\"Convert this dataframe to an interactive table.\"\n",
              "              style=\"display:none;\">\n",
              "        \n",
              "  <svg xmlns=\"http://www.w3.org/2000/svg\" height=\"24px\"viewBox=\"0 0 24 24\"\n",
              "       width=\"24px\">\n",
              "    <path d=\"M0 0h24v24H0V0z\" fill=\"none\"/>\n",
              "    <path d=\"M18.56 5.44l.94 2.06.94-2.06 2.06-.94-2.06-.94-.94-2.06-.94 2.06-2.06.94zm-11 1L8.5 8.5l.94-2.06 2.06-.94-2.06-.94L8.5 2.5l-.94 2.06-2.06.94zm10 10l.94 2.06.94-2.06 2.06-.94-2.06-.94-.94-2.06-.94 2.06-2.06.94z\"/><path d=\"M17.41 7.96l-1.37-1.37c-.4-.4-.92-.59-1.43-.59-.52 0-1.04.2-1.43.59L10.3 9.45l-7.72 7.72c-.78.78-.78 2.05 0 2.83L4 21.41c.39.39.9.59 1.41.59.51 0 1.02-.2 1.41-.59l7.78-7.78 2.81-2.81c.8-.78.8-2.07 0-2.86zM5.41 20L4 18.59l7.72-7.72 1.47 1.35L5.41 20z\"/>\n",
              "  </svg>\n",
              "      </button>\n",
              "      \n",
              "  <style>\n",
              "    .colab-df-container {\n",
              "      display:flex;\n",
              "      flex-wrap:wrap;\n",
              "      gap: 12px;\n",
              "    }\n",
              "\n",
              "    .colab-df-convert {\n",
              "      background-color: #E8F0FE;\n",
              "      border: none;\n",
              "      border-radius: 50%;\n",
              "      cursor: pointer;\n",
              "      display: none;\n",
              "      fill: #1967D2;\n",
              "      height: 32px;\n",
              "      padding: 0 0 0 0;\n",
              "      width: 32px;\n",
              "    }\n",
              "\n",
              "    .colab-df-convert:hover {\n",
              "      background-color: #E2EBFA;\n",
              "      box-shadow: 0px 1px 2px rgba(60, 64, 67, 0.3), 0px 1px 3px 1px rgba(60, 64, 67, 0.15);\n",
              "      fill: #174EA6;\n",
              "    }\n",
              "\n",
              "    [theme=dark] .colab-df-convert {\n",
              "      background-color: #3B4455;\n",
              "      fill: #D2E3FC;\n",
              "    }\n",
              "\n",
              "    [theme=dark] .colab-df-convert:hover {\n",
              "      background-color: #434B5C;\n",
              "      box-shadow: 0px 1px 3px 1px rgba(0, 0, 0, 0.15);\n",
              "      filter: drop-shadow(0px 1px 2px rgba(0, 0, 0, 0.3));\n",
              "      fill: #FFFFFF;\n",
              "    }\n",
              "  </style>\n",
              "\n",
              "      <script>\n",
              "        const buttonEl =\n",
              "          document.querySelector('#df-09a4bd9d-ad66-4d26-8852-ca56e4762503 button.colab-df-convert');\n",
              "        buttonEl.style.display =\n",
              "          google.colab.kernel.accessAllowed ? 'block' : 'none';\n",
              "\n",
              "        async function convertToInteractive(key) {\n",
              "          const element = document.querySelector('#df-09a4bd9d-ad66-4d26-8852-ca56e4762503');\n",
              "          const dataTable =\n",
              "            await google.colab.kernel.invokeFunction('convertToInteractive',\n",
              "                                                     [key], {});\n",
              "          if (!dataTable) return;\n",
              "\n",
              "          const docLinkHtml = 'Like what you see? Visit the ' +\n",
              "            '<a target=\"_blank\" href=https://colab.research.google.com/notebooks/data_table.ipynb>data table notebook</a>'\n",
              "            + ' to learn more about interactive tables.';\n",
              "          element.innerHTML = '';\n",
              "          dataTable['output_type'] = 'display_data';\n",
              "          await google.colab.output.renderOutput(dataTable, element);\n",
              "          const docLink = document.createElement('div');\n",
              "          docLink.innerHTML = docLinkHtml;\n",
              "          element.appendChild(docLink);\n",
              "        }\n",
              "      </script>\n",
              "    </div>\n",
              "  </div>\n",
              "  "
            ]
          },
          "metadata": {},
          "execution_count": 33
        }
      ],
      "source": [
        "df_pat.head()"
      ]
    },
    {
      "cell_type": "markdown",
      "source": [
        "It is interesting that Python wa not able to calculate the years of the dat time objects properly (as it was giving out dates in the future).\n",
        "\n",
        "This happens with all the date-time objects like Date of Birth, Date of Death etc."
      ],
      "metadata": {
        "id": "yPr-N982OJYU"
      }
    },
    {
      "cell_type": "code",
      "execution_count": null,
      "metadata": {
        "id": "gvn_PrPMYpKf",
        "outputId": "9c131cfb-dc87-4c8f-c22e-77894b8797be",
        "colab": {
          "base_uri": "https://localhost:8080/"
        }
      },
      "outputs": [
        {
          "output_type": "execute_result",
          "data": {
            "text/plain": [
              "M    26121\n",
              "F    20399\n",
              "Name: GENDER, dtype: int64"
            ]
          },
          "metadata": {},
          "execution_count": 34
        }
      ],
      "source": [
        "# Get the Genders captured in the dataset\n",
        "df_pat['GENDER'].value_counts()"
      ]
    },
    {
      "cell_type": "code",
      "execution_count": null,
      "metadata": {
        "id": "1mmRbHlOYpKf"
      },
      "outputs": [],
      "source": [
        "# Convert to datetime type\n",
        "df_pat['DOB'] = pd.to_datetime(df_pat['DOB'])"
      ]
    },
    {
      "cell_type": "code",
      "execution_count": null,
      "metadata": {
        "id": "hvgD97Q3YpKf",
        "outputId": "8818bc90-330b-460d-c946-7c47c4724051",
        "colab": {
          "base_uri": "https://localhost:8080/",
          "height": 206
        }
      },
      "outputs": [
        {
          "output_type": "execute_result",
          "data": {
            "text/plain": [
              "   SUBJECT_ID        DOB GENDER\n",
              "0         249 2075-03-13      F\n",
              "1         250 2164-12-27      F\n",
              "2         251 2090-03-15      M\n",
              "3         252 2078-03-06      M\n",
              "4         253 2089-11-26      F"
            ],
            "text/html": [
              "\n",
              "  <div id=\"df-981a0347-eda2-4473-b9e6-846aa147334e\">\n",
              "    <div class=\"colab-df-container\">\n",
              "      <div>\n",
              "<style scoped>\n",
              "    .dataframe tbody tr th:only-of-type {\n",
              "        vertical-align: middle;\n",
              "    }\n",
              "\n",
              "    .dataframe tbody tr th {\n",
              "        vertical-align: top;\n",
              "    }\n",
              "\n",
              "    .dataframe thead th {\n",
              "        text-align: right;\n",
              "    }\n",
              "</style>\n",
              "<table border=\"1\" class=\"dataframe\">\n",
              "  <thead>\n",
              "    <tr style=\"text-align: right;\">\n",
              "      <th></th>\n",
              "      <th>SUBJECT_ID</th>\n",
              "      <th>DOB</th>\n",
              "      <th>GENDER</th>\n",
              "    </tr>\n",
              "  </thead>\n",
              "  <tbody>\n",
              "    <tr>\n",
              "      <th>0</th>\n",
              "      <td>249</td>\n",
              "      <td>2075-03-13</td>\n",
              "      <td>F</td>\n",
              "    </tr>\n",
              "    <tr>\n",
              "      <th>1</th>\n",
              "      <td>250</td>\n",
              "      <td>2164-12-27</td>\n",
              "      <td>F</td>\n",
              "    </tr>\n",
              "    <tr>\n",
              "      <th>2</th>\n",
              "      <td>251</td>\n",
              "      <td>2090-03-15</td>\n",
              "      <td>M</td>\n",
              "    </tr>\n",
              "    <tr>\n",
              "      <th>3</th>\n",
              "      <td>252</td>\n",
              "      <td>2078-03-06</td>\n",
              "      <td>M</td>\n",
              "    </tr>\n",
              "    <tr>\n",
              "      <th>4</th>\n",
              "      <td>253</td>\n",
              "      <td>2089-11-26</td>\n",
              "      <td>F</td>\n",
              "    </tr>\n",
              "  </tbody>\n",
              "</table>\n",
              "</div>\n",
              "      <button class=\"colab-df-convert\" onclick=\"convertToInteractive('df-981a0347-eda2-4473-b9e6-846aa147334e')\"\n",
              "              title=\"Convert this dataframe to an interactive table.\"\n",
              "              style=\"display:none;\">\n",
              "        \n",
              "  <svg xmlns=\"http://www.w3.org/2000/svg\" height=\"24px\"viewBox=\"0 0 24 24\"\n",
              "       width=\"24px\">\n",
              "    <path d=\"M0 0h24v24H0V0z\" fill=\"none\"/>\n",
              "    <path d=\"M18.56 5.44l.94 2.06.94-2.06 2.06-.94-2.06-.94-.94-2.06-.94 2.06-2.06.94zm-11 1L8.5 8.5l.94-2.06 2.06-.94-2.06-.94L8.5 2.5l-.94 2.06-2.06.94zm10 10l.94 2.06.94-2.06 2.06-.94-2.06-.94-.94-2.06-.94 2.06-2.06.94z\"/><path d=\"M17.41 7.96l-1.37-1.37c-.4-.4-.92-.59-1.43-.59-.52 0-1.04.2-1.43.59L10.3 9.45l-7.72 7.72c-.78.78-.78 2.05 0 2.83L4 21.41c.39.39.9.59 1.41.59.51 0 1.02-.2 1.41-.59l7.78-7.78 2.81-2.81c.8-.78.8-2.07 0-2.86zM5.41 20L4 18.59l7.72-7.72 1.47 1.35L5.41 20z\"/>\n",
              "  </svg>\n",
              "      </button>\n",
              "      \n",
              "  <style>\n",
              "    .colab-df-container {\n",
              "      display:flex;\n",
              "      flex-wrap:wrap;\n",
              "      gap: 12px;\n",
              "    }\n",
              "\n",
              "    .colab-df-convert {\n",
              "      background-color: #E8F0FE;\n",
              "      border: none;\n",
              "      border-radius: 50%;\n",
              "      cursor: pointer;\n",
              "      display: none;\n",
              "      fill: #1967D2;\n",
              "      height: 32px;\n",
              "      padding: 0 0 0 0;\n",
              "      width: 32px;\n",
              "    }\n",
              "\n",
              "    .colab-df-convert:hover {\n",
              "      background-color: #E2EBFA;\n",
              "      box-shadow: 0px 1px 2px rgba(60, 64, 67, 0.3), 0px 1px 3px 1px rgba(60, 64, 67, 0.15);\n",
              "      fill: #174EA6;\n",
              "    }\n",
              "\n",
              "    [theme=dark] .colab-df-convert {\n",
              "      background-color: #3B4455;\n",
              "      fill: #D2E3FC;\n",
              "    }\n",
              "\n",
              "    [theme=dark] .colab-df-convert:hover {\n",
              "      background-color: #434B5C;\n",
              "      box-shadow: 0px 1px 3px 1px rgba(0, 0, 0, 0.15);\n",
              "      filter: drop-shadow(0px 1px 2px rgba(0, 0, 0, 0.3));\n",
              "      fill: #FFFFFF;\n",
              "    }\n",
              "  </style>\n",
              "\n",
              "      <script>\n",
              "        const buttonEl =\n",
              "          document.querySelector('#df-981a0347-eda2-4473-b9e6-846aa147334e button.colab-df-convert');\n",
              "        buttonEl.style.display =\n",
              "          google.colab.kernel.accessAllowed ? 'block' : 'none';\n",
              "\n",
              "        async function convertToInteractive(key) {\n",
              "          const element = document.querySelector('#df-981a0347-eda2-4473-b9e6-846aa147334e');\n",
              "          const dataTable =\n",
              "            await google.colab.kernel.invokeFunction('convertToInteractive',\n",
              "                                                     [key], {});\n",
              "          if (!dataTable) return;\n",
              "\n",
              "          const docLinkHtml = 'Like what you see? Visit the ' +\n",
              "            '<a target=\"_blank\" href=https://colab.research.google.com/notebooks/data_table.ipynb>data table notebook</a>'\n",
              "            + ' to learn more about interactive tables.';\n",
              "          element.innerHTML = '';\n",
              "          dataTable['output_type'] = 'display_data';\n",
              "          await google.colab.output.renderOutput(dataTable, element);\n",
              "          const docLink = document.createElement('div');\n",
              "          docLink.innerHTML = docLinkHtml;\n",
              "          element.appendChild(docLink);\n",
              "        }\n",
              "      </script>\n",
              "    </div>\n",
              "  </div>\n",
              "  "
            ]
          },
          "metadata": {},
          "execution_count": 36
        }
      ],
      "source": [
        "df_pat = df_pat[['SUBJECT_ID', 'DOB', 'GENDER']]\n",
        "df_pat.head()"
      ]
    },
    {
      "cell_type": "code",
      "execution_count": null,
      "metadata": {
        "id": "gKrQoJ4pYpKf"
      },
      "outputs": [],
      "source": [
        "df = df.merge(df_pat, how='inner', on='SUBJECT_ID')"
      ]
    },
    {
      "cell_type": "markdown",
      "metadata": {
        "id": "yVPimjXRYpKf"
      },
      "source": [
        "### Age\n",
        "\n",
        "Now that the admissions dataFrame has DOB information, age can be calculated. \n",
        "\n",
        "We have to calculate Age at the time of admission."
      ]
    },
    {
      "cell_type": "code",
      "execution_count": null,
      "metadata": {
        "id": "3Ru1_YLZYpKf",
        "outputId": "54ed48a4-f9f0-4184-af5e-76d494b29139",
        "colab": {
          "base_uri": "https://localhost:8080/",
          "height": 206
        }
      },
      "outputs": [
        {
          "output_type": "execute_result",
          "data": {
            "text/plain": [
              "   SUBJECT_ID           ADMIT_MIN\n",
              "0           2 2138-07-17 19:04:00\n",
              "1           3 2101-10-20 19:08:00\n",
              "2           4 2191-03-16 00:28:00\n",
              "3           5 2103-02-02 04:31:00\n",
              "4           6 2175-05-30 07:15:00"
            ],
            "text/html": [
              "\n",
              "  <div id=\"df-0d2e8100-07f6-4db3-9bfd-a676754b9e18\">\n",
              "    <div class=\"colab-df-container\">\n",
              "      <div>\n",
              "<style scoped>\n",
              "    .dataframe tbody tr th:only-of-type {\n",
              "        vertical-align: middle;\n",
              "    }\n",
              "\n",
              "    .dataframe tbody tr th {\n",
              "        vertical-align: top;\n",
              "    }\n",
              "\n",
              "    .dataframe thead th {\n",
              "        text-align: right;\n",
              "    }\n",
              "</style>\n",
              "<table border=\"1\" class=\"dataframe\">\n",
              "  <thead>\n",
              "    <tr style=\"text-align: right;\">\n",
              "      <th></th>\n",
              "      <th>SUBJECT_ID</th>\n",
              "      <th>ADMIT_MIN</th>\n",
              "    </tr>\n",
              "  </thead>\n",
              "  <tbody>\n",
              "    <tr>\n",
              "      <th>0</th>\n",
              "      <td>2</td>\n",
              "      <td>2138-07-17 19:04:00</td>\n",
              "    </tr>\n",
              "    <tr>\n",
              "      <th>1</th>\n",
              "      <td>3</td>\n",
              "      <td>2101-10-20 19:08:00</td>\n",
              "    </tr>\n",
              "    <tr>\n",
              "      <th>2</th>\n",
              "      <td>4</td>\n",
              "      <td>2191-03-16 00:28:00</td>\n",
              "    </tr>\n",
              "    <tr>\n",
              "      <th>3</th>\n",
              "      <td>5</td>\n",
              "      <td>2103-02-02 04:31:00</td>\n",
              "    </tr>\n",
              "    <tr>\n",
              "      <th>4</th>\n",
              "      <td>6</td>\n",
              "      <td>2175-05-30 07:15:00</td>\n",
              "    </tr>\n",
              "  </tbody>\n",
              "</table>\n",
              "</div>\n",
              "      <button class=\"colab-df-convert\" onclick=\"convertToInteractive('df-0d2e8100-07f6-4db3-9bfd-a676754b9e18')\"\n",
              "              title=\"Convert this dataframe to an interactive table.\"\n",
              "              style=\"display:none;\">\n",
              "        \n",
              "  <svg xmlns=\"http://www.w3.org/2000/svg\" height=\"24px\"viewBox=\"0 0 24 24\"\n",
              "       width=\"24px\">\n",
              "    <path d=\"M0 0h24v24H0V0z\" fill=\"none\"/>\n",
              "    <path d=\"M18.56 5.44l.94 2.06.94-2.06 2.06-.94-2.06-.94-.94-2.06-.94 2.06-2.06.94zm-11 1L8.5 8.5l.94-2.06 2.06-.94-2.06-.94L8.5 2.5l-.94 2.06-2.06.94zm10 10l.94 2.06.94-2.06 2.06-.94-2.06-.94-.94-2.06-.94 2.06-2.06.94z\"/><path d=\"M17.41 7.96l-1.37-1.37c-.4-.4-.92-.59-1.43-.59-.52 0-1.04.2-1.43.59L10.3 9.45l-7.72 7.72c-.78.78-.78 2.05 0 2.83L4 21.41c.39.39.9.59 1.41.59.51 0 1.02-.2 1.41-.59l7.78-7.78 2.81-2.81c.8-.78.8-2.07 0-2.86zM5.41 20L4 18.59l7.72-7.72 1.47 1.35L5.41 20z\"/>\n",
              "  </svg>\n",
              "      </button>\n",
              "      \n",
              "  <style>\n",
              "    .colab-df-container {\n",
              "      display:flex;\n",
              "      flex-wrap:wrap;\n",
              "      gap: 12px;\n",
              "    }\n",
              "\n",
              "    .colab-df-convert {\n",
              "      background-color: #E8F0FE;\n",
              "      border: none;\n",
              "      border-radius: 50%;\n",
              "      cursor: pointer;\n",
              "      display: none;\n",
              "      fill: #1967D2;\n",
              "      height: 32px;\n",
              "      padding: 0 0 0 0;\n",
              "      width: 32px;\n",
              "    }\n",
              "\n",
              "    .colab-df-convert:hover {\n",
              "      background-color: #E2EBFA;\n",
              "      box-shadow: 0px 1px 2px rgba(60, 64, 67, 0.3), 0px 1px 3px 1px rgba(60, 64, 67, 0.15);\n",
              "      fill: #174EA6;\n",
              "    }\n",
              "\n",
              "    [theme=dark] .colab-df-convert {\n",
              "      background-color: #3B4455;\n",
              "      fill: #D2E3FC;\n",
              "    }\n",
              "\n",
              "    [theme=dark] .colab-df-convert:hover {\n",
              "      background-color: #434B5C;\n",
              "      box-shadow: 0px 1px 3px 1px rgba(0, 0, 0, 0.15);\n",
              "      filter: drop-shadow(0px 1px 2px rgba(0, 0, 0, 0.3));\n",
              "      fill: #FFFFFF;\n",
              "    }\n",
              "  </style>\n",
              "\n",
              "      <script>\n",
              "        const buttonEl =\n",
              "          document.querySelector('#df-0d2e8100-07f6-4db3-9bfd-a676754b9e18 button.colab-df-convert');\n",
              "        buttonEl.style.display =\n",
              "          google.colab.kernel.accessAllowed ? 'block' : 'none';\n",
              "\n",
              "        async function convertToInteractive(key) {\n",
              "          const element = document.querySelector('#df-0d2e8100-07f6-4db3-9bfd-a676754b9e18');\n",
              "          const dataTable =\n",
              "            await google.colab.kernel.invokeFunction('convertToInteractive',\n",
              "                                                     [key], {});\n",
              "          if (!dataTable) return;\n",
              "\n",
              "          const docLinkHtml = 'Like what you see? Visit the ' +\n",
              "            '<a target=\"_blank\" href=https://colab.research.google.com/notebooks/data_table.ipynb>data table notebook</a>'\n",
              "            + ' to learn more about interactive tables.';\n",
              "          element.innerHTML = '';\n",
              "          dataTable['output_type'] = 'display_data';\n",
              "          await google.colab.output.renderOutput(dataTable, element);\n",
              "          const docLink = document.createElement('div');\n",
              "          docLink.innerHTML = docLinkHtml;\n",
              "          element.appendChild(docLink);\n",
              "        }\n",
              "      </script>\n",
              "    </div>\n",
              "  </div>\n",
              "  "
            ]
          },
          "metadata": {},
          "execution_count": 38
        }
      ],
      "source": [
        "# Find the first admission time for each patient\n",
        "df_age_min = df[['SUBJECT_ID', 'ADMITTIME']].groupby('SUBJECT_ID').min().reset_index()\n",
        "df_age_min.columns = ['SUBJECT_ID', 'ADMIT_MIN']\n",
        "df_age_min.head()"
      ]
    },
    {
      "cell_type": "code",
      "execution_count": null,
      "metadata": {
        "id": "VmVgdzJzYpKf"
      },
      "outputs": [],
      "source": [
        "df = df.merge(df_age_min, how='outer', on='SUBJECT_ID')"
      ]
    },
    {
      "cell_type": "code",
      "execution_count": null,
      "metadata": {
        "id": "KPs2IcG4YpKf",
        "outputId": "ef019d80-45d6-49f9-8e37-c52c1da30b46",
        "colab": {
          "base_uri": "https://localhost:8080/",
          "height": 392
        }
      },
      "outputs": [
        {
          "output_type": "execute_result",
          "data": {
            "text/plain": [
              "   SUBJECT_ID  HADM_ID           ADMITTIME DEATHTIME ADMISSION_TYPE  \\\n",
              "0          22   165315 2196-04-09 12:26:00       NaN      EMERGENCY   \n",
              "1          23   152223 2153-09-03 07:15:00       NaN       ELECTIVE   \n",
              "2          23   124321 2157-10-18 19:34:00       NaN      EMERGENCY   \n",
              "3          24   161859 2139-06-06 16:14:00       NaN      EMERGENCY   \n",
              "4          25   129635 2160-11-02 02:06:00       NaN      EMERGENCY   \n",
              "\n",
              "          ADMISSION_LOCATION         DISCHARGE_LOCATION INSURANCE LANGUAGE  \\\n",
              "0       EMERGENCY ROOM ADMIT  DISC-TRAN CANCER/CHLDRN H   Private      NaN   \n",
              "1  PHYS REFERRAL/NORMAL DELI           HOME HEALTH CARE  Medicare      NaN   \n",
              "2  TRANSFER FROM HOSP/EXTRAM           HOME HEALTH CARE  Medicare     ENGL   \n",
              "3  TRANSFER FROM HOSP/EXTRAM                       HOME   Private      NaN   \n",
              "4       EMERGENCY ROOM ADMIT                       HOME   Private      NaN   \n",
              "\n",
              "       RELIGION MARITAL_STATUS ETHNICITY  \\\n",
              "0  UNOBTAINABLE        MARRIED     WHITE   \n",
              "1     RELIGIOUS        MARRIED     WHITE   \n",
              "2     RELIGIOUS        MARRIED     WHITE   \n",
              "3     RELIGIOUS         SINGLE     WHITE   \n",
              "4  UNOBTAINABLE        MARRIED     WHITE   \n",
              "\n",
              "                                           DIAGNOSIS       LOS  DECEASED  \\\n",
              "0                            BENZODIAZEPINE OVERDOSE  1.144444         0   \n",
              "1  CORONARY ARTERY DISEASE\\CORONARY ARTERY BYPASS...  5.496528         0   \n",
              "2                                         BRAIN MASS  6.768056         0   \n",
              "3                     INTERIOR MYOCARDIAL INFARCTION  2.856944         0   \n",
              "4                            ACUTE CORONARY SYNDROME  3.534028         0   \n",
              "\n",
              "         DOB GENDER           ADMIT_MIN  \n",
              "0 2131-05-07      F 2196-04-09 12:26:00  \n",
              "1 2082-07-17      M 2153-09-03 07:15:00  \n",
              "2 2082-07-17      M 2153-09-03 07:15:00  \n",
              "3 2100-05-31      M 2139-06-06 16:14:00  \n",
              "4 2101-11-21      M 2160-11-02 02:06:00  "
            ],
            "text/html": [
              "\n",
              "  <div id=\"df-284aae2b-0bdf-4637-993e-600069c52f56\">\n",
              "    <div class=\"colab-df-container\">\n",
              "      <div>\n",
              "<style scoped>\n",
              "    .dataframe tbody tr th:only-of-type {\n",
              "        vertical-align: middle;\n",
              "    }\n",
              "\n",
              "    .dataframe tbody tr th {\n",
              "        vertical-align: top;\n",
              "    }\n",
              "\n",
              "    .dataframe thead th {\n",
              "        text-align: right;\n",
              "    }\n",
              "</style>\n",
              "<table border=\"1\" class=\"dataframe\">\n",
              "  <thead>\n",
              "    <tr style=\"text-align: right;\">\n",
              "      <th></th>\n",
              "      <th>SUBJECT_ID</th>\n",
              "      <th>HADM_ID</th>\n",
              "      <th>ADMITTIME</th>\n",
              "      <th>DEATHTIME</th>\n",
              "      <th>ADMISSION_TYPE</th>\n",
              "      <th>ADMISSION_LOCATION</th>\n",
              "      <th>DISCHARGE_LOCATION</th>\n",
              "      <th>INSURANCE</th>\n",
              "      <th>LANGUAGE</th>\n",
              "      <th>RELIGION</th>\n",
              "      <th>MARITAL_STATUS</th>\n",
              "      <th>ETHNICITY</th>\n",
              "      <th>DIAGNOSIS</th>\n",
              "      <th>LOS</th>\n",
              "      <th>DECEASED</th>\n",
              "      <th>DOB</th>\n",
              "      <th>GENDER</th>\n",
              "      <th>ADMIT_MIN</th>\n",
              "    </tr>\n",
              "  </thead>\n",
              "  <tbody>\n",
              "    <tr>\n",
              "      <th>0</th>\n",
              "      <td>22</td>\n",
              "      <td>165315</td>\n",
              "      <td>2196-04-09 12:26:00</td>\n",
              "      <td>NaN</td>\n",
              "      <td>EMERGENCY</td>\n",
              "      <td>EMERGENCY ROOM ADMIT</td>\n",
              "      <td>DISC-TRAN CANCER/CHLDRN H</td>\n",
              "      <td>Private</td>\n",
              "      <td>NaN</td>\n",
              "      <td>UNOBTAINABLE</td>\n",
              "      <td>MARRIED</td>\n",
              "      <td>WHITE</td>\n",
              "      <td>BENZODIAZEPINE OVERDOSE</td>\n",
              "      <td>1.144444</td>\n",
              "      <td>0</td>\n",
              "      <td>2131-05-07</td>\n",
              "      <td>F</td>\n",
              "      <td>2196-04-09 12:26:00</td>\n",
              "    </tr>\n",
              "    <tr>\n",
              "      <th>1</th>\n",
              "      <td>23</td>\n",
              "      <td>152223</td>\n",
              "      <td>2153-09-03 07:15:00</td>\n",
              "      <td>NaN</td>\n",
              "      <td>ELECTIVE</td>\n",
              "      <td>PHYS REFERRAL/NORMAL DELI</td>\n",
              "      <td>HOME HEALTH CARE</td>\n",
              "      <td>Medicare</td>\n",
              "      <td>NaN</td>\n",
              "      <td>RELIGIOUS</td>\n",
              "      <td>MARRIED</td>\n",
              "      <td>WHITE</td>\n",
              "      <td>CORONARY ARTERY DISEASE\\CORONARY ARTERY BYPASS...</td>\n",
              "      <td>5.496528</td>\n",
              "      <td>0</td>\n",
              "      <td>2082-07-17</td>\n",
              "      <td>M</td>\n",
              "      <td>2153-09-03 07:15:00</td>\n",
              "    </tr>\n",
              "    <tr>\n",
              "      <th>2</th>\n",
              "      <td>23</td>\n",
              "      <td>124321</td>\n",
              "      <td>2157-10-18 19:34:00</td>\n",
              "      <td>NaN</td>\n",
              "      <td>EMERGENCY</td>\n",
              "      <td>TRANSFER FROM HOSP/EXTRAM</td>\n",
              "      <td>HOME HEALTH CARE</td>\n",
              "      <td>Medicare</td>\n",
              "      <td>ENGL</td>\n",
              "      <td>RELIGIOUS</td>\n",
              "      <td>MARRIED</td>\n",
              "      <td>WHITE</td>\n",
              "      <td>BRAIN MASS</td>\n",
              "      <td>6.768056</td>\n",
              "      <td>0</td>\n",
              "      <td>2082-07-17</td>\n",
              "      <td>M</td>\n",
              "      <td>2153-09-03 07:15:00</td>\n",
              "    </tr>\n",
              "    <tr>\n",
              "      <th>3</th>\n",
              "      <td>24</td>\n",
              "      <td>161859</td>\n",
              "      <td>2139-06-06 16:14:00</td>\n",
              "      <td>NaN</td>\n",
              "      <td>EMERGENCY</td>\n",
              "      <td>TRANSFER FROM HOSP/EXTRAM</td>\n",
              "      <td>HOME</td>\n",
              "      <td>Private</td>\n",
              "      <td>NaN</td>\n",
              "      <td>RELIGIOUS</td>\n",
              "      <td>SINGLE</td>\n",
              "      <td>WHITE</td>\n",
              "      <td>INTERIOR MYOCARDIAL INFARCTION</td>\n",
              "      <td>2.856944</td>\n",
              "      <td>0</td>\n",
              "      <td>2100-05-31</td>\n",
              "      <td>M</td>\n",
              "      <td>2139-06-06 16:14:00</td>\n",
              "    </tr>\n",
              "    <tr>\n",
              "      <th>4</th>\n",
              "      <td>25</td>\n",
              "      <td>129635</td>\n",
              "      <td>2160-11-02 02:06:00</td>\n",
              "      <td>NaN</td>\n",
              "      <td>EMERGENCY</td>\n",
              "      <td>EMERGENCY ROOM ADMIT</td>\n",
              "      <td>HOME</td>\n",
              "      <td>Private</td>\n",
              "      <td>NaN</td>\n",
              "      <td>UNOBTAINABLE</td>\n",
              "      <td>MARRIED</td>\n",
              "      <td>WHITE</td>\n",
              "      <td>ACUTE CORONARY SYNDROME</td>\n",
              "      <td>3.534028</td>\n",
              "      <td>0</td>\n",
              "      <td>2101-11-21</td>\n",
              "      <td>M</td>\n",
              "      <td>2160-11-02 02:06:00</td>\n",
              "    </tr>\n",
              "  </tbody>\n",
              "</table>\n",
              "</div>\n",
              "      <button class=\"colab-df-convert\" onclick=\"convertToInteractive('df-284aae2b-0bdf-4637-993e-600069c52f56')\"\n",
              "              title=\"Convert this dataframe to an interactive table.\"\n",
              "              style=\"display:none;\">\n",
              "        \n",
              "  <svg xmlns=\"http://www.w3.org/2000/svg\" height=\"24px\"viewBox=\"0 0 24 24\"\n",
              "       width=\"24px\">\n",
              "    <path d=\"M0 0h24v24H0V0z\" fill=\"none\"/>\n",
              "    <path d=\"M18.56 5.44l.94 2.06.94-2.06 2.06-.94-2.06-.94-.94-2.06-.94 2.06-2.06.94zm-11 1L8.5 8.5l.94-2.06 2.06-.94-2.06-.94L8.5 2.5l-.94 2.06-2.06.94zm10 10l.94 2.06.94-2.06 2.06-.94-2.06-.94-.94-2.06-.94 2.06-2.06.94z\"/><path d=\"M17.41 7.96l-1.37-1.37c-.4-.4-.92-.59-1.43-.59-.52 0-1.04.2-1.43.59L10.3 9.45l-7.72 7.72c-.78.78-.78 2.05 0 2.83L4 21.41c.39.39.9.59 1.41.59.51 0 1.02-.2 1.41-.59l7.78-7.78 2.81-2.81c.8-.78.8-2.07 0-2.86zM5.41 20L4 18.59l7.72-7.72 1.47 1.35L5.41 20z\"/>\n",
              "  </svg>\n",
              "      </button>\n",
              "      \n",
              "  <style>\n",
              "    .colab-df-container {\n",
              "      display:flex;\n",
              "      flex-wrap:wrap;\n",
              "      gap: 12px;\n",
              "    }\n",
              "\n",
              "    .colab-df-convert {\n",
              "      background-color: #E8F0FE;\n",
              "      border: none;\n",
              "      border-radius: 50%;\n",
              "      cursor: pointer;\n",
              "      display: none;\n",
              "      fill: #1967D2;\n",
              "      height: 32px;\n",
              "      padding: 0 0 0 0;\n",
              "      width: 32px;\n",
              "    }\n",
              "\n",
              "    .colab-df-convert:hover {\n",
              "      background-color: #E2EBFA;\n",
              "      box-shadow: 0px 1px 2px rgba(60, 64, 67, 0.3), 0px 1px 3px 1px rgba(60, 64, 67, 0.15);\n",
              "      fill: #174EA6;\n",
              "    }\n",
              "\n",
              "    [theme=dark] .colab-df-convert {\n",
              "      background-color: #3B4455;\n",
              "      fill: #D2E3FC;\n",
              "    }\n",
              "\n",
              "    [theme=dark] .colab-df-convert:hover {\n",
              "      background-color: #434B5C;\n",
              "      box-shadow: 0px 1px 3px 1px rgba(0, 0, 0, 0.15);\n",
              "      filter: drop-shadow(0px 1px 2px rgba(0, 0, 0, 0.3));\n",
              "      fill: #FFFFFF;\n",
              "    }\n",
              "  </style>\n",
              "\n",
              "      <script>\n",
              "        const buttonEl =\n",
              "          document.querySelector('#df-284aae2b-0bdf-4637-993e-600069c52f56 button.colab-df-convert');\n",
              "        buttonEl.style.display =\n",
              "          google.colab.kernel.accessAllowed ? 'block' : 'none';\n",
              "\n",
              "        async function convertToInteractive(key) {\n",
              "          const element = document.querySelector('#df-284aae2b-0bdf-4637-993e-600069c52f56');\n",
              "          const dataTable =\n",
              "            await google.colab.kernel.invokeFunction('convertToInteractive',\n",
              "                                                     [key], {});\n",
              "          if (!dataTable) return;\n",
              "\n",
              "          const docLinkHtml = 'Like what you see? Visit the ' +\n",
              "            '<a target=\"_blank\" href=https://colab.research.google.com/notebooks/data_table.ipynb>data table notebook</a>'\n",
              "            + ' to learn more about interactive tables.';\n",
              "          element.innerHTML = '';\n",
              "          dataTable['output_type'] = 'display_data';\n",
              "          await google.colab.output.renderOutput(dataTable, element);\n",
              "          const docLink = document.createElement('div');\n",
              "          docLink.innerHTML = docLinkHtml;\n",
              "          element.appendChild(docLink);\n",
              "        }\n",
              "      </script>\n",
              "    </div>\n",
              "  </div>\n",
              "  "
            ]
          },
          "metadata": {},
          "execution_count": 40
        }
      ],
      "source": [
        "# Verify merge\n",
        "df.head()"
      ]
    },
    {
      "cell_type": "code",
      "execution_count": null,
      "metadata": {
        "id": "SDaIZ-9fYpKf",
        "colab": {
          "base_uri": "https://localhost:8080/"
        },
        "outputId": "fd6ab74e-212e-48fb-e366-34267ae5f2f2"
      },
      "outputs": [
        {
          "output_type": "execute_result",
          "data": {
            "text/plain": [
              "0"
            ]
          },
          "metadata": {},
          "execution_count": 42
        }
      ],
      "source": [
        "# Age is decode by finding the difference in admission date and date of birth\n",
        "df['ADMIT_MIN'] = pd.to_datetime(df['ADMIT_MIN'])\n",
        "df['ADMIT_MIN'] = df['ADMIT_MIN'].dt.date\n",
        "\n",
        "df['DOB'] = pd.to_datetime(df['DOB'])\n",
        "df['DOB'] = df['DOB'].dt.date\n",
        "\n",
        "df['age'] = (df['ADMIT_MIN']-df['DOB']) //365\n",
        "df['age'] = df['age'].dt.days\n",
        "\n",
        "df['age'] = np.clip(df['age'], a_min=0, a_max=90)\n",
        "df['age'].isnull().sum()"
      ]
    },
    {
      "cell_type": "code",
      "execution_count": null,
      "metadata": {
        "id": "KlAgpzsAYpKf",
        "outputId": "2554ccbb-10ca-4be7-b734-1811db94c8ff",
        "colab": {
          "base_uri": "https://localhost:8080/",
          "height": 295
        }
      },
      "outputs": [
        {
          "output_type": "display_data",
          "data": {
            "text/plain": [
              "<Figure size 432x288 with 1 Axes>"
            ],
            "image/png": "[encoded data removed]"
          },
          "metadata": {
            "needs_background": "light"
          }
        }
      ],
      "source": [
        "# Note that no ‘middle’ patients show up - this reflects the fact that MIMIC-III does not contain data from pediatric patients.\n",
        "plt.hist(df['age'], bins=20, color='#EE82EE')\n",
        "plt.ylabel('Count')\n",
        "plt.xlabel('Age (years)')\n",
        "plt.title('Distribution of Age in MIMIC-III')\n",
        "plt.tick_params(left=False, bottom=False, top=False, right=False) \n",
        "plt.show();"
      ]
    },
    {
      "cell_type": "code",
      "execution_count": null,
      "metadata": {
        "id": "B3iQ5ZbDYpKf",
        "outputId": "ae1d43fa-a20a-423c-dd7b-63d0d7e034db",
        "colab": {
          "base_uri": "https://localhost:8080/",
          "height": 312
        }
      },
      "outputs": [
        {
          "output_type": "execute_result",
          "data": {
            "text/plain": [
              "(1.0, 50.0)"
            ]
          },
          "metadata": {},
          "execution_count": 44
        },
        {
          "output_type": "display_data",
          "data": {
            "text/plain": [
              "<Figure size 432x288 with 1 Axes>"
            ],
            "image/png": "[encoded data removed]"
          },
          "metadata": {
            "needs_background": "light"
          }
        }
      ],
      "source": [
        "plt.scatter(df['age'], df['LOS'], alpha=0.005)\n",
        "#plt.yscale('sqrt')\n",
        "plt.ylabel('LOS (days)')\n",
        "plt.xlabel('Age (years)')\n",
        "plt.title('Age versus Length-of-stay')\n",
        "plt.ylim(1, 50)"
      ]
    },
    {
      "cell_type": "code",
      "execution_count": null,
      "metadata": {
        "id": "wZvbKO7HYpKf",
        "outputId": "5834bb51-9b04-4cfd-90f3-39e3ecfacfa5",
        "colab": {
          "base_uri": "https://localhost:8080/"
        }
      },
      "outputs": [
        {
          "output_type": "execute_result",
          "data": {
            "text/plain": [
              "senior          33785\n",
              "middle_adult    12732\n",
              "newborn          8101\n",
              "young_adult      4260\n",
              "Name: age, dtype: int64"
            ]
          },
          "metadata": {},
          "execution_count": 45
        }
      ],
      "source": [
        "age_ranges = [(0, 13), (13, 36), (36, 56), (56, 100)]\n",
        "for num, cat_range in enumerate(age_ranges):\n",
        "    df['age'] = np.where(df['age'].between(cat_range[0],cat_range[1]), \n",
        "            num, df['age'])\n",
        "    \n",
        "age_dict = {0: 'newborn', 1: 'young_adult', 2: 'middle_adult', 3: 'senior'}\n",
        "df['age'] = df['age'].replace(age_dict)\n",
        "df.age.value_counts()"
      ]
    },
    {
      "cell_type": "markdown",
      "metadata": {
        "id": "vwt135QRYpKg"
      },
      "source": [
        "### Gender"
      ]
    },
    {
      "cell_type": "code",
      "execution_count": null,
      "metadata": {
        "id": "s5q_yIf1YpKg",
        "outputId": "2ebdca91-5fff-49c5-9ccb-8328b2312f2b",
        "colab": {
          "base_uri": "https://localhost:8080/",
          "height": 297
        }
      },
      "outputs": [
        {
          "output_type": "display_data",
          "data": {
            "text/plain": [
              "<Figure size 576x288 with 1 Axes>"
            ],
            "image/png": "[encoded data removed]"
          },
          "metadata": {
            "needs_background": "light"
          }
        }
      ],
      "source": [
        "boxplot_los_groupby('GENDER', los_range=(0, 30))\n",
        "df['GENDER'].replace({'M': 0, 'F':1}, inplace=True)"
      ]
    },
    {
      "cell_type": "markdown",
      "metadata": {
        "id": "USpHqnqcYpKg"
      },
      "source": [
        "## ICU Stays Exploration"
      ]
    },
    {
      "cell_type": "code",
      "execution_count": null,
      "metadata": {
        "id": "gHmF74otYpKg",
        "outputId": "2c9db65e-a593-4e3e-8afe-b2acac4499a3",
        "colab": {
          "base_uri": "https://localhost:8080/"
        }
      },
      "outputs": [
        {
          "output_type": "stream",
          "name": "stdout",
          "text": [
            "<class 'pandas.core.frame.DataFrame'>\n",
            "RangeIndex: 61532 entries, 0 to 61531\n",
            "Data columns (total 12 columns):\n",
            " #   Column          Non-Null Count  Dtype  \n",
            "---  ------          --------------  -----  \n",
            " 0   ROW_ID          61532 non-null  int64  \n",
            " 1   SUBJECT_ID      61532 non-null  int64  \n",
            " 2   HADM_ID         61532 non-null  int64  \n",
            " 3   ICUSTAY_ID      61532 non-null  int64  \n",
            " 4   DBSOURCE        61532 non-null  object \n",
            " 5   FIRST_CAREUNIT  61532 non-null  object \n",
            " 6   LAST_CAREUNIT   61532 non-null  object \n",
            " 7   FIRST_WARDID    61532 non-null  int64  \n",
            " 8   LAST_WARDID     61532 non-null  int64  \n",
            " 9   INTIME          61532 non-null  object \n",
            " 10  OUTTIME         61522 non-null  object \n",
            " 11  LOS             61522 non-null  float64\n",
            "dtypes: float64(1), int64(6), object(5)\n",
            "memory usage: 5.6+ MB\n"
          ]
        }
      ],
      "source": [
        "# Intensive Care Unit (ICU) for each admission to hospital\n",
        "df_icu.info()"
      ]
    },
    {
      "cell_type": "code",
      "execution_count": null,
      "metadata": {
        "id": "Ai1z26UPYpKg",
        "outputId": "9bd50798-4365-4dfc-b427-3b0a56c4eb24",
        "colab": {
          "base_uri": "https://localhost:8080/"
        }
      },
      "outputs": [
        {
          "output_type": "execute_result",
          "data": {
            "text/plain": [
              "57786"
            ]
          },
          "metadata": {},
          "execution_count": 48
        }
      ],
      "source": [
        "df_icu['HADM_ID'].nunique()"
      ]
    },
    {
      "cell_type": "code",
      "execution_count": null,
      "metadata": {
        "id": "SR8miys_YpKg",
        "outputId": "8e0bb300-cd67-470e-f513-518e14f23d7d",
        "colab": {
          "base_uri": "https://localhost:8080/",
          "height": 269
        }
      },
      "outputs": [
        {
          "output_type": "execute_result",
          "data": {
            "text/plain": [
              "                 ROW_ID  SUBJECT_ID   HADM_ID  ICUSTAY_ID  FIRST_WARDID  \\\n",
              "FIRST_CAREUNIT                                                            \n",
              "CCU             29091.5     22964.5  150074.5    249373.5           7.0   \n",
              "CSRU            31002.5     24488.0  150225.0    250492.0          14.0   \n",
              "MICU            33612.5     26489.5  150368.0    250524.0          50.0   \n",
              "NICU            19581.5     15456.5  149206.5    249308.0          56.0   \n",
              "SICU            38089.0     30084.0  149744.0    248649.0          33.0   \n",
              "TSICU           36382.0     28716.0  148915.0    250685.0          14.0   \n",
              "\n",
              "                LAST_WARDID      LOS  \n",
              "FIRST_CAREUNIT                        \n",
              "CCU                     7.0  2.19775  \n",
              "CSRU                   14.0  2.15290  \n",
              "MICU                   50.0  2.09550  \n",
              "NICU                   56.0  0.80250  \n",
              "SICU                   33.0  2.25220  \n",
              "TSICU                  14.0  2.11150  "
            ],
            "text/html": [
              "\n",
              "  <div id=\"df-5e978c93-708a-4d39-933e-b01020f74b2b\">\n",
              "    <div class=\"colab-df-container\">\n",
              "      <div>\n",
              "<style scoped>\n",
              "    .dataframe tbody tr th:only-of-type {\n",
              "        vertical-align: middle;\n",
              "    }\n",
              "\n",
              "    .dataframe tbody tr th {\n",
              "        vertical-align: top;\n",
              "    }\n",
              "\n",
              "    .dataframe thead th {\n",
              "        text-align: right;\n",
              "    }\n",
              "</style>\n",
              "<table border=\"1\" class=\"dataframe\">\n",
              "  <thead>\n",
              "    <tr style=\"text-align: right;\">\n",
              "      <th></th>\n",
              "      <th>ROW_ID</th>\n",
              "      <th>SUBJECT_ID</th>\n",
              "      <th>HADM_ID</th>\n",
              "      <th>ICUSTAY_ID</th>\n",
              "      <th>FIRST_WARDID</th>\n",
              "      <th>LAST_WARDID</th>\n",
              "      <th>LOS</th>\n",
              "    </tr>\n",
              "    <tr>\n",
              "      <th>FIRST_CAREUNIT</th>\n",
              "      <th></th>\n",
              "      <th></th>\n",
              "      <th></th>\n",
              "      <th></th>\n",
              "      <th></th>\n",
              "      <th></th>\n",
              "      <th></th>\n",
              "    </tr>\n",
              "  </thead>\n",
              "  <tbody>\n",
              "    <tr>\n",
              "      <th>CCU</th>\n",
              "      <td>29091.5</td>\n",
              "      <td>22964.5</td>\n",
              "      <td>150074.5</td>\n",
              "      <td>249373.5</td>\n",
              "      <td>7.0</td>\n",
              "      <td>7.0</td>\n",
              "      <td>2.19775</td>\n",
              "    </tr>\n",
              "    <tr>\n",
              "      <th>CSRU</th>\n",
              "      <td>31002.5</td>\n",
              "      <td>24488.0</td>\n",
              "      <td>150225.0</td>\n",
              "      <td>250492.0</td>\n",
              "      <td>14.0</td>\n",
              "      <td>14.0</td>\n",
              "      <td>2.15290</td>\n",
              "    </tr>\n",
              "    <tr>\n",
              "      <th>MICU</th>\n",
              "      <td>33612.5</td>\n",
              "      <td>26489.5</td>\n",
              "      <td>150368.0</td>\n",
              "      <td>250524.0</td>\n",
              "      <td>50.0</td>\n",
              "      <td>50.0</td>\n",
              "      <td>2.09550</td>\n",
              "    </tr>\n",
              "    <tr>\n",
              "      <th>NICU</th>\n",
              "      <td>19581.5</td>\n",
              "      <td>15456.5</td>\n",
              "      <td>149206.5</td>\n",
              "      <td>249308.0</td>\n",
              "      <td>56.0</td>\n",
              "      <td>56.0</td>\n",
              "      <td>0.80250</td>\n",
              "    </tr>\n",
              "    <tr>\n",
              "      <th>SICU</th>\n",
              "      <td>38089.0</td>\n",
              "      <td>30084.0</td>\n",
              "      <td>149744.0</td>\n",
              "      <td>248649.0</td>\n",
              "      <td>33.0</td>\n",
              "      <td>33.0</td>\n",
              "      <td>2.25220</td>\n",
              "    </tr>\n",
              "    <tr>\n",
              "      <th>TSICU</th>\n",
              "      <td>36382.0</td>\n",
              "      <td>28716.0</td>\n",
              "      <td>148915.0</td>\n",
              "      <td>250685.0</td>\n",
              "      <td>14.0</td>\n",
              "      <td>14.0</td>\n",
              "      <td>2.11150</td>\n",
              "    </tr>\n",
              "  </tbody>\n",
              "</table>\n",
              "</div>\n",
              "      <button class=\"colab-df-convert\" onclick=\"convertToInteractive('df-5e978c93-708a-4d39-933e-b01020f74b2b')\"\n",
              "              title=\"Convert this dataframe to an interactive table.\"\n",
              "              style=\"display:none;\">\n",
              "        \n",
              "  <svg xmlns=\"http://www.w3.org/2000/svg\" height=\"24px\"viewBox=\"0 0 24 24\"\n",
              "       width=\"24px\">\n",
              "    <path d=\"M0 0h24v24H0V0z\" fill=\"none\"/>\n",
              "    <path d=\"M18.56 5.44l.94 2.06.94-2.06 2.06-.94-2.06-.94-.94-2.06-.94 2.06-2.06.94zm-11 1L8.5 8.5l.94-2.06 2.06-.94-2.06-.94L8.5 2.5l-.94 2.06-2.06.94zm10 10l.94 2.06.94-2.06 2.06-.94-2.06-.94-.94-2.06-.94 2.06-2.06.94z\"/><path d=\"M17.41 7.96l-1.37-1.37c-.4-.4-.92-.59-1.43-.59-.52 0-1.04.2-1.43.59L10.3 9.45l-7.72 7.72c-.78.78-.78 2.05 0 2.83L4 21.41c.39.39.9.59 1.41.59.51 0 1.02-.2 1.41-.59l7.78-7.78 2.81-2.81c.8-.78.8-2.07 0-2.86zM5.41 20L4 18.59l7.72-7.72 1.47 1.35L5.41 20z\"/>\n",
              "  </svg>\n",
              "      </button>\n",
              "      \n",
              "  <style>\n",
              "    .colab-df-container {\n",
              "      display:flex;\n",
              "      flex-wrap:wrap;\n",
              "      gap: 12px;\n",
              "    }\n",
              "\n",
              "    .colab-df-convert {\n",
              "      background-color: #E8F0FE;\n",
              "      border: none;\n",
              "      border-radius: 50%;\n",
              "      cursor: pointer;\n",
              "      display: none;\n",
              "      fill: #1967D2;\n",
              "      height: 32px;\n",
              "      padding: 0 0 0 0;\n",
              "      width: 32px;\n",
              "    }\n",
              "\n",
              "    .colab-df-convert:hover {\n",
              "      background-color: #E2EBFA;\n",
              "      box-shadow: 0px 1px 2px rgba(60, 64, 67, 0.3), 0px 1px 3px 1px rgba(60, 64, 67, 0.15);\n",
              "      fill: #174EA6;\n",
              "    }\n",
              "\n",
              "    [theme=dark] .colab-df-convert {\n",
              "      background-color: #3B4455;\n",
              "      fill: #D2E3FC;\n",
              "    }\n",
              "\n",
              "    [theme=dark] .colab-df-convert:hover {\n",
              "      background-color: #434B5C;\n",
              "      box-shadow: 0px 1px 3px 1px rgba(0, 0, 0, 0.15);\n",
              "      filter: drop-shadow(0px 1px 2px rgba(0, 0, 0, 0.3));\n",
              "      fill: #FFFFFF;\n",
              "    }\n",
              "  </style>\n",
              "\n",
              "      <script>\n",
              "        const buttonEl =\n",
              "          document.querySelector('#df-5e978c93-708a-4d39-933e-b01020f74b2b button.colab-df-convert');\n",
              "        buttonEl.style.display =\n",
              "          google.colab.kernel.accessAllowed ? 'block' : 'none';\n",
              "\n",
              "        async function convertToInteractive(key) {\n",
              "          const element = document.querySelector('#df-5e978c93-708a-4d39-933e-b01020f74b2b');\n",
              "          const dataTable =\n",
              "            await google.colab.kernel.invokeFunction('convertToInteractive',\n",
              "                                                     [key], {});\n",
              "          if (!dataTable) return;\n",
              "\n",
              "          const docLinkHtml = 'Like what you see? Visit the ' +\n",
              "            '<a target=\"_blank\" href=https://colab.research.google.com/notebooks/data_table.ipynb>data table notebook</a>'\n",
              "            + ' to learn more about interactive tables.';\n",
              "          element.innerHTML = '';\n",
              "          dataTable['output_type'] = 'display_data';\n",
              "          await google.colab.output.renderOutput(dataTable, element);\n",
              "          const docLink = document.createElement('div');\n",
              "          docLink.innerHTML = docLinkHtml;\n",
              "          element.appendChild(docLink);\n",
              "        }\n",
              "      </script>\n",
              "    </div>\n",
              "  </div>\n",
              "  "
            ]
          },
          "metadata": {},
          "execution_count": 49
        }
      ],
      "source": [
        "df_icu.groupby('FIRST_CAREUNIT').median()"
      ]
    },
    {
      "cell_type": "markdown",
      "metadata": {
        "id": "EAAd1N9XYpKg"
      },
      "source": [
        "### ICU"
      ]
    },
    {
      "cell_type": "code",
      "execution_count": null,
      "metadata": {
        "id": "NKLuidd6YpKg"
      },
      "outputs": [],
      "source": [
        "# Based on above statistics, reduce to just ICU and NICU groups\n",
        "df_icu['FIRST_CAREUNIT'].replace({'CCU': 'ICU', 'CSRU': 'ICU', 'MICU': 'ICU',\n",
        "                                  'SICU': 'ICU', 'TSICU': 'ICU'}, inplace=True)"
      ]
    },
    {
      "cell_type": "code",
      "execution_count": null,
      "metadata": {
        "id": "StGzmrHHYpKg",
        "outputId": "9cd22e50-c396-4b4c-c9b2-2d964c4c5d28",
        "colab": {
          "base_uri": "https://localhost:8080/",
          "height": 206
        }
      },
      "outputs": [
        {
          "output_type": "execute_result",
          "data": {
            "text/plain": [
              "   HADM_ID    cat\n",
              "0   100001  [ICU]\n",
              "1   100003  [ICU]\n",
              "2   100006  [ICU]\n",
              "3   100007  [ICU]\n",
              "4   100009  [ICU]"
            ],
            "text/html": [
              "\n",
              "  <div id=\"df-b36d8c6f-73e5-4859-ab18-e49f3883d24c\">\n",
              "    <div class=\"colab-df-container\">\n",
              "      <div>\n",
              "<style scoped>\n",
              "    .dataframe tbody tr th:only-of-type {\n",
              "        vertical-align: middle;\n",
              "    }\n",
              "\n",
              "    .dataframe tbody tr th {\n",
              "        vertical-align: top;\n",
              "    }\n",
              "\n",
              "    .dataframe thead th {\n",
              "        text-align: right;\n",
              "    }\n",
              "</style>\n",
              "<table border=\"1\" class=\"dataframe\">\n",
              "  <thead>\n",
              "    <tr style=\"text-align: right;\">\n",
              "      <th></th>\n",
              "      <th>HADM_ID</th>\n",
              "      <th>cat</th>\n",
              "    </tr>\n",
              "  </thead>\n",
              "  <tbody>\n",
              "    <tr>\n",
              "      <th>0</th>\n",
              "      <td>100001</td>\n",
              "      <td>[ICU]</td>\n",
              "    </tr>\n",
              "    <tr>\n",
              "      <th>1</th>\n",
              "      <td>100003</td>\n",
              "      <td>[ICU]</td>\n",
              "    </tr>\n",
              "    <tr>\n",
              "      <th>2</th>\n",
              "      <td>100006</td>\n",
              "      <td>[ICU]</td>\n",
              "    </tr>\n",
              "    <tr>\n",
              "      <th>3</th>\n",
              "      <td>100007</td>\n",
              "      <td>[ICU]</td>\n",
              "    </tr>\n",
              "    <tr>\n",
              "      <th>4</th>\n",
              "      <td>100009</td>\n",
              "      <td>[ICU]</td>\n",
              "    </tr>\n",
              "  </tbody>\n",
              "</table>\n",
              "</div>\n",
              "      <button class=\"colab-df-convert\" onclick=\"convertToInteractive('df-b36d8c6f-73e5-4859-ab18-e49f3883d24c')\"\n",
              "              title=\"Convert this dataframe to an interactive table.\"\n",
              "              style=\"display:none;\">\n",
              "        \n",
              "  <svg xmlns=\"http://www.w3.org/2000/svg\" height=\"24px\"viewBox=\"0 0 24 24\"\n",
              "       width=\"24px\">\n",
              "    <path d=\"M0 0h24v24H0V0z\" fill=\"none\"/>\n",
              "    <path d=\"M18.56 5.44l.94 2.06.94-2.06 2.06-.94-2.06-.94-.94-2.06-.94 2.06-2.06.94zm-11 1L8.5 8.5l.94-2.06 2.06-.94-2.06-.94L8.5 2.5l-.94 2.06-2.06.94zm10 10l.94 2.06.94-2.06 2.06-.94-2.06-.94-.94-2.06-.94 2.06-2.06.94z\"/><path d=\"M17.41 7.96l-1.37-1.37c-.4-.4-.92-.59-1.43-.59-.52 0-1.04.2-1.43.59L10.3 9.45l-7.72 7.72c-.78.78-.78 2.05 0 2.83L4 21.41c.39.39.9.59 1.41.59.51 0 1.02-.2 1.41-.59l7.78-7.78 2.81-2.81c.8-.78.8-2.07 0-2.86zM5.41 20L4 18.59l7.72-7.72 1.47 1.35L5.41 20z\"/>\n",
              "  </svg>\n",
              "      </button>\n",
              "      \n",
              "  <style>\n",
              "    .colab-df-container {\n",
              "      display:flex;\n",
              "      flex-wrap:wrap;\n",
              "      gap: 12px;\n",
              "    }\n",
              "\n",
              "    .colab-df-convert {\n",
              "      background-color: #E8F0FE;\n",
              "      border: none;\n",
              "      border-radius: 50%;\n",
              "      cursor: pointer;\n",
              "      display: none;\n",
              "      fill: #1967D2;\n",
              "      height: 32px;\n",
              "      padding: 0 0 0 0;\n",
              "      width: 32px;\n",
              "    }\n",
              "\n",
              "    .colab-df-convert:hover {\n",
              "      background-color: #E2EBFA;\n",
              "      box-shadow: 0px 1px 2px rgba(60, 64, 67, 0.3), 0px 1px 3px 1px rgba(60, 64, 67, 0.15);\n",
              "      fill: #174EA6;\n",
              "    }\n",
              "\n",
              "    [theme=dark] .colab-df-convert {\n",
              "      background-color: #3B4455;\n",
              "      fill: #D2E3FC;\n",
              "    }\n",
              "\n",
              "    [theme=dark] .colab-df-convert:hover {\n",
              "      background-color: #434B5C;\n",
              "      box-shadow: 0px 1px 3px 1px rgba(0, 0, 0, 0.15);\n",
              "      filter: drop-shadow(0px 1px 2px rgba(0, 0, 0, 0.3));\n",
              "      fill: #FFFFFF;\n",
              "    }\n",
              "  </style>\n",
              "\n",
              "      <script>\n",
              "        const buttonEl =\n",
              "          document.querySelector('#df-b36d8c6f-73e5-4859-ab18-e49f3883d24c button.colab-df-convert');\n",
              "        buttonEl.style.display =\n",
              "          google.colab.kernel.accessAllowed ? 'block' : 'none';\n",
              "\n",
              "        async function convertToInteractive(key) {\n",
              "          const element = document.querySelector('#df-b36d8c6f-73e5-4859-ab18-e49f3883d24c');\n",
              "          const dataTable =\n",
              "            await google.colab.kernel.invokeFunction('convertToInteractive',\n",
              "                                                     [key], {});\n",
              "          if (!dataTable) return;\n",
              "\n",
              "          const docLinkHtml = 'Like what you see? Visit the ' +\n",
              "            '<a target=\"_blank\" href=https://colab.research.google.com/notebooks/data_table.ipynb>data table notebook</a>'\n",
              "            + ' to learn more about interactive tables.';\n",
              "          element.innerHTML = '';\n",
              "          dataTable['output_type'] = 'display_data';\n",
              "          await google.colab.output.renderOutput(dataTable, element);\n",
              "          const docLink = document.createElement('div');\n",
              "          docLink.innerHTML = docLinkHtml;\n",
              "          element.appendChild(docLink);\n",
              "        }\n",
              "      </script>\n",
              "    </div>\n",
              "  </div>\n",
              "  "
            ]
          },
          "metadata": {},
          "execution_count": 51
        }
      ],
      "source": [
        "df_icu['cat'] = df_icu['FIRST_CAREUNIT']\n",
        "icu_list = df_icu.groupby('HADM_ID')['cat'].apply(list).reset_index()\n",
        "icu_list.head()"
      ]
    },
    {
      "cell_type": "code",
      "execution_count": null,
      "metadata": {
        "id": "VBwnP25mYpKg",
        "outputId": "069b6a42-d53f-4da8-e121-86967c100363",
        "colab": {
          "base_uri": "https://localhost:8080/"
        }
      },
      "outputs": [
        {
          "output_type": "execute_result",
          "data": {
            "text/plain": [
              "ICU     53432\n",
              "NICU     8100\n",
              "Name: FIRST_CAREUNIT, dtype: int64"
            ]
          },
          "metadata": {},
          "execution_count": 52
        }
      ],
      "source": [
        "df_icu['FIRST_CAREUNIT'].value_counts()"
      ]
    },
    {
      "cell_type": "code",
      "execution_count": null,
      "metadata": {
        "id": "cajlQeRmYpKg",
        "outputId": "e9fd85ba-f3d6-4dc8-8156-bd833d4d51d0",
        "colab": {
          "base_uri": "https://localhost:8080/",
          "height": 261
        }
      },
      "outputs": [
        {
          "output_type": "stream",
          "name": "stderr",
          "text": [
            "<ipython-input-53-4ccd019bc601>:2: FutureWarning: Using the level keyword in DataFrame and Series aggregations is deprecated and will be removed in a future version. Use groupby instead. df.sum(level=1) should use df.groupby(level=1).sum().\n",
            "  icu_item = pd.get_dummies(icu_list['cat'].apply(pd.Series).stack()).sum(level=0)\n"
          ]
        },
        {
          "output_type": "execute_result",
          "data": {
            "text/plain": [
              "   ICU  NICU  HADM_ID\n",
              "0    1     0   100001\n",
              "1    1     0   100003\n",
              "2    1     0   100006\n",
              "3    1     0   100007\n",
              "4    1     0   100009"
            ],
            "text/html": [
              "\n",
              "  <div id=\"df-f1e4c6cb-efeb-473f-92a2-21bdd4d395e0\">\n",
              "    <div class=\"colab-df-container\">\n",
              "      <div>\n",
              "<style scoped>\n",
              "    .dataframe tbody tr th:only-of-type {\n",
              "        vertical-align: middle;\n",
              "    }\n",
              "\n",
              "    .dataframe tbody tr th {\n",
              "        vertical-align: top;\n",
              "    }\n",
              "\n",
              "    .dataframe thead th {\n",
              "        text-align: right;\n",
              "    }\n",
              "</style>\n",
              "<table border=\"1\" class=\"dataframe\">\n",
              "  <thead>\n",
              "    <tr style=\"text-align: right;\">\n",
              "      <th></th>\n",
              "      <th>ICU</th>\n",
              "      <th>NICU</th>\n",
              "      <th>HADM_ID</th>\n",
              "    </tr>\n",
              "  </thead>\n",
              "  <tbody>\n",
              "    <tr>\n",
              "      <th>0</th>\n",
              "      <td>1</td>\n",
              "      <td>0</td>\n",
              "      <td>100001</td>\n",
              "    </tr>\n",
              "    <tr>\n",
              "      <th>1</th>\n",
              "      <td>1</td>\n",
              "      <td>0</td>\n",
              "      <td>100003</td>\n",
              "    </tr>\n",
              "    <tr>\n",
              "      <th>2</th>\n",
              "      <td>1</td>\n",
              "      <td>0</td>\n",
              "      <td>100006</td>\n",
              "    </tr>\n",
              "    <tr>\n",
              "      <th>3</th>\n",
              "      <td>1</td>\n",
              "      <td>0</td>\n",
              "      <td>100007</td>\n",
              "    </tr>\n",
              "    <tr>\n",
              "      <th>4</th>\n",
              "      <td>1</td>\n",
              "      <td>0</td>\n",
              "      <td>100009</td>\n",
              "    </tr>\n",
              "  </tbody>\n",
              "</table>\n",
              "</div>\n",
              "      <button class=\"colab-df-convert\" onclick=\"convertToInteractive('df-f1e4c6cb-efeb-473f-92a2-21bdd4d395e0')\"\n",
              "              title=\"Convert this dataframe to an interactive table.\"\n",
              "              style=\"display:none;\">\n",
              "        \n",
              "  <svg xmlns=\"http://www.w3.org/2000/svg\" height=\"24px\"viewBox=\"0 0 24 24\"\n",
              "       width=\"24px\">\n",
              "    <path d=\"M0 0h24v24H0V0z\" fill=\"none\"/>\n",
              "    <path d=\"M18.56 5.44l.94 2.06.94-2.06 2.06-.94-2.06-.94-.94-2.06-.94 2.06-2.06.94zm-11 1L8.5 8.5l.94-2.06 2.06-.94-2.06-.94L8.5 2.5l-.94 2.06-2.06.94zm10 10l.94 2.06.94-2.06 2.06-.94-2.06-.94-.94-2.06-.94 2.06-2.06.94z\"/><path d=\"M17.41 7.96l-1.37-1.37c-.4-.4-.92-.59-1.43-.59-.52 0-1.04.2-1.43.59L10.3 9.45l-7.72 7.72c-.78.78-.78 2.05 0 2.83L4 21.41c.39.39.9.59 1.41.59.51 0 1.02-.2 1.41-.59l7.78-7.78 2.81-2.81c.8-.78.8-2.07 0-2.86zM5.41 20L4 18.59l7.72-7.72 1.47 1.35L5.41 20z\"/>\n",
              "  </svg>\n",
              "      </button>\n",
              "      \n",
              "  <style>\n",
              "    .colab-df-container {\n",
              "      display:flex;\n",
              "      flex-wrap:wrap;\n",
              "      gap: 12px;\n",
              "    }\n",
              "\n",
              "    .colab-df-convert {\n",
              "      background-color: #E8F0FE;\n",
              "      border: none;\n",
              "      border-radius: 50%;\n",
              "      cursor: pointer;\n",
              "      display: none;\n",
              "      fill: #1967D2;\n",
              "      height: 32px;\n",
              "      padding: 0 0 0 0;\n",
              "      width: 32px;\n",
              "    }\n",
              "\n",
              "    .colab-df-convert:hover {\n",
              "      background-color: #E2EBFA;\n",
              "      box-shadow: 0px 1px 2px rgba(60, 64, 67, 0.3), 0px 1px 3px 1px rgba(60, 64, 67, 0.15);\n",
              "      fill: #174EA6;\n",
              "    }\n",
              "\n",
              "    [theme=dark] .colab-df-convert {\n",
              "      background-color: #3B4455;\n",
              "      fill: #D2E3FC;\n",
              "    }\n",
              "\n",
              "    [theme=dark] .colab-df-convert:hover {\n",
              "      background-color: #434B5C;\n",
              "      box-shadow: 0px 1px 3px 1px rgba(0, 0, 0, 0.15);\n",
              "      filter: drop-shadow(0px 1px 2px rgba(0, 0, 0, 0.3));\n",
              "      fill: #FFFFFF;\n",
              "    }\n",
              "  </style>\n",
              "\n",
              "      <script>\n",
              "        const buttonEl =\n",
              "          document.querySelector('#df-f1e4c6cb-efeb-473f-92a2-21bdd4d395e0 button.colab-df-convert');\n",
              "        buttonEl.style.display =\n",
              "          google.colab.kernel.accessAllowed ? 'block' : 'none';\n",
              "\n",
              "        async function convertToInteractive(key) {\n",
              "          const element = document.querySelector('#df-f1e4c6cb-efeb-473f-92a2-21bdd4d395e0');\n",
              "          const dataTable =\n",
              "            await google.colab.kernel.invokeFunction('convertToInteractive',\n",
              "                                                     [key], {});\n",
              "          if (!dataTable) return;\n",
              "\n",
              "          const docLinkHtml = 'Like what you see? Visit the ' +\n",
              "            '<a target=\"_blank\" href=https://colab.research.google.com/notebooks/data_table.ipynb>data table notebook</a>'\n",
              "            + ' to learn more about interactive tables.';\n",
              "          element.innerHTML = '';\n",
              "          dataTable['output_type'] = 'display_data';\n",
              "          await google.colab.output.renderOutput(dataTable, element);\n",
              "          const docLink = document.createElement('div');\n",
              "          docLink.innerHTML = docLinkHtml;\n",
              "          element.appendChild(docLink);\n",
              "        }\n",
              "      </script>\n",
              "    </div>\n",
              "  </div>\n",
              "  "
            ]
          },
          "metadata": {},
          "execution_count": 53
        }
      ],
      "source": [
        "# Create admission-ICU matrix\n",
        "icu_item = pd.get_dummies(icu_list['cat'].apply(pd.Series).stack()).sum(level=0)\n",
        "icu_item[icu_item >= 1] = 1\n",
        "icu_item = icu_item.join(icu_list['HADM_ID'], how=\"outer\")\n",
        "icu_item.head()"
      ]
    },
    {
      "cell_type": "code",
      "execution_count": null,
      "metadata": {
        "id": "WTxpO2lrYpKg",
        "outputId": "451e77a3-26d2-4583-9243-87e435844131",
        "colab": {
          "base_uri": "https://localhost:8080/"
        }
      },
      "outputs": [
        {
          "output_type": "stream",
          "name": "stdout",
          "text": [
            "Number of admissions to ICU 49794.\n",
            "Number of admissions to NICU 7992.\n"
          ]
        }
      ],
      "source": [
        "print(\"Number of admissions to ICU {}.\".format(icu_item.ICU.sum()))\n",
        "print(\"Number of admissions to NICU {}.\".format(icu_item.NICU.sum()))"
      ]
    },
    {
      "cell_type": "code",
      "execution_count": null,
      "metadata": {
        "id": "NlSLLw8FYpKg"
      },
      "outputs": [],
      "source": [
        "# Merge ICU data with main dataFrame\n",
        "df = df.merge(icu_item, how='outer', on='HADM_ID')"
      ]
    },
    {
      "cell_type": "code",
      "execution_count": null,
      "metadata": {
        "id": "xp8lf9EmYpKg"
      },
      "outputs": [],
      "source": [
        "# Replace NaNs with 0\n",
        "df['ICU'].fillna(value=0, inplace=True)\n",
        "df['NICU'].fillna(value=0, inplace=True)"
      ]
    },
    {
      "cell_type": "code",
      "execution_count": null,
      "metadata": {
        "id": "w_rzCEA0YpKg",
        "outputId": "24770380-f6c4-451c-ed50-a322454524fd",
        "colab": {
          "base_uri": "https://localhost:8080/"
        }
      },
      "outputs": [
        {
          "output_type": "stream",
          "name": "stdout",
          "text": [
            "1.0    49794\n",
            "0.0     9168\n",
            "Name: ICU, dtype: int64\n",
            "0.0    50970\n",
            "1.0     7992\n",
            "Name: NICU, dtype: int64\n"
          ]
        }
      ],
      "source": [
        "# Verify NaN fix\n",
        "print(df.ICU.value_counts(dropna=False))\n",
        "print(df.NICU.value_counts(dropna=False))"
      ]
    },
    {
      "cell_type": "markdown",
      "metadata": {
        "id": "z4Hwqufu50fX"
      },
      "source": [
        "<a class=\"anchor\" id=\"Data-Preprocessing\"></a>\n",
        "# Data Preprocessing"
      ]
    },
    {
      "cell_type": "code",
      "execution_count": null,
      "metadata": {
        "id": "48_soK2S50fX"
      },
      "outputs": [],
      "source": [
        "def mimic_los_cleanup(adm_csv, patients_csv,diagcode_csv, icu_csv,verbose=True):\n",
        "    '''\n",
        "    This function take 4 csv files from the MIMIC-III database, converts them to\n",
        "    DataFrames for cleanup and feature engineering for use in a Length-of-Stay\n",
        "    regression model such as the sklearn GradientBoostingRegressor. \n",
        "    \n",
        "    INPUT:\n",
        "    adm_csv - Primary Admissions information\n",
        "    patients_csv - Patient specific info such as gender and DOB\n",
        "    diagcode_csv - ICD9 Diagnosis for each admission to hospital\n",
        "    icu_csv - Intensive Care Unit (ICU) data for each admission \n",
        "    \n",
        "    OUTPUT:\n",
        "    df - clean DataFrame for use in an regression model\n",
        "    actual_median_los - Median LOS for all admissions \n",
        "    actual_mean_los - Average LOS for all admissions\n",
        "    '''\n",
        "    \n",
        "    # Import CSV tables\n",
        "    df = pd.read_csv(adm_csv)\n",
        "    df_pat = pd.read_csv(patients_csv)\n",
        "    df_diagcode = pd.read_csv(diagcode_csv)\n",
        "    df_icu = pd.read_csv(icu_csv)\n",
        "    if verbose: \n",
        "        print('(1/5) Completed .csv imports')\n",
        "        \n",
        "    # Feature Engineering for Length of Stay (LOS) target variable\n",
        "    # Convert admission and discharge times to datatime type\n",
        "    df['ADMITTIME'] = pd.to_datetime(df['ADMITTIME'])\n",
        "    df['DISCHTIME'] = pd.to_datetime(df['DISCHTIME'])\n",
        "    # Convert timedelta type into float 'days', 86400 seconds in a day\n",
        "    df['LOS'] = (df['DISCHTIME'] - df['ADMITTIME']).dt.total_seconds()/86400\n",
        "    \n",
        "    # Drop columns that are not needed for next steps\n",
        "    df.drop(columns=['DISCHTIME', 'ROW_ID', 'EDREGTIME', 'EDOUTTIME', 'HOSPITAL_EXPIRE_FLAG','HAS_CHARTEVENTS_DATA'], inplace=True)\n",
        "    \n",
        "    # Track patients who died at the hospital by admission event\n",
        "    df['DECEASED'] = df['DEATHTIME'].notnull().map({True:1, False:0})\n",
        "    \n",
        "    # Hospital LOS metrics\n",
        "    actual_mean_los = df['LOS'].loc[df['DECEASED'] == 0].mean() \n",
        "    actual_median_los = df['LOS'].loc[df['DECEASED'] == 0].median() \n",
        "    \n",
        "    # Compress the number of ethnicity categories\n",
        "    df['ETHNICITY'].replace(regex=r'^ASIAN\\D*', value='ASIAN', inplace=True)\n",
        "    df['ETHNICITY'].replace(regex=r'^WHITE\\D*', value='WHITE', inplace=True)\n",
        "    df['ETHNICITY'].replace(regex=r'^HISPANIC\\D*', value='HISPANIC/LATINO', inplace=True)\n",
        "    df['ETHNICITY'].replace(regex=r'^BLACK\\D*', value='BLACK/AFRICAN AMERICAN', inplace=True)\n",
        "    df['ETHNICITY'].replace(['UNABLE TO OBTAIN', 'OTHER', 'PATIENT DECLINED TO ANSWER', 'UNKNOWN/NOT SPECIFIED'], value='OTHER/UNKNOWN', inplace=True)\n",
        "    df['ETHNICITY'].loc[~df['ETHNICITY'].isin(df['ETHNICITY'].value_counts().nlargest(5).index.tolist())] = 'OTHER/UNKNOWN'\n",
        "\n",
        "    # Reduce categories to terms of religious or not\n",
        "    df['RELIGION'].loc[~df['RELIGION'].isin(['NOT SPECIFIED', 'UNOBTAINABLE'])] = 'RELIGIOUS'\n",
        "\n",
        "    # Re-categorize NaNs into 'Unknown'\n",
        "    df['MARITAL_STATUS'] = df['MARITAL_STATUS'].fillna('UNKNOWN (DEFAULT)')\n",
        "    \n",
        "    if verbose: \n",
        "        print('(2/5) Completed ADMISSIONS.csv cleanup and feature engineering.')\n",
        "        \n",
        "    # Feature Engineering for ICD9 code categories\n",
        "    # Filter out E and V codes since processing will be done on the numeric first 3 values\n",
        "    df_diagcode['recode'] = df_diagcode['ICD9_CODE']\n",
        "    df_diagcode['recode'] = df_diagcode['recode'][~df_diagcode['recode'].str.contains(\"[a-zA-Z]\").fillna(False)]\n",
        "    df_diagcode['recode'].fillna(value='999', inplace=True)\n",
        "    df_diagcode['recode'] = df_diagcode['recode'].str.slice(start=0, stop=3, step=1)\n",
        "    df_diagcode['recode'] = df_diagcode['recode'].astype(int)\n",
        "    \n",
        "    # ICD-9 Main Category ranges\n",
        "    icd9_ranges = [(1, 140), \n",
        "                   (140, 240), \n",
        "                   (240, 280), \n",
        "                   (280, 290), \n",
        "                   (290, 320), \n",
        "                   (320, 390), \n",
        "                   (390, 460), \n",
        "                   (460, 520), \n",
        "                   (520, 580), \n",
        "                   (580, 630), \n",
        "                   (630, 680), \n",
        "                   (680, 710),\n",
        "                   (710, 740), \n",
        "                   (740, 760), \n",
        "                   (760, 780), \n",
        "                   (780, 800), \n",
        "                   (800, 1000), \n",
        "                   (1000, 2000)]\n",
        "\n",
        "    # Associated category names\n",
        "    diag_dict = {0: 'infectious', \n",
        "                 1: 'neoplasms', \n",
        "                 2: 'endocrine', \n",
        "                 3: 'blood',\n",
        "                 4: 'mental', \n",
        "                 5: 'nervous', \n",
        "                 6: 'circulatory', \n",
        "                 7: 'respiratory',\n",
        "                 8: 'digestive', \n",
        "                 9: 'genitourinary', \n",
        "                 10: 'pregnancy', \n",
        "                 11: 'skin', \n",
        "                 12: 'muscular', \n",
        "                 13: 'congenital', \n",
        "                 14: 'prenatal', \n",
        "                 15: 'misc',\n",
        "                 16: 'injury', \n",
        "                 17: 'misc'}\n",
        "\n",
        "    # Re-code in terms of integer\n",
        "    for num, cat_range in enumerate(icd9_ranges):\n",
        "        df_diagcode['recode'] = np.where(df_diagcode['recode'].between(cat_range[0],cat_range[1]), num, df_diagcode['recode'])\n",
        "\n",
        "    # Convert integer to category name using diag_dict\n",
        "    df_diagcode['recode'] = df_diagcode['recode']\n",
        "    df_diagcode['cat'] = df_diagcode['recode'].replace(diag_dict)\n",
        "    \n",
        "    # Create list of diagnoses for each admission\n",
        "    hadm_list = df_diagcode.groupby('HADM_ID')['cat'].apply(list).reset_index()\n",
        "    \n",
        "    # Convert diagnoses list into hospital admission-item matrix\n",
        "    hadm_item = pd.get_dummies(hadm_list['cat'].apply(pd.Series).stack()).sum(level=0)\n",
        "    \n",
        "    # Join back with HADM_ID, will merge with main admissions DF later\n",
        "    hadm_item = hadm_item.join(hadm_list['HADM_ID'], how=\"outer\")\n",
        "\n",
        "    # Merge with main admissions df\n",
        "    df = df.merge(hadm_item, how='inner', on='HADM_ID')\n",
        "    \n",
        "    if verbose: \n",
        "        print('(3/5) Completed DIAGNOSES_ICD.csv cleanup and feature engineering.')\n",
        "    \n",
        "    # Feature Engineering for Age and Gender\n",
        "    # Convert to datetime type\n",
        "    df_pat['DOB'] = pd.to_datetime(df_pat['DOB'])\n",
        "    df_pat = df_pat[['SUBJECT_ID', 'DOB', 'GENDER']]\n",
        "    df = df.merge(df_pat, how='inner', on='SUBJECT_ID')\n",
        "    \n",
        "    # Find the first admission time for each patient\n",
        "    df_age_min = df[['SUBJECT_ID', 'ADMITTIME']].groupby('SUBJECT_ID').min().reset_index()\n",
        "    df_age_min.columns = ['SUBJECT_ID', 'ADMIT_MIN']\n",
        "    df = df.merge(df_age_min, how='outer', on='SUBJECT_ID')\n",
        "    \n",
        "    # Age is decode by finding the difference in admission date and date of birth\n",
        "    df['ADMIT_MIN'] = pd.to_datetime(df['ADMIT_MIN'])\n",
        "    df['ADMIT_MIN'] = df['ADMIT_MIN'].dt.date\n",
        "\n",
        "    df['DOB'] = pd.to_datetime(df['DOB'])\n",
        "    df['DOB'] = df['DOB'].dt.date\n",
        "\n",
        "    df['age'] = (df['ADMIT_MIN']-df['DOB']) //365\n",
        "    df['age'] = df['age'].dt.days\n",
        "\n",
        "    df['age'] = np.clip(df['age'], a_min=0, a_max=90)\n",
        "    \n",
        "    # Create age categories\n",
        "    age_ranges = [(0, 13), (13, 36), (36, 56), (56, 100)]\n",
        "    for num, cat_range in enumerate(age_ranges):\n",
        "        df['age'] = np.where(df['age'].between(cat_range[0],cat_range[1]), num, df['age'])\n",
        "    age_dict = {0: 'newborn', 1: 'young_adult', 2: 'middle_adult', 3: 'senior'}\n",
        "    df['age'] = df['age'].replace(age_dict)\n",
        "    \n",
        "    # Re-map Gender to boolean type\n",
        "    df['GENDER'].replace({'M': 0, 'F':1}, inplace=True)\n",
        "    \n",
        "    if verbose: \n",
        "        print('(4/5) Completed PATIENT.csv cleanup and feature engineering.')\n",
        "    \n",
        "    # Feature engineering for Intensive Care Unit (ICU) category\n",
        "    # Reduce ICU categories to just ICU or NICU\n",
        "    df_icu['FIRST_CAREUNIT'].replace({'CCU': 'ICU', 'CSRU': 'ICU', 'MICU': 'ICU','SICU': 'ICU', 'TSICU': 'ICU'}, inplace=True)\n",
        "    df_icu['cat'] = df_icu['FIRST_CAREUNIT']\n",
        "    icu_list = df_icu.groupby('HADM_ID')['cat'].apply(list).reset_index()\n",
        "    icu_item = pd.get_dummies(icu_list['cat'].apply(pd.Series).stack()).sum(level=0)\n",
        "    icu_item[icu_item >= 1] = 1\n",
        "    icu_item = icu_item.join(icu_list['HADM_ID'], how=\"outer\")\n",
        "    df = df.merge(icu_item, how='outer', on='HADM_ID')\n",
        "    \n",
        "    # Cleanup NaNs\n",
        "    df['ICU'].fillna(value=0, inplace=True)\n",
        "    df['NICU'].fillna(value=0, inplace=True)\n",
        "    \n",
        "    if verbose: \n",
        "        print('(5/5) Completed ICUSTAYS.csv cleanup and feature engineering.')\n",
        "        \n",
        "    # Remove deceased persons as they will skew LOS result\n",
        "    df = df[df['DECEASED'] == 0]\n",
        "\n",
        "    # Remove LOS with negative number, likely entry form error\n",
        "    df = df[df['LOS'] > 0]    \n",
        "    \n",
        "    # Drop unused columns, e.g. not used to predict LOS\n",
        "    df.drop(columns=['SUBJECT_ID', 'HADM_ID', 'ADMITTIME', 'ADMISSION_LOCATION','DISCHARGE_LOCATION', 'LANGUAGE', 'ADMIT_MIN', 'DOB', 'DIAGNOSIS', 'DECEASED', 'DEATHTIME'], inplace=True)\n",
        "    \n",
        "    prefix_cols = ['ADM', 'INS', 'REL', 'ETH', 'AGE', 'MAR']\n",
        "    dummy_cols = ['ADMISSION_TYPE', 'INSURANCE', 'RELIGION','ETHNICITY', 'age', 'MARITAL_STATUS']\n",
        "    df = pd.get_dummies(df, prefix=prefix_cols, columns=dummy_cols)\n",
        "    \n",
        "    if verbose: \n",
        "        print('Data Preprocessing complete.')\n",
        "    \n",
        "    return df, actual_median_los, actual_mean_los"
      ]
    },
    {
      "cell_type": "code",
      "execution_count": null,
      "metadata": {
        "colab": {
          "base_uri": "https://localhost:8080/"
        },
        "id": "mesRLiBDz3zY",
        "outputId": "af0698a2-cf77-472b-c848-fec65e152180"
      },
      "outputs": [
        {
          "output_type": "stream",
          "name": "stdout",
          "text": [
            "(1/5) Completed .csv imports\n"
          ]
        },
        {
          "output_type": "stream",
          "name": "stderr",
          "text": [
            "/usr/local/lib/python3.8/dist-packages/pandas/core/indexing.py:1732: SettingWithCopyWarning: \n",
            "A value is trying to be set on a copy of a slice from a DataFrame\n",
            "\n",
            "See the caveats in the documentation: https://pandas.pydata.org/pandas-docs/stable/user_guide/indexing.html#returning-a-view-versus-a-copy\n",
            "  self._setitem_single_block(indexer, value, name)\n"
          ]
        },
        {
          "output_type": "stream",
          "name": "stdout",
          "text": [
            "(2/5) Completed ADMISSIONS.csv cleanup and feature engineering.\n"
          ]
        },
        {
          "output_type": "stream",
          "name": "stderr",
          "text": [
            "<ipython-input-3-9de783e2c4d0>:121: FutureWarning: Using the level keyword in DataFrame and Series aggregations is deprecated and will be removed in a future version. Use groupby instead. df.sum(level=1) should use df.groupby(level=1).sum().\n",
            "  hadm_item = pd.get_dummies(hadm_list['cat'].apply(pd.Series).stack()).sum(level=0)\n"
          ]
        },
        {
          "output_type": "stream",
          "name": "stdout",
          "text": [
            "(3/5) Completed DIAGNOSES_ICD.csv cleanup and feature engineering.\n",
            "(4/5) Completed PATIENT.csv cleanup and feature engineering.\n",
            "(5/5) Completed ICUSTAYS.csv cleanup and feature engineering.\n",
            "Data Preprocessing complete.\n"
          ]
        },
        {
          "output_type": "stream",
          "name": "stderr",
          "text": [
            "<ipython-input-3-9de783e2c4d0>:173: FutureWarning: Using the level keyword in DataFrame and Series aggregations is deprecated and will be removed in a future version. Use groupby instead. df.sum(level=1) should use df.groupby(level=1).sum().\n",
            "  icu_item = pd.get_dummies(icu_list['cat'].apply(pd.Series).stack()).sum(level=0)\n"
          ]
        }
      ],
      "source": [
        "df_clean, actual_median_los, actual_mean_los = mimic_los_cleanup(adm_csv = '/content/drive/MyDrive/Deep Learning/MIMIC-III CSV Files/ADMISSIONS.csv'\n",
        "                                                                , patients_csv = '/content/drive/MyDrive/Deep Learning/MIMIC-III CSV Files/PATIENTS.csv', \n",
        "                                                                diagcode_csv = '/content/drive/MyDrive/Deep Learning/MIMIC-III CSV Files/DIAGNOSES_ICD.csv', \n",
        "                                                                 icu_csv = '/content/drive/MyDrive/Deep Learning/MIMIC-III CSV Files/ICUSTAYS.csv')"
      ]
    },
    {
      "cell_type": "code",
      "execution_count": null,
      "metadata": {
        "colab": {
          "base_uri": "https://localhost:8080/"
        },
        "id": "Z6kVLXXv50fY",
        "outputId": "57e9203c-8115-462a-8242-9ec14d032bb4"
      },
      "outputs": [
        {
          "output_type": "stream",
          "name": "stdout",
          "text": [
            "<class 'pandas.core.frame.DataFrame'>\n",
            "Int64Index: 53104 entries, 0 to 58975\n",
            "Data columns (total 49 columns):\n",
            " #   Column                      Non-Null Count  Dtype  \n",
            "---  ------                      --------------  -----  \n",
            " 0   LOS                         53104 non-null  float64\n",
            " 1   blood                       53104 non-null  uint8  \n",
            " 2   circulatory                 53104 non-null  uint8  \n",
            " 3   congenital                  53104 non-null  uint8  \n",
            " 4   digestive                   53104 non-null  uint8  \n",
            " 5   endocrine                   53104 non-null  uint8  \n",
            " 6   genitourinary               53104 non-null  uint8  \n",
            " 7   infectious                  53104 non-null  uint8  \n",
            " 8   injury                      53104 non-null  uint8  \n",
            " 9   mental                      53104 non-null  uint8  \n",
            " 10  misc                        53104 non-null  uint8  \n",
            " 11  muscular                    53104 non-null  uint8  \n",
            " 12  neoplasms                   53104 non-null  uint8  \n",
            " 13  nervous                     53104 non-null  uint8  \n",
            " 14  pregnancy                   53104 non-null  uint8  \n",
            " 15  prenatal                    53104 non-null  uint8  \n",
            " 16  respiratory                 53104 non-null  uint8  \n",
            " 17  skin                        53104 non-null  uint8  \n",
            " 18  GENDER                      53104 non-null  int64  \n",
            " 19  ICU                         53104 non-null  float64\n",
            " 20  NICU                        53104 non-null  float64\n",
            " 21  ADM_ELECTIVE                53104 non-null  uint8  \n",
            " 22  ADM_EMERGENCY               53104 non-null  uint8  \n",
            " 23  ADM_NEWBORN                 53104 non-null  uint8  \n",
            " 24  ADM_URGENT                  53104 non-null  uint8  \n",
            " 25  INS_Government              53104 non-null  uint8  \n",
            " 26  INS_Medicaid                53104 non-null  uint8  \n",
            " 27  INS_Medicare                53104 non-null  uint8  \n",
            " 28  INS_Private                 53104 non-null  uint8  \n",
            " 29  INS_Self Pay                53104 non-null  uint8  \n",
            " 30  REL_NOT SPECIFIED           53104 non-null  uint8  \n",
            " 31  REL_RELIGIOUS               53104 non-null  uint8  \n",
            " 32  REL_UNOBTAINABLE            53104 non-null  uint8  \n",
            " 33  ETH_ASIAN                   53104 non-null  uint8  \n",
            " 34  ETH_BLACK/AFRICAN AMERICAN  53104 non-null  uint8  \n",
            " 35  ETH_HISPANIC/LATINO         53104 non-null  uint8  \n",
            " 36  ETH_OTHER/UNKNOWN           53104 non-null  uint8  \n",
            " 37  ETH_WHITE                   53104 non-null  uint8  \n",
            " 38  AGE_middle_adult            53104 non-null  uint8  \n",
            " 39  AGE_newborn                 53104 non-null  uint8  \n",
            " 40  AGE_senior                  53104 non-null  uint8  \n",
            " 41  AGE_young_adult             53104 non-null  uint8  \n",
            " 42  MAR_DIVORCED                53104 non-null  uint8  \n",
            " 43  MAR_LIFE PARTNER            53104 non-null  uint8  \n",
            " 44  MAR_MARRIED                 53104 non-null  uint8  \n",
            " 45  MAR_SEPARATED               53104 non-null  uint8  \n",
            " 46  MAR_SINGLE                  53104 non-null  uint8  \n",
            " 47  MAR_UNKNOWN (DEFAULT)       53104 non-null  uint8  \n",
            " 48  MAR_WIDOWED                 53104 non-null  uint8  \n",
            "dtypes: float64(3), int64(1), uint8(45)\n",
            "memory usage: 4.3 MB\n"
          ]
        }
      ],
      "source": [
        "# Verify output of cleaning function\n",
        "df_clean.info(verbose=1)"
      ]
    },
    {
      "cell_type": "code",
      "execution_count": null,
      "metadata": {
        "colab": {
          "base_uri": "https://localhost:8080/",
          "height": 317
        },
        "id": "6sD4th6GD2c6",
        "outputId": "3ae2683a-62f6-4b44-9697-370515248300"
      },
      "outputs": [
        {
          "output_type": "execute_result",
          "data": {
            "text/plain": [
              "        LOS  blood  circulatory  congenital  digestive  endocrine  \\\n",
              "0  1.144444      0            1           0          0          0   \n",
              "1  5.496528      0            4           0          0          1   \n",
              "2  6.768056      0            2           0          0          2   \n",
              "3  2.856944      0            2           0          1          1   \n",
              "4  3.534028      0            3           0          0          1   \n",
              "\n",
              "   genitourinary  infectious  injury  mental  ...  AGE_newborn  AGE_senior  \\\n",
              "0              0           0       4       1  ...            0           1   \n",
              "1              1           0       1       0  ...            0           1   \n",
              "2              0           0       3       0  ...            0           1   \n",
              "3              0           0       0       0  ...            0           0   \n",
              "4              0           0       0       0  ...            0           1   \n",
              "\n",
              "   AGE_young_adult  MAR_DIVORCED  MAR_LIFE PARTNER  MAR_MARRIED  \\\n",
              "0                0             0                 0            1   \n",
              "1                0             0                 0            1   \n",
              "2                0             0                 0            1   \n",
              "3                0             0                 0            0   \n",
              "4                0             0                 0            1   \n",
              "\n",
              "   MAR_SEPARATED  MAR_SINGLE  MAR_UNKNOWN (DEFAULT)  MAR_WIDOWED  \n",
              "0              0           0                      0            0  \n",
              "1              0           0                      0            0  \n",
              "2              0           0                      0            0  \n",
              "3              0           1                      0            0  \n",
              "4              0           0                      0            0  \n",
              "\n",
              "[5 rows x 49 columns]"
            ],
            "text/html": [
              "\n",
              "  <div id=\"df-c108156f-f876-4f23-b46d-f8171c18bdc2\">\n",
              "    <div class=\"colab-df-container\">\n",
              "      <div>\n",
              "<style scoped>\n",
              "    .dataframe tbody tr th:only-of-type {\n",
              "        vertical-align: middle;\n",
              "    }\n",
              "\n",
              "    .dataframe tbody tr th {\n",
              "        vertical-align: top;\n",
              "    }\n",
              "\n",
              "    .dataframe thead th {\n",
              "        text-align: right;\n",
              "    }\n",
              "</style>\n",
              "<table border=\"1\" class=\"dataframe\">\n",
              "  <thead>\n",
              "    <tr style=\"text-align: right;\">\n",
              "      <th></th>\n",
              "      <th>LOS</th>\n",
              "      <th>blood</th>\n",
              "      <th>circulatory</th>\n",
              "      <th>congenital</th>\n",
              "      <th>digestive</th>\n",
              "      <th>endocrine</th>\n",
              "      <th>genitourinary</th>\n",
              "      <th>infectious</th>\n",
              "      <th>injury</th>\n",
              "      <th>mental</th>\n",
              "      <th>...</th>\n",
              "      <th>AGE_newborn</th>\n",
              "      <th>AGE_senior</th>\n",
              "      <th>AGE_young_adult</th>\n",
              "      <th>MAR_DIVORCED</th>\n",
              "      <th>MAR_LIFE PARTNER</th>\n",
              "      <th>MAR_MARRIED</th>\n",
              "      <th>MAR_SEPARATED</th>\n",
              "      <th>MAR_SINGLE</th>\n",
              "      <th>MAR_UNKNOWN (DEFAULT)</th>\n",
              "      <th>MAR_WIDOWED</th>\n",
              "    </tr>\n",
              "  </thead>\n",
              "  <tbody>\n",
              "    <tr>\n",
              "      <th>0</th>\n",
              "      <td>1.144444</td>\n",
              "      <td>0</td>\n",
              "      <td>1</td>\n",
              "      <td>0</td>\n",
              "      <td>0</td>\n",
              "      <td>0</td>\n",
              "      <td>0</td>\n",
              "      <td>0</td>\n",
              "      <td>4</td>\n",
              "      <td>1</td>\n",
              "      <td>...</td>\n",
              "      <td>0</td>\n",
              "      <td>1</td>\n",
              "      <td>0</td>\n",
              "      <td>0</td>\n",
              "      <td>0</td>\n",
              "      <td>1</td>\n",
              "      <td>0</td>\n",
              "      <td>0</td>\n",
              "      <td>0</td>\n",
              "      <td>0</td>\n",
              "    </tr>\n",
              "    <tr>\n",
              "      <th>1</th>\n",
              "      <td>5.496528</td>\n",
              "      <td>0</td>\n",
              "      <td>4</td>\n",
              "      <td>0</td>\n",
              "      <td>0</td>\n",
              "      <td>1</td>\n",
              "      <td>1</td>\n",
              "      <td>0</td>\n",
              "      <td>1</td>\n",
              "      <td>0</td>\n",
              "      <td>...</td>\n",
              "      <td>0</td>\n",
              "      <td>1</td>\n",
              "      <td>0</td>\n",
              "      <td>0</td>\n",
              "      <td>0</td>\n",
              "      <td>1</td>\n",
              "      <td>0</td>\n",
              "      <td>0</td>\n",
              "      <td>0</td>\n",
              "      <td>0</td>\n",
              "    </tr>\n",
              "    <tr>\n",
              "      <th>2</th>\n",
              "      <td>6.768056</td>\n",
              "      <td>0</td>\n",
              "      <td>2</td>\n",
              "      <td>0</td>\n",
              "      <td>0</td>\n",
              "      <td>2</td>\n",
              "      <td>0</td>\n",
              "      <td>0</td>\n",
              "      <td>3</td>\n",
              "      <td>0</td>\n",
              "      <td>...</td>\n",
              "      <td>0</td>\n",
              "      <td>1</td>\n",
              "      <td>0</td>\n",
              "      <td>0</td>\n",
              "      <td>0</td>\n",
              "      <td>1</td>\n",
              "      <td>0</td>\n",
              "      <td>0</td>\n",
              "      <td>0</td>\n",
              "      <td>0</td>\n",
              "    </tr>\n",
              "    <tr>\n",
              "      <th>3</th>\n",
              "      <td>2.856944</td>\n",
              "      <td>0</td>\n",
              "      <td>2</td>\n",
              "      <td>0</td>\n",
              "      <td>1</td>\n",
              "      <td>1</td>\n",
              "      <td>0</td>\n",
              "      <td>0</td>\n",
              "      <td>0</td>\n",
              "      <td>0</td>\n",
              "      <td>...</td>\n",
              "      <td>0</td>\n",
              "      <td>0</td>\n",
              "      <td>0</td>\n",
              "      <td>0</td>\n",
              "      <td>0</td>\n",
              "      <td>0</td>\n",
              "      <td>0</td>\n",
              "      <td>1</td>\n",
              "      <td>0</td>\n",
              "      <td>0</td>\n",
              "    </tr>\n",
              "    <tr>\n",
              "      <th>4</th>\n",
              "      <td>3.534028</td>\n",
              "      <td>0</td>\n",
              "      <td>3</td>\n",
              "      <td>0</td>\n",
              "      <td>0</td>\n",
              "      <td>1</td>\n",
              "      <td>0</td>\n",
              "      <td>0</td>\n",
              "      <td>0</td>\n",
              "      <td>0</td>\n",
              "      <td>...</td>\n",
              "      <td>0</td>\n",
              "      <td>1</td>\n",
              "      <td>0</td>\n",
              "      <td>0</td>\n",
              "      <td>0</td>\n",
              "      <td>1</td>\n",
              "      <td>0</td>\n",
              "      <td>0</td>\n",
              "      <td>0</td>\n",
              "      <td>0</td>\n",
              "    </tr>\n",
              "  </tbody>\n",
              "</table>\n",
              "<p>5 rows × 49 columns</p>\n",
              "</div>\n",
              "      <button class=\"colab-df-convert\" onclick=\"convertToInteractive('df-c108156f-f876-4f23-b46d-f8171c18bdc2')\"\n",
              "              title=\"Convert this dataframe to an interactive table.\"\n",
              "              style=\"display:none;\">\n",
              "        \n",
              "  <svg xmlns=\"http://www.w3.org/2000/svg\" height=\"24px\"viewBox=\"0 0 24 24\"\n",
              "       width=\"24px\">\n",
              "    <path d=\"M0 0h24v24H0V0z\" fill=\"none\"/>\n",
              "    <path d=\"M18.56 5.44l.94 2.06.94-2.06 2.06-.94-2.06-.94-.94-2.06-.94 2.06-2.06.94zm-11 1L8.5 8.5l.94-2.06 2.06-.94-2.06-.94L8.5 2.5l-.94 2.06-2.06.94zm10 10l.94 2.06.94-2.06 2.06-.94-2.06-.94-.94-2.06-.94 2.06-2.06.94z\"/><path d=\"M17.41 7.96l-1.37-1.37c-.4-.4-.92-.59-1.43-.59-.52 0-1.04.2-1.43.59L10.3 9.45l-7.72 7.72c-.78.78-.78 2.05 0 2.83L4 21.41c.39.39.9.59 1.41.59.51 0 1.02-.2 1.41-.59l7.78-7.78 2.81-2.81c.8-.78.8-2.07 0-2.86zM5.41 20L4 18.59l7.72-7.72 1.47 1.35L5.41 20z\"/>\n",
              "  </svg>\n",
              "      </button>\n",
              "      \n",
              "  <style>\n",
              "    .colab-df-container {\n",
              "      display:flex;\n",
              "      flex-wrap:wrap;\n",
              "      gap: 12px;\n",
              "    }\n",
              "\n",
              "    .colab-df-convert {\n",
              "      background-color: #E8F0FE;\n",
              "      border: none;\n",
              "      border-radius: 50%;\n",
              "      cursor: pointer;\n",
              "      display: none;\n",
              "      fill: #1967D2;\n",
              "      height: 32px;\n",
              "      padding: 0 0 0 0;\n",
              "      width: 32px;\n",
              "    }\n",
              "\n",
              "    .colab-df-convert:hover {\n",
              "      background-color: #E2EBFA;\n",
              "      box-shadow: 0px 1px 2px rgba(60, 64, 67, 0.3), 0px 1px 3px 1px rgba(60, 64, 67, 0.15);\n",
              "      fill: #174EA6;\n",
              "    }\n",
              "\n",
              "    [theme=dark] .colab-df-convert {\n",
              "      background-color: #3B4455;\n",
              "      fill: #D2E3FC;\n",
              "    }\n",
              "\n",
              "    [theme=dark] .colab-df-convert:hover {\n",
              "      background-color: #434B5C;\n",
              "      box-shadow: 0px 1px 3px 1px rgba(0, 0, 0, 0.15);\n",
              "      filter: drop-shadow(0px 1px 2px rgba(0, 0, 0, 0.3));\n",
              "      fill: #FFFFFF;\n",
              "    }\n",
              "  </style>\n",
              "\n",
              "      <script>\n",
              "        const buttonEl =\n",
              "          document.querySelector('#df-c108156f-f876-4f23-b46d-f8171c18bdc2 button.colab-df-convert');\n",
              "        buttonEl.style.display =\n",
              "          google.colab.kernel.accessAllowed ? 'block' : 'none';\n",
              "\n",
              "        async function convertToInteractive(key) {\n",
              "          const element = document.querySelector('#df-c108156f-f876-4f23-b46d-f8171c18bdc2');\n",
              "          const dataTable =\n",
              "            await google.colab.kernel.invokeFunction('convertToInteractive',\n",
              "                                                     [key], {});\n",
              "          if (!dataTable) return;\n",
              "\n",
              "          const docLinkHtml = 'Like what you see? Visit the ' +\n",
              "            '<a target=\"_blank\" href=https://colab.research.google.com/notebooks/data_table.ipynb>data table notebook</a>'\n",
              "            + ' to learn more about interactive tables.';\n",
              "          element.innerHTML = '';\n",
              "          dataTable['output_type'] = 'display_data';\n",
              "          await google.colab.output.renderOutput(dataTable, element);\n",
              "          const docLink = document.createElement('div');\n",
              "          docLink.innerHTML = docLinkHtml;\n",
              "          element.appendChild(docLink);\n",
              "        }\n",
              "      </script>\n",
              "    </div>\n",
              "  </div>\n",
              "  "
            ]
          },
          "metadata": {},
          "execution_count": 6
        }
      ],
      "source": [
        "df_clean.head()"
      ]
    },
    {
      "cell_type": "code",
      "execution_count": null,
      "metadata": {
        "id": "i3TLmBiUNk5f"
      },
      "outputs": [],
      "source": [
        "# Load the dataset\n",
        "df = df_clean\n",
        "\n",
        "# Split the dataset into training and testing sets\n",
        "X = df.drop('LOS', axis=1)  # Features\n",
        "y = df['LOS']  # Target variable\n",
        "X_train, X_test, y_train, y_test = train_test_split(X, y, test_size=0.2, random_state=1289)\n",
        "\n",
        "n = X_test.shape[0]      # number of samples in test set\n",
        "p = X_test.shape[1]      # number of predictor variables"
      ]
    },
    {
      "cell_type": "code",
      "execution_count": null,
      "metadata": {
        "colab": {
          "base_uri": "https://localhost:8080/"
        },
        "id": "pb58qn60gCb9",
        "outputId": "0b3ac2a9-80d7-4845-b33b-8c81bdba20bb"
      },
      "outputs": [
        {
          "output_type": "stream",
          "name": "stdout",
          "text": [
            "X_train shape: (42483, 48)\n",
            "y_train shape: (42483,)\n",
            "X_test shape: (10621, 48)\n",
            "y_test shape: (10621,)\n"
          ]
        }
      ],
      "source": [
        "print(\"X_train shape:\",X_train.shape)\n",
        "print(\"y_train shape:\",y_train.shape)\n",
        "\n",
        "print(\"X_test shape:\",X_test.shape)\n",
        "print(\"y_test shape:\",y_test.shape)"
      ]
    },
    {
      "cell_type": "markdown",
      "metadata": {
        "id": "45QB8uLTNEnP"
      },
      "source": [
        "# Regression Models"
      ]
    },
    {
      "cell_type": "markdown",
      "source": [
        "We used 7 Machine Learning regression algorithms to guage the results of the Deep Learning Models."
      ],
      "metadata": {
        "id": "40Mp034gW7vP"
      }
    },
    {
      "cell_type": "code",
      "execution_count": null,
      "metadata": {
        "id": "7LBtOHg_LGF0"
      },
      "outputs": [],
      "source": [
        "#Gradient Boosting regression\n",
        "from sklearn.ensemble import GradientBoostingRegressor\n",
        "\n",
        "# Train the model\n",
        "gb1 = GradientBoostingRegressor()\n",
        "gb1.fit(X_train, y_train)\n",
        "\n",
        "# Make predictions on the test set\n",
        "GB_y_pred = gb1.predict(X_test)"
      ]
    },
    {
      "cell_type": "code",
      "execution_count": null,
      "metadata": {
        "id": "TJZ_d2ifTigc"
      },
      "outputs": [],
      "source": [
        "#Linear regression\n",
        "from sklearn.linear_model import LinearRegression\n",
        "\n",
        "# Train the model\n",
        "lr1 = LinearRegression()\n",
        "lr1.fit(X_train, y_train)\n",
        "\n",
        "# Make predictions on the test set\n",
        "LR_y_pred = lr1.predict(X_test)"
      ]
    },
    {
      "cell_type": "code",
      "execution_count": null,
      "metadata": {
        "id": "MVfGB68aTirl"
      },
      "outputs": [],
      "source": [
        "#Random Forest regression\n",
        "from sklearn.ensemble import RandomForestRegressor\n",
        "\n",
        "# Train the model\n",
        "rf1 = RandomForestRegressor()\n",
        "rf1.fit(X_train, y_train)\n",
        "\n",
        "# Make predictions on the test set\n",
        "RF_y_pred = rf1.predict(X_test)"
      ]
    },
    {
      "cell_type": "code",
      "execution_count": null,
      "metadata": {
        "colab": {
          "base_uri": "https://localhost:8080/"
        },
        "id": "K9wfdhhfTi1P",
        "outputId": "613bf6b5-395e-4708-98d8-6642ccbd7240"
      },
      "outputs": [
        {
          "output_type": "stream",
          "name": "stdout",
          "text": [
            "[23:52:49] WARNING: /workspace/src/objective/regression_obj.cu:152: reg:linear is now deprecated in favor of reg:squarederror.\n"
          ]
        }
      ],
      "source": [
        "#XG Boost regression\n",
        "from xgboost import XGBRegressor\n",
        "\n",
        "# Train the model\n",
        "xgb1 = XGBRegressor()\n",
        "xgb1.fit(X_train, y_train)\n",
        "\n",
        "# Make predictions on the test set\n",
        "XGB_y_pred = xgb1.predict(X_test)"
      ]
    },
    {
      "cell_type": "code",
      "execution_count": null,
      "metadata": {
        "id": "LkFCB3O1UfiR"
      },
      "outputs": [],
      "source": [
        "#Bagging regression\n",
        "from sklearn.ensemble import BaggingRegressor\n",
        "\n",
        "# Train the model\n",
        "bagging1 = BaggingRegressor(n_estimators=100)\n",
        "bagging1.fit(X_train, y_train)\n",
        "\n",
        "# Make predictions on the test set\n",
        "Bagging_y_pred = bagging1.predict(X_test)"
      ]
    },
    {
      "cell_type": "code",
      "execution_count": null,
      "metadata": {
        "id": "7fI60KUIUgP8"
      },
      "outputs": [],
      "source": [
        "#Support Vector regression\n",
        "from sklearn.svm import SVR\n",
        "\n",
        "# Train the model with the radial kernel\n",
        "sv1 = SVR(kernel='rbf')\n",
        "sv1.fit(X_train, y_train)\n",
        "\n",
        "# Make predictions on the test set\n",
        "SV_y_pred = sv1.predict(X_test)"
      ]
    },
    {
      "cell_type": "code",
      "execution_count": null,
      "metadata": {
        "id": "cGUIrBcIWsGc"
      },
      "outputs": [],
      "source": [
        "#K-Neighbors regression\n",
        "from sklearn.neighbors import KNeighborsRegressor\n",
        "\n",
        "# Train the model\n",
        "kn1 = KNeighborsRegressor(n_neighbors=5)\n",
        "kn1.fit(X_train, y_train)\n",
        "\n",
        "# Make predictions on the test set\n",
        "KN_y_pred = kn1.predict(X_test)"
      ]
    },
    {
      "cell_type": "code",
      "execution_count": null,
      "metadata": {
        "colab": {
          "base_uri": "https://localhost:8080/"
        },
        "id": "ZtEu7JKOXFae",
        "outputId": "c9715c73-e558-4d77-bfb4-fb23fedb6976"
      },
      "outputs": [
        {
          "output_type": "stream",
          "name": "stdout",
          "text": [
            "Gradient Boosting Regressor Mean Squared Error: 89.17\n",
            "Gradient Boosting Regressor Mean Absolute Error: 5.50\n",
            "Gradient Boosting Regressor R-Squared Value: 0.42\n",
            "Gradient Boosting Regressor Adjusted R-Squared Value: 0.42 \n",
            "\n",
            "Linear Regressor Mean Squared Error: 102.22\n",
            "Linear Regressor Mean Absolute Error: 6.08\n",
            "Linear Regressor R-Squared Value: 0.34\n",
            "Linear Regressor Adjusted R-Squared Value: 0.33 \n",
            "\n",
            "Random Forest Regressor Mean Squared Error: 95.30\n",
            "Random Forest Regressor Mean Absolute Error: 5.68\n",
            "Random Forest Regressor R-Squared Value: 0.38\n",
            "Random Forest Regressor Adjusted R-Squared Value: 0.38 \n",
            "\n",
            "XGBoost Regressor Mean Squared Error: 89.42\n",
            "XGBoost Regressor Mean Absolute Error: 5.50\n",
            "XGBoost Regressor R-Squared Value: 0.42\n",
            "XGBoost Regressor Adjusted R-Squared Value: 0.42 \n",
            "\n",
            "Bagging Regressor Mean Squared Error: 96.59\n",
            "Bagging Regressor Mean Absolute Error: 5.69\n",
            "Bagging Regressor R-Squared Value: 0.37\n",
            "Bagging Regressor Adjusted R-Squared Value: 0.37 \n",
            "\n",
            "Support Vector Regressor Mean Squared Error: 103.62\n",
            "Support Vector Regressor Mean Absolute Error: 5.20\n",
            "Support Vector Regressor R-Squared Value: 0.33\n",
            "Support Vector Regressor Adjusted R-Squared Value: 0.32 \n",
            "\n",
            "K Neighbors Regressor Mean Squared Error: 108.20\n",
            "K Neighbors Regressor Mean Absolute Error: 5.74\n",
            "K Neighbors Regressor R-Squared Value: 0.30\n",
            "K Neighbors Regressor Adjusted R-Squared Value: 0.29 \n",
            "\n"
          ]
        }
      ],
      "source": [
        "#Print all Regression Models' result metrics\n",
        "perf_metrics(y_test=y_test, y_pred=GB_y_pred, name=\"Gradient Boosting Regressor\")\n",
        "perf_metrics(y_test=y_test, y_pred=LR_y_pred, name=\"Linear Regressor\")\n",
        "perf_metrics(y_test=y_test, y_pred=RF_y_pred, name=\"Random Forest Regressor\")\n",
        "perf_metrics(y_test=y_test, y_pred=XGB_y_pred, name=\"XGBoost Regressor\")\n",
        "perf_metrics(y_test=y_test, y_pred=Bagging_y_pred, name=\"Bagging Regressor\")\n",
        "perf_metrics(y_test=y_test, y_pred=SV_y_pred, name=\"Support Vector Regressor\")\n",
        "perf_metrics(y_test=y_test, y_pred=KN_y_pred, name=\"K Neighbors Regressor\")"
      ]
    },
    {
      "cell_type": "markdown",
      "metadata": {
        "id": "MGY959c_ctyP"
      },
      "source": [
        "*The Gradient Boosting regression and the XGBoost regressor look good to predict the Length of Stay*"
      ]
    },
    {
      "cell_type": "markdown",
      "metadata": {
        "id": "VL2q7SWnVINg"
      },
      "source": [
        "# Methodology\n",
        "\n",
        "1. We have built 2 types of Neural Network Architectures.\n",
        "\n",
        "2. The following are the 2 types of architectures we have used - \n",
        " * Feed Forward Neural Network\n",
        "    * A Feed Forward Neural Network is an artificial neural network in which the connections between nodes does not form a cycle. The feed forward model is the simplest form of neural network as information is only processed in one direction. While the data may pass through multiple hidden nodes, it always moves in one direction and never backwards.\n",
        " \n",
        " * Fully Convolutional Neural Network\n",
        "    * A Fully Convolutional Neural Network (FCN) for 1-dimensional data is a type of neural network architecture that consists entirely of convolutional layers, without any fully connected layers. FCNs for 1D data are powerful models that can automatically learn features from raw signals, without the need for manual feature engineering.\n",
        " \n",
        "3. Keywords: Feed Forward Neural Network, Fully Convolutional Network, ICD Diagnosis, Regression, Gradient Boost\n",
        "\n",
        "4. Models were compiled and fit as inspired by the following github repositories - \n",
        "  * Feed Forward Neural Networks\n",
        "    * MLH Repo - https://github.com/sdasara95/Machine-Learning-in-Healthcare\n",
        "    * usama Repo - https://github.com/usama6679/LENGTH-OF-STAY-PREDICTION-AT-TIME-OF-AhhDMISSION\n",
        "  * Fully Convolutional Neural Networks\n",
        "    * NICU Repo - https://github.com/bt-s/NICU-length-of-stay-prediction\n",
        "\n",
        "  These models will be further tuned with the helped of the Keras Tuner.\n",
        "\n",
        "5. Model Evaluation\n",
        "  * The models will be evaluated with the help of the following performance metrics - \n",
        "    * Mean Squared Error - This would help us in understanding the best models for minimizing the prediction errors\n",
        "    * Mean Absolute Error - This would help us understand the best models with the smallest average deviation from the actual values\n",
        "    * R-Squared Value - This will help us explain the largest proportion of variance in the data\n",
        "\n"
      ]
    },
    {
      "cell_type": "markdown",
      "metadata": {
        "id": "k6H6j74olpvH"
      },
      "source": [
        "# Feed Forward Neural Network"
      ]
    },
    {
      "cell_type": "markdown",
      "source": [
        "The Baseline Feed Forward Network was inspired from a Repository we found while doing our research for this project.\n",
        "\n",
        "MLH Repo - https://github.com/sdasara95/Machine-Learning-in-Healthcare\n",
        "\n",
        "Usama Repo - https://github.com/usama6679/LENGTH-OF-STAY-PREDICTION-AT-TIME-OF-AhhDMISSION"
      ],
      "metadata": {
        "id": "r9Nw71h9UNm1"
      }
    },
    {
      "cell_type": "code",
      "execution_count": null,
      "metadata": {
        "id": "aZ-kA3VolpCI"
      },
      "outputs": [],
      "source": [
        "#Import necessary libraries\n",
        "import tensorflow as tf\n",
        "import keras\n",
        "from keras import backend\n",
        "from keras import models, regularizers, layers, optimizers, losses, metrics\n",
        "from keras import Sequential\n",
        "from keras.layers import Dense"
      ]
    },
    {
      "cell_type": "code",
      "execution_count": null,
      "metadata": {
        "id": "0Dap73TpzMff"
      },
      "outputs": [],
      "source": [
        "#create input_shape from X_train\n",
        "cols = X_train.shape[1]\n",
        "input_shape = (cols,)"
      ]
    },
    {
      "cell_type": "code",
      "execution_count": null,
      "metadata": {
        "colab": {
          "base_uri": "https://localhost:8080/"
        },
        "id": "RizCyQZ50Hnt",
        "outputId": "d32639dd-20ec-4aed-c7ea-b02189c0df60"
      },
      "outputs": [
        {
          "output_type": "stream",
          "name": "stdout",
          "text": [
            "Model: \"sequential\"\n",
            "_________________________________________________________________\n",
            " Layer (type)                Output Shape              Param #   \n",
            "=================================================================\n",
            " dense (Dense)               (None, 1024)              50176     \n",
            "                                                                 \n",
            " dense_1 (Dense)             (None, 1024)              1049600   \n",
            "                                                                 \n",
            " dropout (Dropout)           (None, 1024)              0         \n",
            "                                                                 \n",
            " dense_2 (Dense)             (None, 1024)              1049600   \n",
            "                                                                 \n",
            " dropout_1 (Dropout)         (None, 1024)              0         \n",
            "                                                                 \n",
            " dense_3 (Dense)             (None, 1024)              1049600   \n",
            "                                                                 \n",
            " dropout_2 (Dropout)         (None, 1024)              0         \n",
            "                                                                 \n",
            " dense_4 (Dense)             (None, 1)                 1025      \n",
            "                                                                 \n",
            "=================================================================\n",
            "Total params: 3,200,001\n",
            "Trainable params: 3,200,001\n",
            "Non-trainable params: 0\n",
            "_________________________________________________________________\n",
            "None\n"
          ]
        },
        {
          "output_type": "stream",
          "name": "stderr",
          "text": [
            "/usr/local/lib/python3.8/dist-packages/keras/optimizers/optimizer_v2/adam.py:117: UserWarning: The `lr` argument is deprecated, use `learning_rate` instead.\n",
            "  super().__init__(name, **kwargs)\n"
          ]
        }
      ],
      "source": [
        "# Training the Feed Forward network\n",
        "FFNN = models.Sequential()\n",
        "FFNN.add(layers.Dense(1024, activation='relu', kernel_regularizer=regularizers.l2(0.001), input_shape=input_shape))\n",
        "FFNN.add(layers.Dense(1024, activation='relu', kernel_regularizer=regularizers.l2(0.001)))\n",
        "FFNN.add(layers.Dropout(0.2))\n",
        "FFNN.add(layers.Dense(1024, activation='relu', kernel_regularizer=regularizers.l2(0.001)))\n",
        "FFNN.add(layers.Dropout(0.2))\n",
        "FFNN.add(layers.Dense(1024, activation='relu', kernel_regularizer=regularizers.l2(0.001)))\n",
        "FFNN.add(layers.Dropout(0.2))\n",
        "FFNN.add(layers.Dense(1, activation='relu'))\n",
        "print(FFNN.summary())\n",
        "\n",
        "# FIT / TRAIN model on training daa\n",
        "\n",
        "NumEpochs = 20\n",
        "BatchSize = 8\n",
        "\n",
        "# Compile the model and fit it on the training data\n",
        "FFNN.compile(optimizer=optimizers.Adam(lr=1e-4), loss='mean_absolute_error', metrics=['mae'])"
      ]
    },
    {
      "cell_type": "code",
      "execution_count": null,
      "metadata": {
        "colab": {
          "base_uri": "https://localhost:8080/"
        },
        "id": "ExZ8PGow0f6W",
        "outputId": "f1653895-b479-40d2-d8cb-14664860aeae"
      },
      "outputs": [
        {
          "output_type": "stream",
          "name": "stdout",
          "text": [
            "Epoch 1/20\n",
            "5311/5311 [==============================] - 27s 4ms/step - loss: 6.6387 - mae: 5.3176 - val_loss: 5.9890 - val_mae: 5.2965\n",
            "Epoch 2/20\n",
            "5311/5311 [==============================] - 22s 4ms/step - loss: 5.6568 - mae: 5.1764 - val_loss: 5.4838 - val_mae: 5.1466\n",
            "Epoch 3/20\n",
            "5311/5311 [==============================] - 23s 4ms/step - loss: 5.4084 - mae: 5.1374 - val_loss: 5.3891 - val_mae: 5.1700\n",
            "Epoch 4/20\n",
            "5311/5311 [==============================] - 25s 5ms/step - loss: 5.2818 - mae: 5.0883 - val_loss: 5.2714 - val_mae: 5.0984\n",
            "Epoch 5/20\n",
            "5311/5311 [==============================] - 23s 4ms/step - loss: 5.2216 - mae: 5.0620 - val_loss: 5.2561 - val_mae: 5.1097\n",
            "Epoch 6/20\n",
            "5311/5311 [==============================] - 23s 4ms/step - loss: 5.1823 - mae: 5.0409 - val_loss: 5.1964 - val_mae: 5.0610\n",
            "Epoch 7/20\n",
            "5311/5311 [==============================] - 24s 4ms/step - loss: 5.1448 - mae: 5.0145 - val_loss: 5.1946 - val_mae: 5.0688\n",
            "Epoch 8/20\n",
            "5311/5311 [==============================] - 25s 5ms/step - loss: 5.1274 - mae: 5.0047 - val_loss: 5.2440 - val_mae: 5.1242\n",
            "Epoch 9/20\n",
            "5311/5311 [==============================] - 22s 4ms/step - loss: 5.0870 - mae: 4.9677 - val_loss: 5.2318 - val_mae: 5.1156\n",
            "Epoch 10/20\n",
            "5311/5311 [==============================] - 23s 4ms/step - loss: 5.0690 - mae: 4.9525 - val_loss: 5.1927 - val_mae: 5.0767\n",
            "Epoch 11/20\n",
            "5311/5311 [==============================] - 23s 4ms/step - loss: 5.0322 - mae: 4.9154 - val_loss: 5.2347 - val_mae: 5.1189\n",
            "Epoch 12/20\n",
            "5311/5311 [==============================] - 22s 4ms/step - loss: 5.0078 - mae: 4.8914 - val_loss: 5.2014 - val_mae: 5.0829\n",
            "Epoch 13/20\n",
            "5311/5311 [==============================] - 23s 4ms/step - loss: 4.9855 - mae: 4.8664 - val_loss: 5.2024 - val_mae: 5.0843\n",
            "Epoch 14/20\n",
            "5311/5311 [==============================] - 23s 4ms/step - loss: 4.9653 - mae: 4.8457 - val_loss: 5.2168 - val_mae: 5.0971\n",
            "Epoch 15/20\n",
            "5311/5311 [==============================] - 22s 4ms/step - loss: 4.9374 - mae: 4.8156 - val_loss: 5.2558 - val_mae: 5.1328\n",
            "Epoch 16/20\n",
            "5311/5311 [==============================] - 23s 4ms/step - loss: 4.9195 - mae: 4.7947 - val_loss: 5.2429 - val_mae: 5.1182\n",
            "Epoch 17/20\n",
            "5311/5311 [==============================] - 23s 4ms/step - loss: 4.8909 - mae: 4.7626 - val_loss: 5.2624 - val_mae: 5.1332\n",
            "Epoch 18/20\n",
            "5311/5311 [==============================] - 22s 4ms/step - loss: 4.8702 - mae: 4.7392 - val_loss: 5.2564 - val_mae: 5.1248\n",
            "Epoch 19/20\n",
            "5311/5311 [==============================] - 23s 4ms/step - loss: 4.8465 - mae: 4.7116 - val_loss: 5.2533 - val_mae: 5.1181\n",
            "Epoch 20/20\n",
            "5311/5311 [==============================] - 24s 5ms/step - loss: 4.8194 - mae: 4.6809 - val_loss: 5.3342 - val_mae: 5.1937\n"
          ]
        }
      ],
      "source": [
        "#fit the model\n",
        "history = FFNN.fit(X_train, y_train, epochs=NumEpochs, batch_size=BatchSize, validation_data=(X_test, y_test))"
      ]
    },
    {
      "cell_type": "code",
      "execution_count": null,
      "metadata": {
        "colab": {
          "base_uri": "https://localhost:8080/"
        },
        "id": "CJBOksjxnBt1",
        "outputId": "81058685-89f5-44b2-b532-f7f6ddcda75e"
      },
      "outputs": [
        {
          "output_type": "stream",
          "name": "stdout",
          "text": [
            "332/332 [==============================] - 1s 3ms/step - loss: 5.3342 - mae: 5.1937\n",
            "____________________________________________________________________________________________________\n",
            "Test Loss and MAE\n",
            "results  [5.334236145019531, 5.193658351898193]\n"
          ]
        }
      ],
      "source": [
        "# Predicting on the test dataset\n",
        "results = FFNN.evaluate(X_test, y_test)\n",
        "print(\"_\"*100)\n",
        "print(\"Test Loss and MAE\")\n",
        "print(\"results \", results)"
      ]
    },
    {
      "cell_type": "code",
      "execution_count": null,
      "metadata": {
        "colab": {
          "base_uri": "https://localhost:8080/"
        },
        "id": "zlJW8q_q3Vd9",
        "outputId": "11b9eeac-ba2f-4e5b-e5da-859f417df1b2"
      },
      "outputs": [
        {
          "output_type": "stream",
          "name": "stdout",
          "text": [
            "332/332 [==============================] - 1s 2ms/step\n"
          ]
        }
      ],
      "source": [
        "y_pred = FFNN.predict(X_test)"
      ]
    },
    {
      "cell_type": "code",
      "execution_count": null,
      "metadata": {
        "colab": {
          "base_uri": "https://localhost:8080/"
        },
        "id": "RL_o9gFd0kc7",
        "outputId": "f7c40cd5-8bf7-43d6-eb57-199fea9e8810"
      },
      "outputs": [
        {
          "output_type": "stream",
          "name": "stdout",
          "text": [
            "Feed Forward Network Mean Squared Error: 95.36\n",
            "Feed Forward Network Mean Absolute Error: 5.19\n",
            "Feed Forward Network R-Squared Value: 0.38\n",
            "Feed Forward Network Adjusted R-Squared Value: 0.38 \n",
            "\n"
          ]
        }
      ],
      "source": [
        "#get performance metrics (for verification)\n",
        "perf_metrics(y_test, y_pred, \"Feed Forward Network\")"
      ]
    },
    {
      "cell_type": "code",
      "execution_count": null,
      "metadata": {
        "colab": {
          "base_uri": "https://localhost:8080/"
        },
        "id": "f8KPN6j5_4xz",
        "outputId": "252269ff-686c-4536-9792-afac293bcb6d"
      },
      "outputs": [
        {
          "name": "stdout",
          "output_type": "stream",
          "text": [
            "\u001b[2K     \u001b[90m━━━━━━━━━━━━━━━━━━━━━━━━━━━━━━━━━━━━━━\u001b[0m \u001b[32m167.3/167.3 KB\u001b[0m \u001b[31m14.4 MB/s\u001b[0m eta \u001b[36m0:00:00\u001b[0m\n",
            "\u001b[2K     \u001b[90m━━━━━━━━━━━━━━━━━━━━━━━━━━━━━━━━━━━━━━━━\u001b[0m \u001b[32m1.6/1.6 MB\u001b[0m \u001b[31m78.0 MB/s\u001b[0m eta \u001b[36m0:00:00\u001b[0m\n",
            "\u001b[?25h"
          ]
        }
      ],
      "source": [
        "!pip install -q -U keras-tuner\n",
        "\n",
        "import keras_tuner as kt\n",
        "from keras_tuner import RandomSearch\n",
        "from keras_tuner.engine.hyperparameters import HyperParameters\n",
        "from keras_tuner.tuners.hyperband import Hyperband\n",
        "from keras.layers import Input, Dropout\n",
        "from keras.callbacks import EarlyStopping"
      ]
    },
    {
      "cell_type": "code",
      "execution_count": null,
      "metadata": {
        "id": "kZ1bRiGpHMEV"
      },
      "outputs": [],
      "source": [
        "def build_FF_model(hp):\n",
        "    model = keras.Sequential()\n",
        "    model.add(Dense(units=hp.Int('units_1', min_value=256, max_value=1024, step=256),\n",
        "                           activation=hp.Choice('activation_1', ['relu', 'sigmoid', 'softmax', 'swish']), \n",
        "                           kernel_regularizer=regularizers.l2(0.001), \n",
        "                           input_shape=input_shape))\n",
        "    model.add(Dense(units=hp.Int('units_2', min_value=256, max_value=1024, step=256),\n",
        "                           activation=hp.Choice('activation_2', ['relu', 'sigmoid', 'softmax', 'swish']), \n",
        "                           kernel_regularizer=regularizers.l2(0.001)))\n",
        "    model.add(Dropout(0.2))\n",
        "    model.add(Dense(units=hp.Int('units_3', min_value=256, max_value=1024, step=256),\n",
        "                           activation=hp.Choice('activation_3', ['relu', 'sigmoid', 'softmax', 'swish']), \n",
        "                           kernel_regularizer=regularizers.l2(0.001)))\n",
        "    model.add(Dropout(0.2))\n",
        "    model.add(Dense(units=hp.Int('units_4', min_value=256, max_value=1024, step=256),\n",
        "                           activation=hp.Choice('activation_4', ['relu', 'sigmoid', 'softmax', 'swish']), \n",
        "                           kernel_regularizer=regularizers.l2(0.001)))\n",
        "    model.add(Dropout(0.2))\n",
        "    model.add(Dense(1, activation='relu'))\n",
        "    model.compile(optimizer=optimizers.Adam(lr=1e-4),\n",
        "                  loss='mean_absolute_error',\n",
        "                  metrics=['mae'])\n",
        "    return model\n",
        "\n",
        "FF_tuner = kt.Hyperband(build_FF_model,\n",
        "                     objective='val_mae',\n",
        "                     max_epochs=20,\n",
        "                     factor=3)\n",
        "\n",
        "stop_early = EarlyStopping(monitor='val_loss', patience=5)\n",
        "\n",
        "FF_tuner.search(X_train, y_train, validation_data=(X_test, y_test), callbacks=[stop_early], epochs=20, batch_size=8)\n",
        "\n",
        "best_hyperparameters = FF_tuner.get_best_hyperparameters(num_trials=1)[0]"
      ]
    },
    {
      "cell_type": "code",
      "execution_count": null,
      "metadata": {
        "colab": {
          "base_uri": "https://localhost:8080/"
        },
        "id": "WhsJwtaQkTOt",
        "outputId": "8ac8b0f4-89d5-4a89-9a0c-ee26bdf9eb46"
      },
      "outputs": [
        {
          "name": "stdout",
          "output_type": "stream",
          "text": [
            "Results summary\n",
            "Results in ./untitled_project\n",
            "Showing 10 best trials\n",
            "<keras_tuner.engine.objective.Objective object at 0x7fa1b84ae1f0>\n",
            "Trial summary\n",
            "Hyperparameters:\n",
            "units_1: 512\n",
            "activation_1: relu\n",
            "units_2: 768\n",
            "activation_2: swish\n",
            "units_3: 1024\n",
            "activation_3: sigmoid\n",
            "units_4: 512\n",
            "activation_4: swish\n",
            "tuner/epochs: 20\n",
            "tuner/initial_epoch: 7\n",
            "tuner/bracket: 2\n",
            "tuner/round: 2\n",
            "tuner/trial_id: 0014\n",
            "Score: 5.097636699676514\n",
            "Trial summary\n",
            "Hyperparameters:\n",
            "units_1: 512\n",
            "activation_1: swish\n",
            "units_2: 1024\n",
            "activation_2: relu\n",
            "units_3: 1024\n",
            "activation_3: swish\n",
            "units_4: 768\n",
            "activation_4: relu\n",
            "tuner/epochs: 20\n",
            "tuner/initial_epoch: 7\n",
            "tuner/bracket: 1\n",
            "tuner/round: 1\n",
            "tuner/trial_id: 0020\n",
            "Score: 5.1026291847229\n",
            "Trial summary\n",
            "Hyperparameters:\n",
            "units_1: 256\n",
            "activation_1: relu\n",
            "units_2: 512\n",
            "activation_2: sigmoid\n",
            "units_3: 768\n",
            "activation_3: relu\n",
            "units_4: 512\n",
            "activation_4: swish\n",
            "tuner/epochs: 20\n",
            "tuner/initial_epoch: 7\n",
            "tuner/bracket: 2\n",
            "tuner/round: 2\n",
            "tuner/trial_id: 0012\n",
            "Score: 5.10593843460083\n",
            "Trial summary\n",
            "Hyperparameters:\n",
            "units_1: 512\n",
            "activation_1: relu\n",
            "units_2: 768\n",
            "activation_2: swish\n",
            "units_3: 1024\n",
            "activation_3: sigmoid\n",
            "units_4: 512\n",
            "activation_4: swish\n",
            "tuner/epochs: 7\n",
            "tuner/initial_epoch: 3\n",
            "tuner/bracket: 2\n",
            "tuner/round: 1\n",
            "tuner/trial_id: 0006\n",
            "Score: 5.16016960144043\n",
            "Trial summary\n",
            "Hyperparameters:\n",
            "units_1: 512\n",
            "activation_1: swish\n",
            "units_2: 1024\n",
            "activation_2: relu\n",
            "units_3: 1024\n",
            "activation_3: swish\n",
            "units_4: 768\n",
            "activation_4: relu\n",
            "tuner/epochs: 7\n",
            "tuner/initial_epoch: 0\n",
            "tuner/bracket: 1\n",
            "tuner/round: 0\n",
            "Score: 5.160694599151611\n",
            "Trial summary\n",
            "Hyperparameters:\n",
            "units_1: 256\n",
            "activation_1: relu\n",
            "units_2: 512\n",
            "activation_2: sigmoid\n",
            "units_3: 768\n",
            "activation_3: relu\n",
            "units_4: 512\n",
            "activation_4: swish\n",
            "tuner/epochs: 7\n",
            "tuner/initial_epoch: 3\n",
            "tuner/bracket: 2\n",
            "tuner/round: 1\n",
            "tuner/trial_id: 0002\n",
            "Score: 5.188356399536133\n",
            "Trial summary\n",
            "Hyperparameters:\n",
            "units_1: 512\n",
            "activation_1: sigmoid\n",
            "units_2: 512\n",
            "activation_2: relu\n",
            "units_3: 768\n",
            "activation_3: relu\n",
            "units_4: 1024\n",
            "activation_4: relu\n",
            "tuner/epochs: 20\n",
            "tuner/initial_epoch: 0\n",
            "tuner/bracket: 0\n",
            "tuner/round: 0\n",
            "Score: 5.197214603424072\n",
            "Trial summary\n",
            "Hyperparameters:\n",
            "units_1: 256\n",
            "activation_1: relu\n",
            "units_2: 512\n",
            "activation_2: sigmoid\n",
            "units_3: 768\n",
            "activation_3: relu\n",
            "units_4: 512\n",
            "activation_4: swish\n",
            "tuner/epochs: 3\n",
            "tuner/initial_epoch: 0\n",
            "tuner/bracket: 2\n",
            "tuner/round: 0\n",
            "Score: 5.206420421600342\n",
            "Trial summary\n",
            "Hyperparameters:\n",
            "units_1: 512\n",
            "activation_1: softmax\n",
            "units_2: 256\n",
            "activation_2: swish\n",
            "units_3: 1024\n",
            "activation_3: relu\n",
            "units_4: 512\n",
            "activation_4: swish\n",
            "tuner/epochs: 7\n",
            "tuner/initial_epoch: 3\n",
            "tuner/bracket: 2\n",
            "tuner/round: 1\n",
            "tuner/trial_id: 0001\n",
            "Score: 5.211779594421387\n",
            "Trial summary\n",
            "Hyperparameters:\n",
            "units_1: 1024\n",
            "activation_1: swish\n",
            "units_2: 1024\n",
            "activation_2: sigmoid\n",
            "units_3: 768\n",
            "activation_3: sigmoid\n",
            "units_4: 512\n",
            "activation_4: relu\n",
            "tuner/epochs: 20\n",
            "tuner/initial_epoch: 0\n",
            "tuner/bracket: 0\n",
            "tuner/round: 0\n",
            "Score: 5.230355262756348\n"
          ]
        }
      ],
      "source": [
        "FF_tuner.results_summary(num_trials=10)"
      ]
    },
    {
      "cell_type": "code",
      "execution_count": null,
      "metadata": {
        "colab": {
          "base_uri": "https://localhost:8080/"
        },
        "id": "-KS-ZYSljUH9",
        "outputId": "167ddb2a-0dd5-4265-c8f8-cfbc9b06fe4f"
      },
      "outputs": [
        {
          "name": "stdout",
          "output_type": "stream",
          "text": [
            "<keras_tuner.engine.hyperparameters.hyperparameters.HyperParameters object at 0x7fa1ca427dc0>\n"
          ]
        }
      ],
      "source": [
        "print(FF_tuner.get_best_hyperparameters()[0])"
      ]
    },
    {
      "cell_type": "code",
      "execution_count": null,
      "metadata": {
        "id": "4PZhWqeGIxwW"
      },
      "outputs": [],
      "source": [
        "best_hps = FF_tuner.get_best_hyperparameters(num_trials=1)[0]"
      ]
    },
    {
      "cell_type": "code",
      "execution_count": null,
      "metadata": {
        "colab": {
          "base_uri": "https://localhost:8080/"
        },
        "id": "DpLjSZwJIzb6",
        "outputId": "79ad0028-7e51-45a2-a28e-ff8a46bfd620"
      },
      "outputs": [
        {
          "name": "stderr",
          "output_type": "stream",
          "text": [
            "/usr/local/lib/python3.8/dist-packages/keras/optimizers/optimizer_v2/adam.py:117: UserWarning: The `lr` argument is deprecated, use `learning_rate` instead.\n",
            "  super().__init__(name, **kwargs)\n"
          ]
        }
      ],
      "source": [
        "final_FF_model = build_FF_model(best_hps)"
      ]
    },
    {
      "cell_type": "code",
      "execution_count": null,
      "metadata": {
        "colab": {
          "base_uri": "https://localhost:8080/"
        },
        "id": "rKSDA0I4I2BE",
        "outputId": "dae8eada-da71-4ac4-bcbe-0a57b6e36de6"
      },
      "outputs": [
        {
          "name": "stdout",
          "output_type": "stream",
          "text": [
            "Epoch 1/20\n",
            "1328/1328 [==============================] - 6s 4ms/step - loss: 6.9860 - mae: 5.5211 - val_loss: 6.4419 - val_mae: 5.3810\n",
            "Epoch 2/20\n",
            "1328/1328 [==============================] - 6s 5ms/step - loss: 6.1805 - mae: 5.2955 - val_loss: 6.0363 - val_mae: 5.2887\n",
            "Epoch 3/20\n",
            "1328/1328 [==============================] - 5s 4ms/step - loss: 5.8869 - mae: 5.2294 - val_loss: 5.8699 - val_mae: 5.2912\n",
            "Epoch 4/20\n",
            "1328/1328 [==============================] - 7s 5ms/step - loss: 5.7080 - mae: 5.1865 - val_loss: 5.6654 - val_mae: 5.1958\n",
            "Epoch 5/20\n",
            "1328/1328 [==============================] - 5s 4ms/step - loss: 5.6015 - mae: 5.1706 - val_loss: 5.5722 - val_mae: 5.1732\n",
            "Epoch 6/20\n",
            "1328/1328 [==============================] - 6s 5ms/step - loss: 5.5170 - mae: 5.1458 - val_loss: 5.5210 - val_mae: 5.1695\n",
            "Epoch 7/20\n",
            "1328/1328 [==============================] - 6s 4ms/step - loss: 5.4667 - mae: 5.1357 - val_loss: 5.5108 - val_mae: 5.1968\n",
            "Epoch 8/20\n",
            "1328/1328 [==============================] - 5s 4ms/step - loss: 5.4243 - mae: 5.1218 - val_loss: 5.4480 - val_mae: 5.1592\n",
            "Epoch 9/20\n",
            "1328/1328 [==============================] - 6s 5ms/step - loss: 5.3914 - mae: 5.1111 - val_loss: 5.4469 - val_mae: 5.1729\n",
            "Epoch 10/20\n",
            "1328/1328 [==============================] - 5s 4ms/step - loss: 5.3570 - mae: 5.0942 - val_loss: 5.3702 - val_mae: 5.1158\n",
            "Epoch 11/20\n",
            "1328/1328 [==============================] - 7s 5ms/step - loss: 5.3300 - mae: 5.0820 - val_loss: 5.3628 - val_mae: 5.1237\n",
            "Epoch 12/20\n",
            "1328/1328 [==============================] - 6s 4ms/step - loss: 5.2983 - mae: 5.0629 - val_loss: 5.3747 - val_mae: 5.1467\n",
            "Epoch 13/20\n",
            "1328/1328 [==============================] - 7s 5ms/step - loss: 5.2793 - mae: 5.0534 - val_loss: 5.3750 - val_mae: 5.1524\n",
            "Epoch 14/20\n",
            "1328/1328 [==============================] - 6s 5ms/step - loss: 5.2612 - mae: 5.0429 - val_loss: 5.3314 - val_mae: 5.1171\n",
            "Epoch 15/20\n",
            "1328/1328 [==============================] - 5s 4ms/step - loss: 5.2424 - mae: 5.0325 - val_loss: 5.3262 - val_mae: 5.1219\n",
            "Epoch 16/20\n",
            "1328/1328 [==============================] - 6s 5ms/step - loss: 5.2294 - mae: 5.0272 - val_loss: 5.3327 - val_mae: 5.1324\n",
            "Epoch 17/20\n",
            "1328/1328 [==============================] - 5s 4ms/step - loss: 5.2247 - mae: 5.0257 - val_loss: 5.2846 - val_mae: 5.0889\n",
            "Epoch 18/20\n",
            "1328/1328 [==============================] - 7s 5ms/step - loss: 5.1992 - mae: 5.0041 - val_loss: 5.2766 - val_mae: 5.0824\n",
            "Epoch 19/20\n",
            "1328/1328 [==============================] - 6s 5ms/step - loss: 5.1895 - mae: 4.9974 - val_loss: 5.3916 - val_mae: 5.2028\n",
            "Epoch 20/20\n",
            "1328/1328 [==============================] - 8s 6ms/step - loss: 5.1932 - mae: 5.0034 - val_loss: 5.2927 - val_mae: 5.1067\n"
          ]
        }
      ],
      "source": [
        "history = final_FF_model.fit(X_train, y_train,validation_data=(X_test, y_test),epochs=20,batch_size=32)"
      ]
    },
    {
      "cell_type": "code",
      "execution_count": null,
      "metadata": {
        "colab": {
          "base_uri": "https://localhost:8080/"
        },
        "id": "bo6CrZtalDt8",
        "outputId": "82106aef-72dc-48f3-f46c-3061493bc51b"
      },
      "outputs": [
        {
          "name": "stdout",
          "output_type": "stream",
          "text": [
            "332/332 [==============================] - 2s 4ms/step\n"
          ]
        }
      ],
      "source": [
        "y_pred = final_FF_model.predict(X_test)"
      ]
    },
    {
      "cell_type": "code",
      "execution_count": null,
      "metadata": {
        "colab": {
          "base_uri": "https://localhost:8080/"
        },
        "id": "fwjbx2h4lQfB",
        "outputId": "07a01eda-3fe4-46f2-9ce3-8583f8a4ddfb"
      },
      "outputs": [
        {
          "name": "stdout",
          "output_type": "stream",
          "text": [
            "Tuned Feed Forward Network Mean Squared Error: 98.42\n",
            "Tuned Feed Forward Network Mean Absolute Error: 5.11\n",
            "Tuned Feed Forward Network R-Squared Value: 0.36\n",
            "Tuned Feed Forward Network Adjusted R-Squared Value: 0.36 \n",
            "\n"
          ]
        }
      ],
      "source": [
        "perf_metrics(y_test, y_pred, \"Tuned Feed Forward Network\")"
      ]
    },
    {
      "cell_type": "markdown",
      "metadata": {
        "id": "qRoqVPupek_E"
      },
      "source": [
        "# Fully Convolutional Neural Network"
      ]
    },
    {
      "cell_type": "code",
      "execution_count": null,
      "metadata": {
        "colab": {
          "base_uri": "https://localhost:8080/"
        },
        "id": "wqnmHXZknveS",
        "outputId": "f10b1e2a-fe92-4808-a345-61449128e418"
      },
      "outputs": [
        {
          "output_type": "execute_result",
          "data": {
            "text/plain": [
              "(48, 1)"
            ]
          },
          "metadata": {},
          "execution_count": 13
        }
      ],
      "source": [
        "#create shape for the model input\n",
        "input_shape = (X_train.shape[1],1)\n",
        "input_shape"
      ]
    },
    {
      "cell_type": "code",
      "execution_count": null,
      "metadata": {
        "id": "12EbxIpqn-Q4"
      },
      "outputs": [],
      "source": [
        "#import necessary libraries\n",
        "import tensorflow as tf\n",
        "import keras\n",
        "from keras import backend\n",
        "from keras import models, regularizers, layers, optimizers, losses, metrics\n",
        "from keras import Sequential\n",
        "from keras.layers import Dense, Conv1D, Flatten, Dropout, MaxPooling1D, BatchNormalization\n",
        "from keras.optimizers import Adam"
      ]
    },
    {
      "cell_type": "code",
      "execution_count": null,
      "metadata": {
        "colab": {
          "base_uri": "https://localhost:8080/"
        },
        "id": "AaJnGeTNtdLi",
        "outputId": "7409ae16-0f91-4811-8550-873cf8dc5914"
      },
      "outputs": [
        {
          "name": "stdout",
          "output_type": "stream",
          "text": [
            "Model: \"sequential_3\"\n",
            "_________________________________________________________________\n",
            " Layer (type)                Output Shape              Param #   \n",
            "=================================================================\n",
            " conv1d (Conv1D)             (None, 47, 128)           384       \n",
            "                                                                 \n",
            " conv1d_1 (Conv1D)           (None, 46, 256)           65792     \n",
            "                                                                 \n",
            " conv1d_2 (Conv1D)           (None, 45, 256)           131328    \n",
            "                                                                 \n",
            " conv1d_3 (Conv1D)           (None, 44, 128)           65664     \n",
            "                                                                 \n",
            " max_pooling1d (MaxPooling1D  (None, 22, 128)          0         \n",
            " )                                                               \n",
            "                                                                 \n",
            " flatten (Flatten)           (None, 2816)              0         \n",
            "                                                                 \n",
            " dense_10 (Dense)            (None, 1)                 2817      \n",
            "                                                                 \n",
            "=================================================================\n",
            "Total params: 265,985\n",
            "Trainable params: 265,985\n",
            "Non-trainable params: 0\n",
            "_________________________________________________________________\n"
          ]
        },
        {
          "name": "stderr",
          "output_type": "stream",
          "text": [
            "/usr/local/lib/python3.8/dist-packages/keras/optimizers/optimizer_v2/adam.py:117: UserWarning: The `lr` argument is deprecated, use `learning_rate` instead.\n",
            "  super().__init__(name, **kwargs)\n"
          ]
        }
      ],
      "source": [
        "#build the Convolutional Model\n",
        "FCN = Sequential()\n",
        "\n",
        "#block1\n",
        "FCN.add(Conv1D(128, 2, activation=\"relu\", input_shape = input_shape))\n",
        "BatchNormalization()\n",
        "Dropout(0.4) \n",
        " \n",
        "#block2\n",
        "FCN.add(Conv1D(256, 2, activation=\"relu\"))\n",
        "BatchNormalization()\n",
        "Dropout(0.4)\n",
        "\n",
        "#block3\n",
        "FCN.add(Conv1D(256, 2, activation=\"relu\"))\n",
        "BatchNormalization()\n",
        "Dropout(0.4)\n",
        "\n",
        "#block4\n",
        "FCN.add(Conv1D(128, 2, activation=\"relu\"))\n",
        "BatchNormalization()\n",
        "\n",
        "#global average pooling\n",
        "FCN.add(MaxPooling1D())\n",
        "FCN.add(Flatten())\n",
        "FCN.add(Dense(1,activation = \"relu\"))\n",
        "\n",
        "FCN.compile(optimizer=optimizers.Adam(lr=0.001), loss='mean_squared_logarithmic_error', metrics=['mae'])\n",
        "FCN.summary()"
      ]
    },
    {
      "cell_type": "code",
      "execution_count": null,
      "metadata": {
        "colab": {
          "base_uri": "https://localhost:8080/"
        },
        "id": "IrLNVIJaoM4E",
        "outputId": "0d5f1b6c-3419-4389-bcae-6501838b7f7b"
      },
      "outputs": [
        {
          "name": "stdout",
          "output_type": "stream",
          "text": [
            "Epoch 1/20\n",
            "664/664 [==============================] - 11s 7ms/step - loss: 0.4378 - mae: 5.6140 - val_loss: 0.3900 - val_mae: 5.4803\n",
            "Epoch 2/20\n",
            "664/664 [==============================] - 4s 6ms/step - loss: 0.3833 - mae: 5.3774 - val_loss: 0.4158 - val_mae: 5.5360\n",
            "Epoch 3/20\n",
            "664/664 [==============================] - 5s 7ms/step - loss: 0.3755 - mae: 5.2927 - val_loss: 0.3764 - val_mae: 5.3040\n",
            "Epoch 4/20\n",
            "664/664 [==============================] - 5s 7ms/step - loss: 0.3711 - mae: 5.2561 - val_loss: 0.3771 - val_mae: 5.3529\n",
            "Epoch 5/20\n",
            "664/664 [==============================] - 7s 11ms/step - loss: 0.3706 - mae: 5.2508 - val_loss: 0.3718 - val_mae: 5.2724\n",
            "Epoch 6/20\n",
            "664/664 [==============================] - 4s 6ms/step - loss: 0.3682 - mae: 5.2278 - val_loss: 0.3695 - val_mae: 5.2481\n",
            "Epoch 7/20\n",
            "664/664 [==============================] - 4s 6ms/step - loss: 0.3665 - mae: 5.2121 - val_loss: 0.3708 - val_mae: 5.2495\n",
            "Epoch 8/20\n",
            "664/664 [==============================] - 4s 6ms/step - loss: 0.3669 - mae: 5.2119 - val_loss: 0.3688 - val_mae: 5.2244\n",
            "Epoch 9/20\n",
            "664/664 [==============================] - 4s 7ms/step - loss: 0.3638 - mae: 5.1979 - val_loss: 0.3730 - val_mae: 5.2675\n",
            "Epoch 10/20\n",
            "664/664 [==============================] - 5s 7ms/step - loss: 0.3633 - mae: 5.1844 - val_loss: 0.3762 - val_mae: 5.2385\n",
            "Epoch 11/20\n",
            "664/664 [==============================] - 4s 6ms/step - loss: 0.3631 - mae: 5.1848 - val_loss: 0.3728 - val_mae: 5.2364\n",
            "Epoch 12/20\n",
            "664/664 [==============================] - 4s 7ms/step - loss: 0.3627 - mae: 5.1814 - val_loss: 0.3675 - val_mae: 5.2025\n",
            "Epoch 13/20\n",
            "664/664 [==============================] - 4s 6ms/step - loss: 0.3622 - mae: 5.1714 - val_loss: 0.3708 - val_mae: 5.2239\n",
            "Epoch 14/20\n",
            "664/664 [==============================] - 4s 5ms/step - loss: 0.3612 - mae: 5.1741 - val_loss: 0.3777 - val_mae: 5.2313\n",
            "Epoch 15/20\n",
            "664/664 [==============================] - 4s 7ms/step - loss: 0.3608 - mae: 5.1646 - val_loss: 0.3672 - val_mae: 5.2110\n",
            "Epoch 16/20\n",
            "664/664 [==============================] - 4s 6ms/step - loss: 0.3601 - mae: 5.1640 - val_loss: 0.3665 - val_mae: 5.2095\n",
            "Epoch 17/20\n",
            "664/664 [==============================] - 4s 6ms/step - loss: 0.3597 - mae: 5.1579 - val_loss: 0.3659 - val_mae: 5.2034\n",
            "Epoch 18/20\n",
            "664/664 [==============================] - 4s 6ms/step - loss: 0.3594 - mae: 5.1556 - val_loss: 0.3674 - val_mae: 5.2212\n",
            "Epoch 19/20\n",
            "664/664 [==============================] - 4s 6ms/step - loss: 0.3581 - mae: 5.1489 - val_loss: 0.3720 - val_mae: 5.2116\n",
            "Epoch 20/20\n",
            "664/664 [==============================] - 4s 6ms/step - loss: 0.3585 - mae: 5.1462 - val_loss: 0.3678 - val_mae: 5.2040\n"
          ]
        }
      ],
      "source": [
        "#fit/train the model\n",
        "NumEpochs = 20\n",
        "BatchSize = 64\n",
        "\n",
        "history = FCN.fit(X_train, y_train, epochs=NumEpochs, batch_size=BatchSize, validation_data=(X_test, y_test))"
      ]
    },
    {
      "cell_type": "code",
      "execution_count": null,
      "metadata": {
        "colab": {
          "base_uri": "https://localhost:8080/"
        },
        "id": "M0l0C38npSiX",
        "outputId": "984dc490-7181-4597-e1d7-63afefc2ad1e"
      },
      "outputs": [
        {
          "name": "stdout",
          "output_type": "stream",
          "text": [
            "332/332 [==============================] - 2s 4ms/step - loss: 0.3678 - mae: 5.2040\n",
            "____________________________________________________________________________________________________\n",
            "Test Loss and MAE\n",
            "results  [0.36776188015937805, 5.203963756561279]\n"
          ]
        }
      ],
      "source": [
        "# Predicting on the test dataset\n",
        "results = FCN.evaluate(X_test, y_test)\n",
        "print(\"_\"*100)\n",
        "print(\"Test Loss and MAE\")\n",
        "print(\"results \", results)"
      ]
    },
    {
      "cell_type": "code",
      "execution_count": null,
      "metadata": {
        "colab": {
          "base_uri": "https://localhost:8080/"
        },
        "id": "C-aW5sE2wShp",
        "outputId": "071ceede-5525-48c9-a08e-07d3a20d0e9c"
      },
      "outputs": [
        {
          "name": "stdout",
          "output_type": "stream",
          "text": [
            "332/332 [==============================] - 1s 2ms/step\n"
          ]
        }
      ],
      "source": [
        "y_pred = FCN.predict(X_test)"
      ]
    },
    {
      "cell_type": "code",
      "execution_count": null,
      "metadata": {
        "colab": {
          "base_uri": "https://localhost:8080/"
        },
        "id": "nM9H2dCM1Oic",
        "outputId": "36b79d62-2513-4702-b063-272966c27a13"
      },
      "outputs": [
        {
          "name": "stdout",
          "output_type": "stream",
          "text": [
            "Fully Convolutional Network Mean Squared Error: 94.81\n",
            "Fully Convolutional Network Mean Absolute Error: 5.20\n",
            "Fully Convolutional Network R-Squared Value: 0.38\n",
            "Fully Convolutional Network Adjusted R-Squared Value: 0.38 \n",
            "\n"
          ]
        }
      ],
      "source": [
        "#get performance metrics (for verification)\n",
        "perf_metrics(y_test, y_pred, \"Fully Convolutional Network\")"
      ]
    },
    {
      "cell_type": "code",
      "execution_count": null,
      "metadata": {
        "colab": {
          "base_uri": "https://localhost:8080/"
        },
        "id": "2N14plFCozp-",
        "outputId": "3c54f36a-0272-4e4d-8aef-315d6e6b628f"
      },
      "outputs": [
        {
          "output_type": "stream",
          "name": "stdout",
          "text": [
            "\u001b[2K     \u001b[90m━━━━━━━━━━━━━━━━━━━━━━━━━━━━━━━━━━━━━━\u001b[0m \u001b[32m167.3/167.3 KB\u001b[0m \u001b[31m14.8 MB/s\u001b[0m eta \u001b[36m0:00:00\u001b[0m\n",
            "\u001b[2K     \u001b[90m━━━━━━━━━━━━━━━━━━━━━━━━━━━━━━━━━━━━━━━━\u001b[0m \u001b[32m1.6/1.6 MB\u001b[0m \u001b[31m84.2 MB/s\u001b[0m eta \u001b[36m0:00:00\u001b[0m\n",
            "\u001b[?25h"
          ]
        }
      ],
      "source": [
        "!pip install -q -U keras-tuner\n",
        "\n",
        "import keras_tuner as kt\n",
        "from keras_tuner import RandomSearch\n",
        "from keras_tuner.engine.hyperparameters import HyperParameters\n",
        "from keras_tuner.tuners.hyperband import Hyperband\n",
        "from keras.layers import Input, Dropout\n",
        "from keras.callbacks import EarlyStopping"
      ]
    },
    {
      "cell_type": "code",
      "execution_count": null,
      "metadata": {
        "colab": {
          "base_uri": "https://localhost:8080/"
        },
        "id": "sla77dSkmFo0",
        "outputId": "10884bfd-d13a-4172-af54-fb8c6d36b44d"
      },
      "outputs": [
        {
          "output_type": "stream",
          "name": "stdout",
          "text": [
            "Trial 28 Complete [00h 04m 48s]\n",
            "val_mae: 9.228848457336426\n",
            "\n",
            "Best val_mae So Far: 5.180224418640137\n",
            "Total elapsed time: 01h 37m 39s\n",
            "\n",
            "Search: Running Trial #29\n",
            "\n",
            "Value             |Best Value So Far |Hyperparameter\n",
            "1024              |512               |units_1\n",
            "sigmoid           |relu              |activation_1\n",
            "1024              |1024              |units_2\n",
            "swish             |sigmoid           |activation_2\n",
            "512               |768               |units_3\n",
            "swish             |relu              |activation_3\n",
            "1024              |1024              |units_4\n",
            "swish             |relu              |activation_4\n",
            "swish             |relu              |activation_5\n",
            "20                |20                |tuner/epochs\n",
            "0                 |7                 |tuner/initial_epoch\n",
            "0                 |2                 |tuner/bracket\n",
            "0                 |2                 |tuner/round\n",
            "\n",
            "Epoch 1/20\n"
          ]
        },
        {
          "output_type": "stream",
          "name": "stderr",
          "text": [
            "/usr/local/lib/python3.8/dist-packages/keras/optimizers/optimizer_v2/adam.py:117: UserWarning: The `lr` argument is deprecated, use `learning_rate` instead.\n",
            "  super().__init__(name, **kwargs)\n"
          ]
        },
        {
          "output_type": "stream",
          "name": "stdout",
          "text": [
            "5311/5311 [==============================] - 50s 9ms/step - loss: 0.4256 - mae: 5.6000 - val_loss: 0.3971 - val_mae: 5.4581\n",
            "Epoch 2/20\n",
            "5311/5311 [==============================] - 47s 9ms/step - loss: 0.3848 - mae: 5.3478 - val_loss: 0.3925 - val_mae: 5.4558\n",
            "Epoch 3/20\n",
            "5311/5311 [==============================] - 53s 10ms/step - loss: 0.3806 - mae: 5.3208 - val_loss: 0.3785 - val_mae: 5.3519\n",
            "Epoch 4/20\n",
            "5311/5311 [==============================] - 48s 9ms/step - loss: 0.3781 - mae: 5.3066 - val_loss: 0.3806 - val_mae: 5.3308\n",
            "Epoch 5/20\n",
            "5311/5311 [==============================] - 49s 9ms/step - loss: 0.3758 - mae: 5.2920 - val_loss: 0.3812 - val_mae: 5.3503\n",
            "Epoch 6/20\n",
            "5311/5311 [==============================] - 48s 9ms/step - loss: 0.3750 - mae: 5.2894 - val_loss: 0.3755 - val_mae: 5.3393\n",
            "Epoch 7/20\n",
            "5311/5311 [==============================] - 47s 9ms/step - loss: 0.3733 - mae: 5.2753 - val_loss: 0.3750 - val_mae: 5.3092\n",
            "Epoch 8/20\n",
            "5311/5311 [==============================] - 48s 9ms/step - loss: 0.3726 - mae: 5.2661 - val_loss: 0.3837 - val_mae: 5.3862\n",
            "Epoch 9/20\n",
            "5311/5311 [==============================] - 47s 9ms/step - loss: 0.3724 - mae: 5.2677 - val_loss: 0.3719 - val_mae: 5.2932\n",
            "Epoch 10/20\n",
            "5311/5311 [==============================] - 48s 9ms/step - loss: 0.3704 - mae: 5.2582 - val_loss: 0.3720 - val_mae: 5.2710\n",
            "Epoch 11/20\n",
            "5311/5311 [==============================] - 48s 9ms/step - loss: 0.3705 - mae: 5.2443 - val_loss: 0.3731 - val_mae: 5.3058\n",
            "Epoch 12/20\n",
            "5311/5311 [==============================] - 47s 9ms/step - loss: 0.3696 - mae: 5.2431 - val_loss: 0.3719 - val_mae: 5.2831\n",
            "Epoch 13/20\n",
            "5311/5311 [==============================] - 47s 9ms/step - loss: 0.3689 - mae: 5.2413 - val_loss: 0.3789 - val_mae: 5.3267\n",
            "Epoch 14/20\n",
            "5311/5311 [==============================] - 48s 9ms/step - loss: 0.3689 - mae: 5.2331 - val_loss: 0.3719 - val_mae: 5.3029\n",
            "Epoch 15/20\n",
            "5311/5311 [==============================] - 48s 9ms/step - loss: 0.3686 - mae: 5.2269 - val_loss: 0.3758 - val_mae: 5.3402\n",
            "Epoch 16/20\n",
            "5311/5311 [==============================] - 48s 9ms/step - loss: 0.3677 - mae: 5.2326 - val_loss: 0.3738 - val_mae: 5.2771\n",
            "Epoch 17/20\n",
            "5311/5311 [==============================] - 48s 9ms/step - loss: 0.3675 - mae: 5.2214 - val_loss: 0.3712 - val_mae: 5.2674\n",
            "Epoch 18/20\n",
            "5311/5311 [==============================] - 47s 9ms/step - loss: 0.3665 - mae: 5.2139 - val_loss: 0.3715 - val_mae: 5.2533\n",
            "Epoch 19/20\n",
            "5311/5311 [==============================] - 46s 9ms/step - loss: 0.3660 - mae: 5.2110 - val_loss: 0.3703 - val_mae: 5.2758\n",
            "Epoch 20/20\n",
            "5311/5311 [==============================] - 48s 9ms/step - loss: 0.3667 - mae: 5.2144 - val_loss: 0.3692 - val_mae: 5.2571\n"
          ]
        }
      ],
      "source": [
        "def build_FCN_model(hp):\n",
        "    model = Sequential()\n",
        "    model.add(Conv1D(hp.Int('units_1', min_value=256, max_value=1024, step=256),\n",
        "                     2,\n",
        "                     activation=hp.Choice('activation_1', ['relu', 'sigmoid', 'softmax', 'swish']),  \n",
        "                     input_shape=input_shape))\n",
        "    BatchNormalization()\n",
        "    Dropout(0.4)\n",
        "    model.add(Conv1D(hp.Int('units_2', min_value=256, max_value=1024, step=256),\n",
        "                     2,\n",
        "                     activation=hp.Choice('activation_2', ['relu', 'sigmoid', 'softmax', 'swish']),  \n",
        "                     input_shape=input_shape))\n",
        "    BatchNormalization()\n",
        "    Dropout(0.4)\n",
        "    model.add(Conv1D(hp.Int('units_3', min_value=256, max_value=1024, step=256),\n",
        "                     2,\n",
        "                     activation=hp.Choice('activation_3', ['relu', 'sigmoid', 'softmax', 'swish']),  \n",
        "                     input_shape=input_shape))\n",
        "    BatchNormalization()\n",
        "    Dropout(0.4)\n",
        "    model.add(Conv1D(hp.Int('units_4', min_value=256, max_value=1024, step=256),\n",
        "                     2,\n",
        "                     activation=hp.Choice('activation_4', ['relu', 'sigmoid', 'softmax', 'swish']),  \n",
        "                     input_shape=input_shape))\n",
        "    BatchNormalization()\n",
        "    model.add(MaxPooling1D())\n",
        "    model.add(Flatten())\n",
        "    model.add(Dense(1,activation = hp.Choice('activation_5', ['relu', 'sigmoid', 'softmax', 'swish'])))\n",
        "    model.compile(optimizer=optimizers.Adam(lr=1e-4),\n",
        "                  loss='mean_squared_logarithmic_error',\n",
        "                  metrics=['mae'])\n",
        "    return model\n",
        "\n",
        "FCN_tuner = kt.Hyperband(build_FCN_model,\n",
        "                     objective='val_mae',\n",
        "                     max_epochs=20,\n",
        "                     factor=3,\n",
        "                     directory=\"FCN\")\n",
        "\n",
        "stop_early = EarlyStopping(monitor='val_loss', patience=5)\n",
        "\n",
        "FCN_tuner.search(X_train, y_train, validation_data=(X_test, y_test), callbacks=[stop_early], epochs=20, batch_size=8)\n",
        "\n",
        "best_hyperparameters = FCN_tuner.get_best_hyperparameters(num_trials=1)[0]"
      ]
    },
    {
      "cell_type": "code",
      "source": [
        "FCN_tuner.results_summary(num_trials=10)"
      ],
      "metadata": {
        "colab": {
          "base_uri": "https://localhost:8080/"
        },
        "id": "PyoWdUL3RBGv",
        "outputId": "02a42eed-96f5-4b3c-abc4-b35ec62f662b"
      },
      "execution_count": null,
      "outputs": [
        {
          "output_type": "stream",
          "name": "stdout",
          "text": [
            "Results summary\n",
            "Results in FCN/untitled_project\n",
            "Showing 10 best trials\n",
            "<keras_tuner.engine.objective.Objective object at 0x7fe0d92e90d0>\n",
            "Trial summary\n",
            "Hyperparameters:\n",
            "units_1: 512\n",
            "activation_1: relu\n",
            "units_2: 1024\n",
            "activation_2: sigmoid\n",
            "units_3: 768\n",
            "activation_3: relu\n",
            "units_4: 1024\n",
            "activation_4: relu\n",
            "activation_5: relu\n",
            "tuner/epochs: 20\n",
            "tuner/initial_epoch: 7\n",
            "tuner/bracket: 2\n",
            "tuner/round: 2\n",
            "tuner/trial_id: 0012\n",
            "Score: 5.180224418640137\n",
            "Trial summary\n",
            "Hyperparameters:\n",
            "units_1: 512\n",
            "activation_1: sigmoid\n",
            "units_2: 512\n",
            "activation_2: swish\n",
            "units_3: 256\n",
            "activation_3: relu\n",
            "units_4: 1024\n",
            "activation_4: sigmoid\n",
            "activation_5: swish\n",
            "tuner/epochs: 20\n",
            "tuner/initial_epoch: 7\n",
            "tuner/bracket: 1\n",
            "tuner/round: 1\n",
            "tuner/trial_id: 0021\n",
            "Score: 5.2309441566467285\n",
            "Trial summary\n",
            "Hyperparameters:\n",
            "units_1: 1024\n",
            "activation_1: sigmoid\n",
            "units_2: 1024\n",
            "activation_2: swish\n",
            "units_3: 512\n",
            "activation_3: swish\n",
            "units_4: 1024\n",
            "activation_4: swish\n",
            "activation_5: swish\n",
            "tuner/epochs: 20\n",
            "tuner/initial_epoch: 0\n",
            "tuner/bracket: 0\n",
            "tuner/round: 0\n",
            "Score: 5.253264427185059\n",
            "Trial summary\n",
            "Hyperparameters:\n",
            "units_1: 512\n",
            "activation_1: relu\n",
            "units_2: 1024\n",
            "activation_2: sigmoid\n",
            "units_3: 768\n",
            "activation_3: relu\n",
            "units_4: 1024\n",
            "activation_4: relu\n",
            "activation_5: relu\n",
            "tuner/epochs: 7\n",
            "tuner/initial_epoch: 3\n",
            "tuner/bracket: 2\n",
            "tuner/round: 1\n",
            "tuner/trial_id: 0001\n",
            "Score: 5.257719993591309\n",
            "Trial summary\n",
            "Hyperparameters:\n",
            "units_1: 256\n",
            "activation_1: sigmoid\n",
            "units_2: 1024\n",
            "activation_2: relu\n",
            "units_3: 256\n",
            "activation_3: swish\n",
            "units_4: 256\n",
            "activation_4: sigmoid\n",
            "activation_5: relu\n",
            "tuner/epochs: 20\n",
            "tuner/initial_epoch: 7\n",
            "tuner/bracket: 2\n",
            "tuner/round: 2\n",
            "tuner/trial_id: 0013\n",
            "Score: 5.274206161499023\n",
            "Trial summary\n",
            "Hyperparameters:\n",
            "units_1: 512\n",
            "activation_1: sigmoid\n",
            "units_2: 512\n",
            "activation_2: swish\n",
            "units_3: 256\n",
            "activation_3: relu\n",
            "units_4: 1024\n",
            "activation_4: sigmoid\n",
            "activation_5: swish\n",
            "tuner/epochs: 7\n",
            "tuner/initial_epoch: 0\n",
            "tuner/bracket: 1\n",
            "tuner/round: 0\n",
            "Score: 5.335093975067139\n",
            "Trial summary\n",
            "Hyperparameters:\n",
            "units_1: 512\n",
            "activation_1: relu\n",
            "units_2: 1024\n",
            "activation_2: sigmoid\n",
            "units_3: 768\n",
            "activation_3: relu\n",
            "units_4: 1024\n",
            "activation_4: relu\n",
            "activation_5: relu\n",
            "tuner/epochs: 3\n",
            "tuner/initial_epoch: 0\n",
            "tuner/bracket: 2\n",
            "tuner/round: 0\n",
            "Score: 5.338418483734131\n",
            "Trial summary\n",
            "Hyperparameters:\n",
            "units_1: 256\n",
            "activation_1: sigmoid\n",
            "units_2: 1024\n",
            "activation_2: relu\n",
            "units_3: 256\n",
            "activation_3: swish\n",
            "units_4: 256\n",
            "activation_4: sigmoid\n",
            "activation_5: relu\n",
            "tuner/epochs: 7\n",
            "tuner/initial_epoch: 3\n",
            "tuner/bracket: 2\n",
            "tuner/round: 1\n",
            "tuner/trial_id: 0004\n",
            "Score: 5.372045040130615\n",
            "Trial summary\n",
            "Hyperparameters:\n",
            "units_1: 256\n",
            "activation_1: sigmoid\n",
            "units_2: 1024\n",
            "activation_2: relu\n",
            "units_3: 256\n",
            "activation_3: swish\n",
            "units_4: 256\n",
            "activation_4: sigmoid\n",
            "activation_5: relu\n",
            "tuner/epochs: 3\n",
            "tuner/initial_epoch: 0\n",
            "tuner/bracket: 2\n",
            "tuner/round: 0\n",
            "Score: 5.46884298324585\n",
            "Trial summary\n",
            "Hyperparameters:\n",
            "units_1: 512\n",
            "activation_1: relu\n",
            "units_2: 768\n",
            "activation_2: softmax\n",
            "units_3: 256\n",
            "activation_3: relu\n",
            "units_4: 512\n",
            "activation_4: sigmoid\n",
            "activation_5: sigmoid\n",
            "tuner/epochs: 3\n",
            "tuner/initial_epoch: 0\n",
            "tuner/bracket: 2\n",
            "tuner/round: 0\n",
            "Score: 9.228848457336426\n"
          ]
        }
      ]
    },
    {
      "cell_type": "code",
      "source": [
        "print(FCN_tuner.get_best_hyperparameters()[0])"
      ],
      "metadata": {
        "colab": {
          "base_uri": "https://localhost:8080/"
        },
        "id": "ji6hHIvERGNL",
        "outputId": "8347d5b5-be85-41b6-c95f-2a3af1a5ce53"
      },
      "execution_count": null,
      "outputs": [
        {
          "output_type": "stream",
          "name": "stdout",
          "text": [
            "<keras_tuner.engine.hyperparameters.hyperparameters.HyperParameters object at 0x7fe044551d00>\n"
          ]
        }
      ]
    },
    {
      "cell_type": "code",
      "source": [
        "best_hps = FCN_tuner.get_best_hyperparameters(num_trials=1)[0]"
      ],
      "metadata": {
        "id": "WlP1_p28RLYm"
      },
      "execution_count": null,
      "outputs": []
    },
    {
      "cell_type": "code",
      "source": [
        "final_FCN_model = build_FCN_model(best_hps)"
      ],
      "metadata": {
        "colab": {
          "base_uri": "https://localhost:8080/"
        },
        "id": "c2xluxFrRPAQ",
        "outputId": "6ecf1754-fe11-4ea3-eb72-85c24c096e7f"
      },
      "execution_count": null,
      "outputs": [
        {
          "output_type": "stream",
          "name": "stderr",
          "text": [
            "/usr/local/lib/python3.8/dist-packages/keras/optimizers/optimizer_v2/adam.py:117: UserWarning: The `lr` argument is deprecated, use `learning_rate` instead.\n",
            "  super().__init__(name, **kwargs)\n"
          ]
        }
      ]
    },
    {
      "cell_type": "code",
      "source": [
        "history = final_FCN_model.fit(X_train, y_train,validation_data=(X_test, y_test),epochs=20,batch_size=32)"
      ],
      "metadata": {
        "colab": {
          "base_uri": "https://localhost:8080/"
        },
        "id": "6TnNdvduRacd",
        "outputId": "92274378-80ba-4d71-b7c2-1f45d4f1e63b"
      },
      "execution_count": null,
      "outputs": [
        {
          "output_type": "stream",
          "name": "stdout",
          "text": [
            "Epoch 1/20\n",
            "1328/1328 [==============================] - 24s 17ms/step - loss: 0.4573 - mae: 5.7340 - val_loss: 0.3995 - val_mae: 5.5068\n",
            "Epoch 2/20\n",
            "1328/1328 [==============================] - 23s 17ms/step - loss: 0.3858 - mae: 5.3856 - val_loss: 0.3841 - val_mae: 5.4051\n",
            "Epoch 3/20\n",
            "1328/1328 [==============================] - 23s 17ms/step - loss: 0.3806 - mae: 5.3393 - val_loss: 0.3853 - val_mae: 5.4002\n",
            "Epoch 4/20\n",
            "1328/1328 [==============================] - 22s 17ms/step - loss: 0.3760 - mae: 5.3035 - val_loss: 0.3775 - val_mae: 5.3444\n",
            "Epoch 5/20\n",
            "1328/1328 [==============================] - 22s 17ms/step - loss: 0.3746 - mae: 5.2886 - val_loss: 0.3764 - val_mae: 5.3456\n",
            "Epoch 6/20\n",
            "1328/1328 [==============================] - 22s 17ms/step - loss: 0.3726 - mae: 5.2741 - val_loss: 0.3750 - val_mae: 5.3002\n",
            "Epoch 7/20\n",
            "1328/1328 [==============================] - 23s 17ms/step - loss: 0.3709 - mae: 5.2618 - val_loss: 0.3756 - val_mae: 5.3083\n",
            "Epoch 8/20\n",
            "1328/1328 [==============================] - 22s 17ms/step - loss: 0.3697 - mae: 5.2509 - val_loss: 0.3708 - val_mae: 5.2804\n",
            "Epoch 9/20\n",
            "1328/1328 [==============================] - 23s 17ms/step - loss: 0.3679 - mae: 5.2342 - val_loss: 0.3718 - val_mae: 5.2541\n",
            "Epoch 10/20\n",
            "1328/1328 [==============================] - 22s 17ms/step - loss: 0.3680 - mae: 5.2332 - val_loss: 0.3780 - val_mae: 5.3458\n",
            "Epoch 11/20\n",
            "1328/1328 [==============================] - 22s 17ms/step - loss: 0.3669 - mae: 5.2241 - val_loss: 0.3694 - val_mae: 5.2622\n",
            "Epoch 12/20\n",
            "1328/1328 [==============================] - 23s 17ms/step - loss: 0.3657 - mae: 5.2104 - val_loss: 0.3678 - val_mae: 5.2433\n",
            "Epoch 13/20\n",
            "1328/1328 [==============================] - 22s 17ms/step - loss: 0.3651 - mae: 5.2133 - val_loss: 0.3687 - val_mae: 5.2289\n",
            "Epoch 14/20\n",
            "1328/1328 [==============================] - 23s 17ms/step - loss: 0.3647 - mae: 5.2046 - val_loss: 0.3671 - val_mae: 5.2317\n",
            "Epoch 15/20\n",
            "1328/1328 [==============================] - 22s 17ms/step - loss: 0.3640 - mae: 5.1927 - val_loss: 0.3826 - val_mae: 5.3213\n",
            "Epoch 16/20\n",
            "1328/1328 [==============================] - 23s 18ms/step - loss: 0.3635 - mae: 5.1925 - val_loss: 0.3669 - val_mae: 5.2209\n",
            "Epoch 17/20\n",
            "1328/1328 [==============================] - 22s 17ms/step - loss: 0.3630 - mae: 5.1899 - val_loss: 0.3675 - val_mae: 5.2327\n",
            "Epoch 18/20\n",
            "1328/1328 [==============================] - 22s 17ms/step - loss: 0.3618 - mae: 5.1794 - val_loss: 0.3711 - val_mae: 5.2416\n",
            "Epoch 19/20\n",
            "1328/1328 [==============================] - 22s 17ms/step - loss: 0.3619 - mae: 5.1770 - val_loss: 0.3705 - val_mae: 5.2529\n",
            "Epoch 20/20\n",
            "1328/1328 [==============================] - 22s 17ms/step - loss: 0.3610 - mae: 5.1707 - val_loss: 0.3689 - val_mae: 5.2405\n"
          ]
        }
      ]
    },
    {
      "cell_type": "code",
      "source": [
        "y_pred = final_FCN_model.predict(X_test)"
      ],
      "metadata": {
        "colab": {
          "base_uri": "https://localhost:8080/"
        },
        "id": "zfNchsULRgA4",
        "outputId": "d90a36aa-ae5a-489d-85ed-2a03a8520df1"
      },
      "execution_count": null,
      "outputs": [
        {
          "output_type": "stream",
          "name": "stdout",
          "text": [
            "332/332 [==============================] - 2s 5ms/step\n"
          ]
        }
      ]
    },
    {
      "cell_type": "code",
      "source": [
        "perf_metrics(y_test, y_pred, \"Tuned Fully Convolutinal Network\")"
      ],
      "metadata": {
        "colab": {
          "base_uri": "https://localhost:8080/"
        },
        "id": "3u_QGD7gRkMj",
        "outputId": "7a1ec657-3fc2-4a2a-ca4a-4751781cc378"
      },
      "execution_count": null,
      "outputs": [
        {
          "output_type": "stream",
          "name": "stdout",
          "text": [
            "Tuned Fully Convolutinal Network Mean Squared Error: 103.13\n",
            "Tuned Fully Convolutinal Network Mean Absolute Error: 5.24\n",
            "Tuned Fully Convolutinal Network R-Squared Value: 0.33\n",
            "Tuned Fully Convolutinal Network Adjusted R-Squared Value: 0.33 \n",
            "\n"
          ]
        }
      ]
    },
    {
      "cell_type": "markdown",
      "source": [
        "# Save best model weights\n",
        "We have to save the Self Tunes Feed Forward Neural Network"
      ],
      "metadata": {
        "id": "3P0qzOULABx0"
      }
    },
    {
      "cell_type": "code",
      "source": [
        "FFNN.save_weights('/content/drive/MyDrive/Deep Learning/LOSPredictionWeights/')"
      ],
      "metadata": {
        "id": "ABTNcDbyAnfS"
      },
      "execution_count": null,
      "outputs": []
    },
    {
      "cell_type": "markdown",
      "metadata": {
        "id": "B_3Y57eLVINg"
      },
      "source": [
        "#  References\n",
        "  - Johnson AEW, Pollard TJ, Shen L, Lehman LH, Feng M, Ghassemi M, Moody B, Szolovits P, Celi LA, Mark RG. MIMIC-III, a freely accessible critical care database. Scientific data. 2016 May 24;3(1):1-9.\n",
        "  - Hu, S., Teng, F., Huang, L., Yan, J., & Zhang, H. (2021). An explainable CNN approach for medical codes prediction from clinical text. BMC Medical Informatics and Decision Making, 21, 1-12\n",
        "  - Straathof, B. T. (2020). A Deep Learning Approach to Predicting the Length of Stay of Newborns in the Neonatal Intensive Care Unit.\n",
        "  - Gentimis, T., Ala’J, A., Durante, A., Cook, K., & Steele, R.: Predicting hospital length of stay using neural networks on mimic iii data. In 2017 IEEE 15th International Conference on Dependable, Autonomic and Secure Computing, 15th International Conference on Pervasive Intelligence and Computing, 3rd International Conference on Big Data Intelligence and Computing and Cyber Science and Technology Congress (DASC/PiCom/DataCom/CyberSciTech). (pp. 1194–1201). IEEE\n",
        "  - Jana, S., Dasgupta, T., & Dey, L. (2022). Using nursing notes to predict length of stay in ICU for critically ill patient. In Multimodal AI in healthcare: A paradigm shift in health intelligence. Studies in computational intelligence. Springer.\n",
        "  - Predicting hospital length-of-stay at time of admission - https://towardsdatascience.com/predicting-hospital-length-of-stay-at-time-of-admission-55dfdfe69598\n",
        "\t"
      ]
    },
    {
      "cell_type": "markdown",
      "metadata": {
        "id": "0pxRhb5bVINg"
      },
      "source": [
        "# Credits\n",
        "\n",
        "- This code is based on the following Github Repositories - \n",
        "\n",
        "1. TDS Repo - https://github.com/daniel-codes/hospital-los-predictor\n",
        "2. NICU Repo - https://github.com/bt-s/NICU-length-of-stay-prediction\n",
        "3. MLH Repo - https://github.com/sdasara95/Machine-Learning-in-Healthcare\n",
        "4. RNN Repo - https://github.com/sudhan-bhattarai/MIMIC-III\n",
        "5. Keras Repo - https://github.com/cothurn/LCU-LoS-Prediction-based-on-MIMIC-III-with-Keras\n",
        "6. TPC Repo - https://github.com/EmmaRocheteau/TPC-LoS-prediction\n",
        "7. Usama Repo - https://github.com/usama6679/LENGTH-OF-STAY-PREDICTION-AT-TIME-OF-AhhDMISSION\n",
        "8. Alki Repo - https://github.com/alki284/LOS-Prediction\n",
        "9. Chantal Repo - https://github.com/ChantalMP/Unsupervised-Pre-Training-on-Patient-Population-Graphs-for-Patient-Level-Predictions\n"
      ]
    }
  ],
  "metadata": {
    "colab": {
      "provenance": [],
      "collapsed_sections": [
        "PBBLFNVLLjXF",
        "nXqRoIzaGcMw",
        "z4Hwqufu50fX",
        "3P0qzOULABx0"
      ]
    },
    "gpuClass": "standard",
    "kernelspec": {
      "display_name": "Python 3",
      "name": "python3"
    },
    "language_info": {
      "name": "python"
    },
    "accelerator": "GPU"
  },
  "nbformat": 4,
  "nbformat_minor": 0
}